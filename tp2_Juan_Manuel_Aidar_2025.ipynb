{
  "nbformat": 4,
  "nbformat_minor": 0,
  "metadata": {
    "colab": {
      "provenance": [],
      "authorship_tag": "ABX9TyMisx/zFomFjRHc/HYJA6Y9",
      "include_colab_link": true
    },
    "kernelspec": {
      "name": "python3",
      "display_name": "Python 3"
    },
    "language_info": {
      "name": "python"
    }
  },
  "cells": [
    {
      "cell_type": "markdown",
      "metadata": {
        "id": "view-in-github",
        "colab_type": "text"
      },
      "source": [
        "<a href=\"https://colab.research.google.com/github/jaidar2003/IA/blob/main/tp2_Juan_Manuel_Aidar_2025.ipynb\" target=\"_parent\"><img src=\"https://colab.research.google.com/assets/colab-badge.svg\" alt=\"Open In Colab\"/></a>"
      ]
    },
    {
      "cell_type": "code",
      "execution_count": null,
      "metadata": {
        "id": "b7pkNVz_NPI0"
      },
      "outputs": [],
      "source": []
    },
    {
      "cell_type": "code",
      "metadata": {
        "colab": {
          "base_uri": "https://localhost:8080/"
        },
        "id": "46e8a19e",
        "outputId": "6f1254c1-187e-481f-f526-2343efbb677f"
      },
      "source": [
        "!wget https://github.com/stedy/Machine-Learning-with-R-datasets/raw/master/insurance.csv"
      ],
      "execution_count": null,
      "outputs": [
        {
          "output_type": "stream",
          "name": "stdout",
          "text": [
            "--2025-09-01 17:12:18--  https://github.com/stedy/Machine-Learning-with-R-datasets/raw/master/insurance.csv\n",
            "Resolving github.com (github.com)... 140.82.114.4\n",
            "Connecting to github.com (github.com)|140.82.114.4|:443... connected.\n",
            "HTTP request sent, awaiting response... 302 Found\n",
            "Location: https://raw.githubusercontent.com/stedy/Machine-Learning-with-R-datasets/master/insurance.csv [following]\n",
            "--2025-09-01 17:12:18--  https://raw.githubusercontent.com/stedy/Machine-Learning-with-R-datasets/master/insurance.csv\n",
            "Resolving raw.githubusercontent.com (raw.githubusercontent.com)... 185.199.108.133, 185.199.109.133, 185.199.110.133, ...\n",
            "Connecting to raw.githubusercontent.com (raw.githubusercontent.com)|185.199.108.133|:443... connected.\n",
            "HTTP request sent, awaiting response... 200 OK\n",
            "Length: 54288 (53K) [text/plain]\n",
            "Saving to: ‘insurance.csv.2’\n",
            "\n",
            "insurance.csv.2     100%[===================>]  53.02K  --.-KB/s    in 0.01s   \n",
            "\n",
            "2025-09-01 17:12:18 (3.94 MB/s) - ‘insurance.csv.2’ saved [54288/54288]\n",
            "\n"
          ]
        }
      ]
    },
    {
      "cell_type": "markdown",
      "metadata": {
        "id": "da9a8eb9"
      },
      "source": [
        "# Task\n",
        "Analyze the numerical variables in the \"insurance.csv\" dataset, including checking data types, missing values, duplicates, and correlations."
      ]
    },
    {
      "cell_type": "markdown",
      "metadata": {
        "id": "513b3cbe"
      },
      "source": [
        "## Load the dataset\n",
        "\n",
        "### Subtask:\n",
        "Load the `insurance.csv` file into a pandas DataFrame.\n"
      ]
    },
    {
      "cell_type": "markdown",
      "metadata": {
        "id": "b5102a20"
      },
      "source": [
        "**Reasoning**:\n",
        "Import the pandas library and load the data into a pandas DataFrame. Then display the first few rows and the info of the DataFrame.\n",
        "\n"
      ]
    },
    {
      "cell_type": "code",
      "metadata": {
        "colab": {
          "base_uri": "https://localhost:8080/",
          "height": 487
        },
        "id": "6c494741",
        "outputId": "572a0b36-6d8a-41dd-82d4-4a2eaa747ef6"
      },
      "source": [
        "import pandas as pd\n",
        "\n",
        "df = pd.read_csv('insurance.csv')\n",
        "display(df.head())\n",
        "display(df.info())"
      ],
      "execution_count": null,
      "outputs": [
        {
          "output_type": "display_data",
          "data": {
            "text/plain": [
              "   age     sex     bmi  children smoker     region      charges\n",
              "0   19  female  27.900         0    yes  southwest  16884.92400\n",
              "1   18    male  33.770         1     no  southeast   1725.55230\n",
              "2   28    male  33.000         3     no  southeast   4449.46200\n",
              "3   33    male  22.705         0     no  northwest  21984.47061\n",
              "4   32    male  28.880         0     no  northwest   3866.85520"
            ],
            "text/html": [
              "\n",
              "  <div id=\"df-1cde4530-1007-4ad8-afcf-679334271e32\" class=\"colab-df-container\">\n",
              "    <div>\n",
              "<style scoped>\n",
              "    .dataframe tbody tr th:only-of-type {\n",
              "        vertical-align: middle;\n",
              "    }\n",
              "\n",
              "    .dataframe tbody tr th {\n",
              "        vertical-align: top;\n",
              "    }\n",
              "\n",
              "    .dataframe thead th {\n",
              "        text-align: right;\n",
              "    }\n",
              "</style>\n",
              "<table border=\"1\" class=\"dataframe\">\n",
              "  <thead>\n",
              "    <tr style=\"text-align: right;\">\n",
              "      <th></th>\n",
              "      <th>age</th>\n",
              "      <th>sex</th>\n",
              "      <th>bmi</th>\n",
              "      <th>children</th>\n",
              "      <th>smoker</th>\n",
              "      <th>region</th>\n",
              "      <th>charges</th>\n",
              "    </tr>\n",
              "  </thead>\n",
              "  <tbody>\n",
              "    <tr>\n",
              "      <th>0</th>\n",
              "      <td>19</td>\n",
              "      <td>female</td>\n",
              "      <td>27.900</td>\n",
              "      <td>0</td>\n",
              "      <td>yes</td>\n",
              "      <td>southwest</td>\n",
              "      <td>16884.92400</td>\n",
              "    </tr>\n",
              "    <tr>\n",
              "      <th>1</th>\n",
              "      <td>18</td>\n",
              "      <td>male</td>\n",
              "      <td>33.770</td>\n",
              "      <td>1</td>\n",
              "      <td>no</td>\n",
              "      <td>southeast</td>\n",
              "      <td>1725.55230</td>\n",
              "    </tr>\n",
              "    <tr>\n",
              "      <th>2</th>\n",
              "      <td>28</td>\n",
              "      <td>male</td>\n",
              "      <td>33.000</td>\n",
              "      <td>3</td>\n",
              "      <td>no</td>\n",
              "      <td>southeast</td>\n",
              "      <td>4449.46200</td>\n",
              "    </tr>\n",
              "    <tr>\n",
              "      <th>3</th>\n",
              "      <td>33</td>\n",
              "      <td>male</td>\n",
              "      <td>22.705</td>\n",
              "      <td>0</td>\n",
              "      <td>no</td>\n",
              "      <td>northwest</td>\n",
              "      <td>21984.47061</td>\n",
              "    </tr>\n",
              "    <tr>\n",
              "      <th>4</th>\n",
              "      <td>32</td>\n",
              "      <td>male</td>\n",
              "      <td>28.880</td>\n",
              "      <td>0</td>\n",
              "      <td>no</td>\n",
              "      <td>northwest</td>\n",
              "      <td>3866.85520</td>\n",
              "    </tr>\n",
              "  </tbody>\n",
              "</table>\n",
              "</div>\n",
              "    <div class=\"colab-df-buttons\">\n",
              "\n",
              "  <div class=\"colab-df-container\">\n",
              "    <button class=\"colab-df-convert\" onclick=\"convertToInteractive('df-1cde4530-1007-4ad8-afcf-679334271e32')\"\n",
              "            title=\"Convert this dataframe to an interactive table.\"\n",
              "            style=\"display:none;\">\n",
              "\n",
              "  <svg xmlns=\"http://www.w3.org/2000/svg\" height=\"24px\" viewBox=\"0 -960 960 960\">\n",
              "    <path d=\"M120-120v-720h720v720H120Zm60-500h600v-160H180v160Zm220 220h160v-160H400v160Zm0 220h160v-160H400v160ZM180-400h160v-160H180v160Zm440 0h160v-160H620v160ZM180-180h160v-160H180v160Zm440 0h160v-160H620v160Z\"/>\n",
              "  </svg>\n",
              "    </button>\n",
              "\n",
              "  <style>\n",
              "    .colab-df-container {\n",
              "      display:flex;\n",
              "      gap: 12px;\n",
              "    }\n",
              "\n",
              "    .colab-df-convert {\n",
              "      background-color: #E8F0FE;\n",
              "      border: none;\n",
              "      border-radius: 50%;\n",
              "      cursor: pointer;\n",
              "      display: none;\n",
              "      fill: #1967D2;\n",
              "      height: 32px;\n",
              "      padding: 0 0 0 0;\n",
              "      width: 32px;\n",
              "    }\n",
              "\n",
              "    .colab-df-convert:hover {\n",
              "      background-color: #E2EBFA;\n",
              "      box-shadow: 0px 1px 2px rgba(60, 64, 67, 0.3), 0px 1px 3px 1px rgba(60, 64, 67, 0.15);\n",
              "      fill: #174EA6;\n",
              "    }\n",
              "\n",
              "    .colab-df-buttons div {\n",
              "      margin-bottom: 4px;\n",
              "    }\n",
              "\n",
              "    [theme=dark] .colab-df-convert {\n",
              "      background-color: #3B4455;\n",
              "      fill: #D2E3FC;\n",
              "    }\n",
              "\n",
              "    [theme=dark] .colab-df-convert:hover {\n",
              "      background-color: #434B5C;\n",
              "      box-shadow: 0px 1px 3px 1px rgba(0, 0, 0, 0.15);\n",
              "      filter: drop-shadow(0px 1px 2px rgba(0, 0, 0, 0.3));\n",
              "      fill: #FFFFFF;\n",
              "    }\n",
              "  </style>\n",
              "\n",
              "    <script>\n",
              "      const buttonEl =\n",
              "        document.querySelector('#df-1cde4530-1007-4ad8-afcf-679334271e32 button.colab-df-convert');\n",
              "      buttonEl.style.display =\n",
              "        google.colab.kernel.accessAllowed ? 'block' : 'none';\n",
              "\n",
              "      async function convertToInteractive(key) {\n",
              "        const element = document.querySelector('#df-1cde4530-1007-4ad8-afcf-679334271e32');\n",
              "        const dataTable =\n",
              "          await google.colab.kernel.invokeFunction('convertToInteractive',\n",
              "                                                    [key], {});\n",
              "        if (!dataTable) return;\n",
              "\n",
              "        const docLinkHtml = 'Like what you see? Visit the ' +\n",
              "          '<a target=\"_blank\" href=https://colab.research.google.com/notebooks/data_table.ipynb>data table notebook</a>'\n",
              "          + ' to learn more about interactive tables.';\n",
              "        element.innerHTML = '';\n",
              "        dataTable['output_type'] = 'display_data';\n",
              "        await google.colab.output.renderOutput(dataTable, element);\n",
              "        const docLink = document.createElement('div');\n",
              "        docLink.innerHTML = docLinkHtml;\n",
              "        element.appendChild(docLink);\n",
              "      }\n",
              "    </script>\n",
              "  </div>\n",
              "\n",
              "\n",
              "    <div id=\"df-083f0e91-5907-429b-8bb0-80634f6fce8b\">\n",
              "      <button class=\"colab-df-quickchart\" onclick=\"quickchart('df-083f0e91-5907-429b-8bb0-80634f6fce8b')\"\n",
              "                title=\"Suggest charts\"\n",
              "                style=\"display:none;\">\n",
              "\n",
              "<svg xmlns=\"http://www.w3.org/2000/svg\" height=\"24px\"viewBox=\"0 0 24 24\"\n",
              "     width=\"24px\">\n",
              "    <g>\n",
              "        <path d=\"M19 3H5c-1.1 0-2 .9-2 2v14c0 1.1.9 2 2 2h14c1.1 0 2-.9 2-2V5c0-1.1-.9-2-2-2zM9 17H7v-7h2v7zm4 0h-2V7h2v10zm4 0h-2v-4h2v4z\"/>\n",
              "    </g>\n",
              "</svg>\n",
              "      </button>\n",
              "\n",
              "<style>\n",
              "  .colab-df-quickchart {\n",
              "      --bg-color: #E8F0FE;\n",
              "      --fill-color: #1967D2;\n",
              "      --hover-bg-color: #E2EBFA;\n",
              "      --hover-fill-color: #174EA6;\n",
              "      --disabled-fill-color: #AAA;\n",
              "      --disabled-bg-color: #DDD;\n",
              "  }\n",
              "\n",
              "  [theme=dark] .colab-df-quickchart {\n",
              "      --bg-color: #3B4455;\n",
              "      --fill-color: #D2E3FC;\n",
              "      --hover-bg-color: #434B5C;\n",
              "      --hover-fill-color: #FFFFFF;\n",
              "      --disabled-bg-color: #3B4455;\n",
              "      --disabled-fill-color: #666;\n",
              "  }\n",
              "\n",
              "  .colab-df-quickchart {\n",
              "    background-color: var(--bg-color);\n",
              "    border: none;\n",
              "    border-radius: 50%;\n",
              "    cursor: pointer;\n",
              "    display: none;\n",
              "    fill: var(--fill-color);\n",
              "    height: 32px;\n",
              "    padding: 0;\n",
              "    width: 32px;\n",
              "  }\n",
              "\n",
              "  .colab-df-quickchart:hover {\n",
              "    background-color: var(--hover-bg-color);\n",
              "    box-shadow: 0 1px 2px rgba(60, 64, 67, 0.3), 0 1px 3px 1px rgba(60, 64, 67, 0.15);\n",
              "    fill: var(--button-hover-fill-color);\n",
              "  }\n",
              "\n",
              "  .colab-df-quickchart-complete:disabled,\n",
              "  .colab-df-quickchart-complete:disabled:hover {\n",
              "    background-color: var(--disabled-bg-color);\n",
              "    fill: var(--disabled-fill-color);\n",
              "    box-shadow: none;\n",
              "  }\n",
              "\n",
              "  .colab-df-spinner {\n",
              "    border: 2px solid var(--fill-color);\n",
              "    border-color: transparent;\n",
              "    border-bottom-color: var(--fill-color);\n",
              "    animation:\n",
              "      spin 1s steps(1) infinite;\n",
              "  }\n",
              "\n",
              "  @keyframes spin {\n",
              "    0% {\n",
              "      border-color: transparent;\n",
              "      border-bottom-color: var(--fill-color);\n",
              "      border-left-color: var(--fill-color);\n",
              "    }\n",
              "    20% {\n",
              "      border-color: transparent;\n",
              "      border-left-color: var(--fill-color);\n",
              "      border-top-color: var(--fill-color);\n",
              "    }\n",
              "    30% {\n",
              "      border-color: transparent;\n",
              "      border-left-color: var(--fill-color);\n",
              "      border-top-color: var(--fill-color);\n",
              "      border-right-color: var(--fill-color);\n",
              "    }\n",
              "    40% {\n",
              "      border-color: transparent;\n",
              "      border-right-color: var(--fill-color);\n",
              "      border-top-color: var(--fill-color);\n",
              "    }\n",
              "    60% {\n",
              "      border-color: transparent;\n",
              "      border-right-color: var(--fill-color);\n",
              "    }\n",
              "    80% {\n",
              "      border-color: transparent;\n",
              "      border-right-color: var(--fill-color);\n",
              "      border-bottom-color: var(--fill-color);\n",
              "    }\n",
              "    90% {\n",
              "      border-color: transparent;\n",
              "      border-bottom-color: var(--fill-color);\n",
              "    }\n",
              "  }\n",
              "</style>\n",
              "\n",
              "      <script>\n",
              "        async function quickchart(key) {\n",
              "          const quickchartButtonEl =\n",
              "            document.querySelector('#' + key + ' button');\n",
              "          quickchartButtonEl.disabled = true;  // To prevent multiple clicks.\n",
              "          quickchartButtonEl.classList.add('colab-df-spinner');\n",
              "          try {\n",
              "            const charts = await google.colab.kernel.invokeFunction(\n",
              "                'suggestCharts', [key], {});\n",
              "          } catch (error) {\n",
              "            console.error('Error during call to suggestCharts:', error);\n",
              "          }\n",
              "          quickchartButtonEl.classList.remove('colab-df-spinner');\n",
              "          quickchartButtonEl.classList.add('colab-df-quickchart-complete');\n",
              "        }\n",
              "        (() => {\n",
              "          let quickchartButtonEl =\n",
              "            document.querySelector('#df-083f0e91-5907-429b-8bb0-80634f6fce8b button');\n",
              "          quickchartButtonEl.style.display =\n",
              "            google.colab.kernel.accessAllowed ? 'block' : 'none';\n",
              "        })();\n",
              "      </script>\n",
              "    </div>\n",
              "\n",
              "    </div>\n",
              "  </div>\n"
            ],
            "application/vnd.google.colaboratory.intrinsic+json": {
              "type": "dataframe",
              "summary": "{\n  \"name\": \"display(df\",\n  \"rows\": 5,\n  \"fields\": [\n    {\n      \"column\": \"age\",\n      \"properties\": {\n        \"dtype\": \"number\",\n        \"std\": 7,\n        \"min\": 18,\n        \"max\": 33,\n        \"num_unique_values\": 5,\n        \"samples\": [\n          18,\n          32,\n          28\n        ],\n        \"semantic_type\": \"\",\n        \"description\": \"\"\n      }\n    },\n    {\n      \"column\": \"sex\",\n      \"properties\": {\n        \"dtype\": \"category\",\n        \"num_unique_values\": 2,\n        \"samples\": [\n          \"male\",\n          \"female\"\n        ],\n        \"semantic_type\": \"\",\n        \"description\": \"\"\n      }\n    },\n    {\n      \"column\": \"bmi\",\n      \"properties\": {\n        \"dtype\": \"number\",\n        \"std\": 4.4522275323707365,\n        \"min\": 22.705,\n        \"max\": 33.77,\n        \"num_unique_values\": 5,\n        \"samples\": [\n          33.77,\n          28.88\n        ],\n        \"semantic_type\": \"\",\n        \"description\": \"\"\n      }\n    },\n    {\n      \"column\": \"children\",\n      \"properties\": {\n        \"dtype\": \"number\",\n        \"std\": 1,\n        \"min\": 0,\n        \"max\": 3,\n        \"num_unique_values\": 3,\n        \"samples\": [\n          0,\n          1\n        ],\n        \"semantic_type\": \"\",\n        \"description\": \"\"\n      }\n    },\n    {\n      \"column\": \"smoker\",\n      \"properties\": {\n        \"dtype\": \"category\",\n        \"num_unique_values\": 2,\n        \"samples\": [\n          \"no\",\n          \"yes\"\n        ],\n        \"semantic_type\": \"\",\n        \"description\": \"\"\n      }\n    },\n    {\n      \"column\": \"region\",\n      \"properties\": {\n        \"dtype\": \"string\",\n        \"num_unique_values\": 3,\n        \"samples\": [\n          \"southwest\",\n          \"southeast\"\n        ],\n        \"semantic_type\": \"\",\n        \"description\": \"\"\n      }\n    },\n    {\n      \"column\": \"charges\",\n      \"properties\": {\n        \"dtype\": \"number\",\n        \"std\": 9051.009157648406,\n        \"min\": 1725.5523,\n        \"max\": 21984.47061,\n        \"num_unique_values\": 5,\n        \"samples\": [\n          1725.5523,\n          3866.8552\n        ],\n        \"semantic_type\": \"\",\n        \"description\": \"\"\n      }\n    }\n  ]\n}"
            }
          },
          "metadata": {}
        },
        {
          "output_type": "stream",
          "name": "stdout",
          "text": [
            "<class 'pandas.core.frame.DataFrame'>\n",
            "RangeIndex: 1338 entries, 0 to 1337\n",
            "Data columns (total 7 columns):\n",
            " #   Column    Non-Null Count  Dtype  \n",
            "---  ------    --------------  -----  \n",
            " 0   age       1338 non-null   int64  \n",
            " 1   sex       1338 non-null   object \n",
            " 2   bmi       1338 non-null   float64\n",
            " 3   children  1338 non-null   int64  \n",
            " 4   smoker    1338 non-null   object \n",
            " 5   region    1338 non-null   object \n",
            " 6   charges   1338 non-null   float64\n",
            "dtypes: float64(2), int64(2), object(3)\n",
            "memory usage: 73.3+ KB\n"
          ]
        },
        {
          "output_type": "display_data",
          "data": {
            "text/plain": [
              "None"
            ]
          },
          "metadata": {}
        }
      ]
    },
    {
      "cell_type": "markdown",
      "metadata": {
        "id": "eca416e7"
      },
      "source": [
        "## Identify numerical variables\n",
        "\n",
        "### Subtask:\n",
        "Determine which columns in the DataFrame contain numerical data.\n"
      ]
    },
    {
      "cell_type": "markdown",
      "metadata": {
        "id": "37a72dc7"
      },
      "source": [
        "**Reasoning**:\n",
        "Display the data types of each column using `.info()` and identify the numerical columns.\n",
        "\n"
      ]
    },
    {
      "cell_type": "code",
      "metadata": {
        "colab": {
          "base_uri": "https://localhost:8080/",
          "height": 315
        },
        "id": "6f244dcd",
        "outputId": "b542fa72-8414-4023-c3ba-fc64f23aea7f"
      },
      "source": [
        "display(df.info())\n",
        "numerical_cols = df.select_dtypes(include=['int64', 'float64']).columns.tolist()\n",
        "print(\"Numerical columns:\", numerical_cols)"
      ],
      "execution_count": null,
      "outputs": [
        {
          "output_type": "stream",
          "name": "stdout",
          "text": [
            "<class 'pandas.core.frame.DataFrame'>\n",
            "RangeIndex: 1338 entries, 0 to 1337\n",
            "Data columns (total 7 columns):\n",
            " #   Column    Non-Null Count  Dtype  \n",
            "---  ------    --------------  -----  \n",
            " 0   age       1338 non-null   int64  \n",
            " 1   sex       1338 non-null   object \n",
            " 2   bmi       1338 non-null   float64\n",
            " 3   children  1338 non-null   int64  \n",
            " 4   smoker    1338 non-null   object \n",
            " 5   region    1338 non-null   object \n",
            " 6   charges   1338 non-null   float64\n",
            "dtypes: float64(2), int64(2), object(3)\n",
            "memory usage: 73.3+ KB\n"
          ]
        },
        {
          "output_type": "display_data",
          "data": {
            "text/plain": [
              "None"
            ]
          },
          "metadata": {}
        },
        {
          "output_type": "stream",
          "name": "stdout",
          "text": [
            "Numerical columns: ['age', 'bmi', 'children', 'charges']\n"
          ]
        }
      ]
    },
    {
      "cell_type": "markdown",
      "metadata": {
        "id": "3510ee7e"
      },
      "source": [
        "## Check for missing values\n",
        "\n",
        "### Subtask:\n",
        "Identify if there are any missing values in the numerical columns and decide how to handle them if necessary.\n"
      ]
    },
    {
      "cell_type": "markdown",
      "metadata": {
        "id": "bef377e8"
      },
      "source": [
        "**Reasoning**:\n",
        "Calculate and display the number of missing values for each column in the DataFrame to identify if there are any missing values in the numerical columns.\n",
        "\n"
      ]
    },
    {
      "cell_type": "code",
      "metadata": {
        "colab": {
          "base_uri": "https://localhost:8080/",
          "height": 341
        },
        "id": "83efc64d",
        "outputId": "0da52dd7-bef7-4ae8-f51b-8bad61379e6d"
      },
      "source": [
        "missing_values = df.isnull().sum()\n",
        "display(missing_values)"
      ],
      "execution_count": null,
      "outputs": [
        {
          "output_type": "display_data",
          "data": {
            "text/plain": [
              "age         0\n",
              "sex         0\n",
              "bmi         0\n",
              "children    0\n",
              "smoker      0\n",
              "region      0\n",
              "charges     0\n",
              "dtype: int64"
            ],
            "text/html": [
              "<div>\n",
              "<style scoped>\n",
              "    .dataframe tbody tr th:only-of-type {\n",
              "        vertical-align: middle;\n",
              "    }\n",
              "\n",
              "    .dataframe tbody tr th {\n",
              "        vertical-align: top;\n",
              "    }\n",
              "\n",
              "    .dataframe thead th {\n",
              "        text-align: right;\n",
              "    }\n",
              "</style>\n",
              "<table border=\"1\" class=\"dataframe\">\n",
              "  <thead>\n",
              "    <tr style=\"text-align: right;\">\n",
              "      <th></th>\n",
              "      <th>0</th>\n",
              "    </tr>\n",
              "  </thead>\n",
              "  <tbody>\n",
              "    <tr>\n",
              "      <th>age</th>\n",
              "      <td>0</td>\n",
              "    </tr>\n",
              "    <tr>\n",
              "      <th>sex</th>\n",
              "      <td>0</td>\n",
              "    </tr>\n",
              "    <tr>\n",
              "      <th>bmi</th>\n",
              "      <td>0</td>\n",
              "    </tr>\n",
              "    <tr>\n",
              "      <th>children</th>\n",
              "      <td>0</td>\n",
              "    </tr>\n",
              "    <tr>\n",
              "      <th>smoker</th>\n",
              "      <td>0</td>\n",
              "    </tr>\n",
              "    <tr>\n",
              "      <th>region</th>\n",
              "      <td>0</td>\n",
              "    </tr>\n",
              "    <tr>\n",
              "      <th>charges</th>\n",
              "      <td>0</td>\n",
              "    </tr>\n",
              "  </tbody>\n",
              "</table>\n",
              "</div><br><label><b>dtype:</b> int64</label>"
            ]
          },
          "metadata": {}
        }
      ]
    },
    {
      "cell_type": "markdown",
      "metadata": {
        "id": "ca249edc"
      },
      "source": [
        "## Check for duplicate rows\n",
        "\n",
        "### Subtask:\n",
        "Identify if there are any duplicate rows in the dataset.\n"
      ]
    },
    {
      "cell_type": "markdown",
      "metadata": {
        "id": "a3947add"
      },
      "source": [
        "**Reasoning**:\n",
        "Check for duplicate rows in the DataFrame and print the count.\n",
        "\n"
      ]
    },
    {
      "cell_type": "code",
      "metadata": {
        "colab": {
          "base_uri": "https://localhost:8080/"
        },
        "id": "bd3b7eac",
        "outputId": "0e4f2a47-0deb-4911-c68d-f0e827687d6e"
      },
      "source": [
        "duplicate_rows_count = df.duplicated().sum()\n",
        "print(\"Total count of duplicate rows:\", duplicate_rows_count)"
      ],
      "execution_count": null,
      "outputs": [
        {
          "output_type": "stream",
          "name": "stdout",
          "text": [
            "Total count of duplicate rows: 1\n"
          ]
        }
      ]
    },
    {
      "cell_type": "markdown",
      "metadata": {
        "id": "86593a3c"
      },
      "source": [
        "## Calculate descriptive statistics\n",
        "\n",
        "### Subtask:\n",
        "Compute descriptive statistics (like mean, median, standard deviation, etc.) for the numerical variables.\n"
      ]
    },
    {
      "cell_type": "markdown",
      "metadata": {
        "id": "70c78e60"
      },
      "source": [
        "**Reasoning**:\n",
        "Compute and display descriptive statistics for the numerical columns.\n",
        "\n"
      ]
    },
    {
      "cell_type": "code",
      "metadata": {
        "colab": {
          "base_uri": "https://localhost:8080/",
          "height": 320
        },
        "id": "d6855ab7",
        "outputId": "b44954dc-b36d-4b5a-b2e8-1f1430bdada4"
      },
      "source": [
        "numerical_df = df[numerical_cols]\n",
        "descriptive_stats = numerical_df.describe()\n",
        "display(descriptive_stats)"
      ],
      "execution_count": null,
      "outputs": [
        {
          "output_type": "display_data",
          "data": {
            "text/plain": [
              "               age          bmi     children       charges\n",
              "count  1338.000000  1338.000000  1338.000000   1338.000000\n",
              "mean     39.207025    30.663397     1.094918  13270.422265\n",
              "std      14.049960     6.098187     1.205493  12110.011237\n",
              "min      18.000000    15.960000     0.000000   1121.873900\n",
              "25%      27.000000    26.296250     0.000000   4740.287150\n",
              "50%      39.000000    30.400000     1.000000   9382.033000\n",
              "75%      51.000000    34.693750     2.000000  16639.912515\n",
              "max      64.000000    53.130000     5.000000  63770.428010"
            ],
            "text/html": [
              "\n",
              "  <div id=\"df-66d5d99b-adeb-47c5-aca5-e1e8ecf0d921\" class=\"colab-df-container\">\n",
              "    <div>\n",
              "<style scoped>\n",
              "    .dataframe tbody tr th:only-of-type {\n",
              "        vertical-align: middle;\n",
              "    }\n",
              "\n",
              "    .dataframe tbody tr th {\n",
              "        vertical-align: top;\n",
              "    }\n",
              "\n",
              "    .dataframe thead th {\n",
              "        text-align: right;\n",
              "    }\n",
              "</style>\n",
              "<table border=\"1\" class=\"dataframe\">\n",
              "  <thead>\n",
              "    <tr style=\"text-align: right;\">\n",
              "      <th></th>\n",
              "      <th>age</th>\n",
              "      <th>bmi</th>\n",
              "      <th>children</th>\n",
              "      <th>charges</th>\n",
              "    </tr>\n",
              "  </thead>\n",
              "  <tbody>\n",
              "    <tr>\n",
              "      <th>count</th>\n",
              "      <td>1338.000000</td>\n",
              "      <td>1338.000000</td>\n",
              "      <td>1338.000000</td>\n",
              "      <td>1338.000000</td>\n",
              "    </tr>\n",
              "    <tr>\n",
              "      <th>mean</th>\n",
              "      <td>39.207025</td>\n",
              "      <td>30.663397</td>\n",
              "      <td>1.094918</td>\n",
              "      <td>13270.422265</td>\n",
              "    </tr>\n",
              "    <tr>\n",
              "      <th>std</th>\n",
              "      <td>14.049960</td>\n",
              "      <td>6.098187</td>\n",
              "      <td>1.205493</td>\n",
              "      <td>12110.011237</td>\n",
              "    </tr>\n",
              "    <tr>\n",
              "      <th>min</th>\n",
              "      <td>18.000000</td>\n",
              "      <td>15.960000</td>\n",
              "      <td>0.000000</td>\n",
              "      <td>1121.873900</td>\n",
              "    </tr>\n",
              "    <tr>\n",
              "      <th>25%</th>\n",
              "      <td>27.000000</td>\n",
              "      <td>26.296250</td>\n",
              "      <td>0.000000</td>\n",
              "      <td>4740.287150</td>\n",
              "    </tr>\n",
              "    <tr>\n",
              "      <th>50%</th>\n",
              "      <td>39.000000</td>\n",
              "      <td>30.400000</td>\n",
              "      <td>1.000000</td>\n",
              "      <td>9382.033000</td>\n",
              "    </tr>\n",
              "    <tr>\n",
              "      <th>75%</th>\n",
              "      <td>51.000000</td>\n",
              "      <td>34.693750</td>\n",
              "      <td>2.000000</td>\n",
              "      <td>16639.912515</td>\n",
              "    </tr>\n",
              "    <tr>\n",
              "      <th>max</th>\n",
              "      <td>64.000000</td>\n",
              "      <td>53.130000</td>\n",
              "      <td>5.000000</td>\n",
              "      <td>63770.428010</td>\n",
              "    </tr>\n",
              "  </tbody>\n",
              "</table>\n",
              "</div>\n",
              "    <div class=\"colab-df-buttons\">\n",
              "\n",
              "  <div class=\"colab-df-container\">\n",
              "    <button class=\"colab-df-convert\" onclick=\"convertToInteractive('df-66d5d99b-adeb-47c5-aca5-e1e8ecf0d921')\"\n",
              "            title=\"Convert this dataframe to an interactive table.\"\n",
              "            style=\"display:none;\">\n",
              "\n",
              "  <svg xmlns=\"http://www.w3.org/2000/svg\" height=\"24px\" viewBox=\"0 -960 960 960\">\n",
              "    <path d=\"M120-120v-720h720v720H120Zm60-500h600v-160H180v160Zm220 220h160v-160H400v160Zm0 220h160v-160H400v160ZM180-400h160v-160H180v160Zm440 0h160v-160H620v160ZM180-180h160v-160H180v160Zm440 0h160v-160H620v160Z\"/>\n",
              "  </svg>\n",
              "    </button>\n",
              "\n",
              "  <style>\n",
              "    .colab-df-container {\n",
              "      display:flex;\n",
              "      gap: 12px;\n",
              "    }\n",
              "\n",
              "    .colab-df-convert {\n",
              "      background-color: #E8F0FE;\n",
              "      border: none;\n",
              "      border-radius: 50%;\n",
              "      cursor: pointer;\n",
              "      display: none;\n",
              "      fill: #1967D2;\n",
              "      height: 32px;\n",
              "      padding: 0 0 0 0;\n",
              "      width: 32px;\n",
              "    }\n",
              "\n",
              "    .colab-df-convert:hover {\n",
              "      background-color: #E2EBFA;\n",
              "      box-shadow: 0px 1px 2px rgba(60, 64, 67, 0.3), 0px 1px 3px 1px rgba(60, 64, 67, 0.15);\n",
              "      fill: #174EA6;\n",
              "    }\n",
              "\n",
              "    .colab-df-buttons div {\n",
              "      margin-bottom: 4px;\n",
              "    }\n",
              "\n",
              "    [theme=dark] .colab-df-convert {\n",
              "      background-color: #3B4455;\n",
              "      fill: #D2E3FC;\n",
              "    }\n",
              "\n",
              "    [theme=dark] .colab-df-convert:hover {\n",
              "      background-color: #434B5C;\n",
              "      box-shadow: 0px 1px 3px 1px rgba(0, 0, 0, 0.15);\n",
              "      filter: drop-shadow(0px 1px 2px rgba(0, 0, 0, 0.3));\n",
              "      fill: #FFFFFF;\n",
              "    }\n",
              "  </style>\n",
              "\n",
              "    <script>\n",
              "      const buttonEl =\n",
              "        document.querySelector('#df-66d5d99b-adeb-47c5-aca5-e1e8ecf0d921 button.colab-df-convert');\n",
              "      buttonEl.style.display =\n",
              "        google.colab.kernel.accessAllowed ? 'block' : 'none';\n",
              "\n",
              "      async function convertToInteractive(key) {\n",
              "        const element = document.querySelector('#df-66d5d99b-adeb-47c5-aca5-e1e8ecf0d921');\n",
              "        const dataTable =\n",
              "          await google.colab.kernel.invokeFunction('convertToInteractive',\n",
              "                                                    [key], {});\n",
              "        if (!dataTable) return;\n",
              "\n",
              "        const docLinkHtml = 'Like what you see? Visit the ' +\n",
              "          '<a target=\"_blank\" href=https://colab.research.google.com/notebooks/data_table.ipynb>data table notebook</a>'\n",
              "          + ' to learn more about interactive tables.';\n",
              "        element.innerHTML = '';\n",
              "        dataTable['output_type'] = 'display_data';\n",
              "        await google.colab.output.renderOutput(dataTable, element);\n",
              "        const docLink = document.createElement('div');\n",
              "        docLink.innerHTML = docLinkHtml;\n",
              "        element.appendChild(docLink);\n",
              "      }\n",
              "    </script>\n",
              "  </div>\n",
              "\n",
              "\n",
              "    <div id=\"df-725c85c0-d397-4aee-a93c-06598abf40ab\">\n",
              "      <button class=\"colab-df-quickchart\" onclick=\"quickchart('df-725c85c0-d397-4aee-a93c-06598abf40ab')\"\n",
              "                title=\"Suggest charts\"\n",
              "                style=\"display:none;\">\n",
              "\n",
              "<svg xmlns=\"http://www.w3.org/2000/svg\" height=\"24px\"viewBox=\"0 0 24 24\"\n",
              "     width=\"24px\">\n",
              "    <g>\n",
              "        <path d=\"M19 3H5c-1.1 0-2 .9-2 2v14c0 1.1.9 2 2 2h14c1.1 0 2-.9 2-2V5c0-1.1-.9-2-2-2zM9 17H7v-7h2v7zm4 0h-2V7h2v10zm4 0h-2v-4h2v4z\"/>\n",
              "    </g>\n",
              "</svg>\n",
              "      </button>\n",
              "\n",
              "<style>\n",
              "  .colab-df-quickchart {\n",
              "      --bg-color: #E8F0FE;\n",
              "      --fill-color: #1967D2;\n",
              "      --hover-bg-color: #E2EBFA;\n",
              "      --hover-fill-color: #174EA6;\n",
              "      --disabled-fill-color: #AAA;\n",
              "      --disabled-bg-color: #DDD;\n",
              "  }\n",
              "\n",
              "  [theme=dark] .colab-df-quickchart {\n",
              "      --bg-color: #3B4455;\n",
              "      --fill-color: #D2E3FC;\n",
              "      --hover-bg-color: #434B5C;\n",
              "      --hover-fill-color: #FFFFFF;\n",
              "      --disabled-bg-color: #3B4455;\n",
              "      --disabled-fill-color: #666;\n",
              "  }\n",
              "\n",
              "  .colab-df-quickchart {\n",
              "    background-color: var(--bg-color);\n",
              "    border: none;\n",
              "    border-radius: 50%;\n",
              "    cursor: pointer;\n",
              "    display: none;\n",
              "    fill: var(--fill-color);\n",
              "    height: 32px;\n",
              "    padding: 0;\n",
              "    width: 32px;\n",
              "  }\n",
              "\n",
              "  .colab-df-quickchart:hover {\n",
              "    background-color: var(--hover-bg-color);\n",
              "    box-shadow: 0 1px 2px rgba(60, 64, 67, 0.3), 0 1px 3px 1px rgba(60, 64, 67, 0.15);\n",
              "    fill: var(--button-hover-fill-color);\n",
              "  }\n",
              "\n",
              "  .colab-df-quickchart-complete:disabled,\n",
              "  .colab-df-quickchart-complete:disabled:hover {\n",
              "    background-color: var(--disabled-bg-color);\n",
              "    fill: var(--disabled-fill-color);\n",
              "    box-shadow: none;\n",
              "  }\n",
              "\n",
              "  .colab-df-spinner {\n",
              "    border: 2px solid var(--fill-color);\n",
              "    border-color: transparent;\n",
              "    border-bottom-color: var(--fill-color);\n",
              "    animation:\n",
              "      spin 1s steps(1) infinite;\n",
              "  }\n",
              "\n",
              "  @keyframes spin {\n",
              "    0% {\n",
              "      border-color: transparent;\n",
              "      border-bottom-color: var(--fill-color);\n",
              "      border-left-color: var(--fill-color);\n",
              "    }\n",
              "    20% {\n",
              "      border-color: transparent;\n",
              "      border-left-color: var(--fill-color);\n",
              "      border-top-color: var(--fill-color);\n",
              "    }\n",
              "    30% {\n",
              "      border-color: transparent;\n",
              "      border-left-color: var(--fill-color);\n",
              "      border-top-color: var(--fill-color);\n",
              "      border-right-color: var(--fill-color);\n",
              "    }\n",
              "    40% {\n",
              "      border-color: transparent;\n",
              "      border-right-color: var(--fill-color);\n",
              "      border-top-color: var(--fill-color);\n",
              "    }\n",
              "    60% {\n",
              "      border-color: transparent;\n",
              "      border-right-color: var(--fill-color);\n",
              "    }\n",
              "    80% {\n",
              "      border-color: transparent;\n",
              "      border-right-color: var(--fill-color);\n",
              "      border-bottom-color: var(--fill-color);\n",
              "    }\n",
              "    90% {\n",
              "      border-color: transparent;\n",
              "      border-bottom-color: var(--fill-color);\n",
              "    }\n",
              "  }\n",
              "</style>\n",
              "\n",
              "      <script>\n",
              "        async function quickchart(key) {\n",
              "          const quickchartButtonEl =\n",
              "            document.querySelector('#' + key + ' button');\n",
              "          quickchartButtonEl.disabled = true;  // To prevent multiple clicks.\n",
              "          quickchartButtonEl.classList.add('colab-df-spinner');\n",
              "          try {\n",
              "            const charts = await google.colab.kernel.invokeFunction(\n",
              "                'suggestCharts', [key], {});\n",
              "          } catch (error) {\n",
              "            console.error('Error during call to suggestCharts:', error);\n",
              "          }\n",
              "          quickchartButtonEl.classList.remove('colab-df-spinner');\n",
              "          quickchartButtonEl.classList.add('colab-df-quickchart-complete');\n",
              "        }\n",
              "        (() => {\n",
              "          let quickchartButtonEl =\n",
              "            document.querySelector('#df-725c85c0-d397-4aee-a93c-06598abf40ab button');\n",
              "          quickchartButtonEl.style.display =\n",
              "            google.colab.kernel.accessAllowed ? 'block' : 'none';\n",
              "        })();\n",
              "      </script>\n",
              "    </div>\n",
              "\n",
              "  <div id=\"id_28116219-d86e-4389-af47-e12b25b83646\">\n",
              "    <style>\n",
              "      .colab-df-generate {\n",
              "        background-color: #E8F0FE;\n",
              "        border: none;\n",
              "        border-radius: 50%;\n",
              "        cursor: pointer;\n",
              "        display: none;\n",
              "        fill: #1967D2;\n",
              "        height: 32px;\n",
              "        padding: 0 0 0 0;\n",
              "        width: 32px;\n",
              "      }\n",
              "\n",
              "      .colab-df-generate:hover {\n",
              "        background-color: #E2EBFA;\n",
              "        box-shadow: 0px 1px 2px rgba(60, 64, 67, 0.3), 0px 1px 3px 1px rgba(60, 64, 67, 0.15);\n",
              "        fill: #174EA6;\n",
              "      }\n",
              "\n",
              "      [theme=dark] .colab-df-generate {\n",
              "        background-color: #3B4455;\n",
              "        fill: #D2E3FC;\n",
              "      }\n",
              "\n",
              "      [theme=dark] .colab-df-generate:hover {\n",
              "        background-color: #434B5C;\n",
              "        box-shadow: 0px 1px 3px 1px rgba(0, 0, 0, 0.15);\n",
              "        filter: drop-shadow(0px 1px 2px rgba(0, 0, 0, 0.3));\n",
              "        fill: #FFFFFF;\n",
              "      }\n",
              "    </style>\n",
              "    <button class=\"colab-df-generate\" onclick=\"generateWithVariable('descriptive_stats')\"\n",
              "            title=\"Generate code using this dataframe.\"\n",
              "            style=\"display:none;\">\n",
              "\n",
              "  <svg xmlns=\"http://www.w3.org/2000/svg\" height=\"24px\"viewBox=\"0 0 24 24\"\n",
              "       width=\"24px\">\n",
              "    <path d=\"M7,19H8.4L18.45,9,17,7.55,7,17.6ZM5,21V16.75L18.45,3.32a2,2,0,0,1,2.83,0l1.4,1.43a1.91,1.91,0,0,1,.58,1.4,1.91,1.91,0,0,1-.58,1.4L9.25,21ZM18.45,9,17,7.55Zm-12,3A5.31,5.31,0,0,0,4.9,8.1,5.31,5.31,0,0,0,1,6.5,5.31,5.31,0,0,0,4.9,4.9,5.31,5.31,0,0,0,6.5,1,5.31,5.31,0,0,0,8.1,4.9,5.31,5.31,0,0,0,12,6.5,5.46,5.46,0,0,0,6.5,12Z\"/>\n",
              "  </svg>\n",
              "    </button>\n",
              "    <script>\n",
              "      (() => {\n",
              "      const buttonEl =\n",
              "        document.querySelector('#id_28116219-d86e-4389-af47-e12b25b83646 button.colab-df-generate');\n",
              "      buttonEl.style.display =\n",
              "        google.colab.kernel.accessAllowed ? 'block' : 'none';\n",
              "\n",
              "      buttonEl.onclick = () => {\n",
              "        google.colab.notebook.generateWithVariable('descriptive_stats');\n",
              "      }\n",
              "      })();\n",
              "    </script>\n",
              "  </div>\n",
              "\n",
              "    </div>\n",
              "  </div>\n"
            ],
            "application/vnd.google.colaboratory.intrinsic+json": {
              "type": "dataframe",
              "variable_name": "descriptive_stats",
              "summary": "{\n  \"name\": \"descriptive_stats\",\n  \"rows\": 8,\n  \"fields\": [\n    {\n      \"column\": \"age\",\n      \"properties\": {\n        \"dtype\": \"number\",\n        \"std\": 460.6106090399993,\n        \"min\": 14.049960379216172,\n        \"max\": 1338.0,\n        \"num_unique_values\": 8,\n        \"samples\": [\n          39.20702541106129,\n          39.0,\n          1338.0\n        ],\n        \"semantic_type\": \"\",\n        \"description\": \"\"\n      }\n    },\n    {\n      \"column\": \"bmi\",\n      \"properties\": {\n        \"dtype\": \"number\",\n        \"std\": 463.29524977918294,\n        \"min\": 6.098186911679017,\n        \"max\": 1338.0,\n        \"num_unique_values\": 8,\n        \"samples\": [\n          30.66339686098655,\n          30.4,\n          1338.0\n        ],\n        \"semantic_type\": \"\",\n        \"description\": \"\"\n      }\n    },\n    {\n      \"column\": \"children\",\n      \"properties\": {\n        \"dtype\": \"number\",\n        \"std\": 472.5368318870757,\n        \"min\": 0.0,\n        \"max\": 1338.0,\n        \"num_unique_values\": 7,\n        \"samples\": [\n          1338.0,\n          1.0949177877429,\n          2.0\n        ],\n        \"semantic_type\": \"\",\n        \"description\": \"\"\n      }\n    },\n    {\n      \"column\": \"charges\",\n      \"properties\": {\n        \"dtype\": \"number\",\n        \"std\": 20381.922846226596,\n        \"min\": 1121.8739,\n        \"max\": 63770.42801,\n        \"num_unique_values\": 8,\n        \"samples\": [\n          13270.422265141257,\n          9382.033,\n          1338.0\n        ],\n        \"semantic_type\": \"\",\n        \"description\": \"\"\n      }\n    }\n  ]\n}"
            }
          },
          "metadata": {}
        }
      ]
    },
    {
      "cell_type": "markdown",
      "metadata": {
        "id": "5cfaffe4"
      },
      "source": [
        "## Analyze correlations\n",
        "\n",
        "### Subtask:\n",
        "Calculate and visualize the correlation matrix for the numerical variables to understand the relationships between them.\n"
      ]
    },
    {
      "cell_type": "markdown",
      "metadata": {
        "id": "832b207e"
      },
      "source": [
        "**Reasoning**:\n",
        "Calculate the correlation matrix and visualize it using a heatmap to understand the relationships between numerical variables.\n",
        "\n"
      ]
    },
    {
      "cell_type": "code",
      "metadata": {
        "colab": {
          "base_uri": "https://localhost:8080/",
          "height": 54
        },
        "id": "8fec1d91",
        "outputId": "366da24a-5805-42c5-c787-e54529de2042"
      },
      "source": [
        "correlation_matrix = numerical_df.corr()\n",
        "\n",
        "import seaborn as sns\n",
        "import matplotlib.pyplot as plt\n",
        "\n",
        "plt.figure(figsize=(8, 6))\n",
        "sns.heatmap(correlation_matrix, annot=True, cmap='coolwarm', fmt=\".2f\")\n",
        "plt.title('Correlation Matrix of Numerical Variables')\n",
        "plt.show()"
      ],
      "execution_count": null,
      "outputs": [
        {
          "output_type": "display_data",
          "data": {
            "text/plain": [
              "<Figure size 800x600 with 2 Axes>"
            ],
            "image/png": "[encoded data removed]"
          },
          "metadata": {}
        }
      ]
    },
    {
      "cell_type": "markdown",
      "metadata": {
        "id": "ef88b82e"
      },
      "source": [
        "## Visualize numerical variables\n",
        "\n",
        "### Subtask:\n",
        "Create visualizations (like histograms, box plots, etc.) to understand the distribution of the numerical variables.\n"
      ]
    },
    {
      "cell_type": "markdown",
      "metadata": {
        "id": "5abd6090"
      },
      "source": [
        "**Reasoning**:\n",
        "Iterate through the numerical columns and create histograms and box plots for each to visualize their distributions and identify outliers.\n",
        "\n"
      ]
    },
    {
      "cell_type": "code",
      "metadata": {
        "colab": {
          "base_uri": "https://localhost:8080/",
          "height": 106
        },
        "id": "b5755dc7",
        "outputId": "6deefa54-257f-422a-f5d2-b27a21995e3f"
      },
      "source": [
        "import matplotlib.pyplot as plt\n",
        "import seaborn as sns\n",
        "\n",
        "numerical_cols = ['age', 'bmi', 'children', 'charges']\n",
        "\n",
        "for col in numerical_cols:\n",
        "    plt.figure(figsize=(12, 5))\n",
        "\n",
        "    plt.subplot(1, 2, 1)\n",
        "    sns.histplot(df[col], kde=True)\n",
        "    plt.title(f'Distribution of {col}')\n",
        "    plt.xlabel(col)\n",
        "    plt.ylabel('Frequency')\n",
        "\n",
        "    plt.subplot(1, 2, 2)\n",
        "    sns.boxplot(x=df[col])\n",
        "    plt.title(f'Box Plot of {col}')\n",
        "    plt.xlabel(col)\n",
        "\n",
        "    plt.tight_layout()\n",
        "    plt.show()"
      ],
      "execution_count": null,
      "outputs": [
        {
          "output_type": "display_data",
          "data": {
            "text/plain": [
              "<Figure size 1200x500 with 2 Axes>"
            ],
            "image/png": "[encoded data removed]"
          },
          "metadata": {}
        },
        {
          "output_type": "display_data",
          "data": {
            "text/plain": [
              "<Figure size 1200x500 with 2 Axes>"
            ],
            "image/png": "[encoded data removed]"
          },
          "metadata": {}
        },
        {
          "output_type": "display_data",
          "data": {
            "text/plain": [
              "<Figure size 1200x500 with 2 Axes>"
            ],
            "image/png": "[encoded data removed]"
          },
          "metadata": {}
        },
        {
          "output_type": "display_data",
          "data": {
            "text/plain": [
              "<Figure size 1200x500 with 2 Axes>"
            ],
            "image/png": "[encoded data removed]"
          },
          "metadata": {}
        }
      ]
    },
    {
      "cell_type": "markdown",
      "metadata": {
        "id": "c439358c"
      },
      "source": [
        "## Summarize findings\n",
        "\n",
        "### Subtask:\n",
        "Present a summary of the key findings from the exploratory analysis.\n"
      ]
    },
    {
      "cell_type": "markdown",
      "metadata": {
        "id": "a8907d17"
      },
      "source": [
        "**Reasoning**:\n",
        "Summarize the key findings from the exploratory analysis as requested in the subtask instructions.\n",
        "\n"
      ]
    },
    {
      "cell_type": "code",
      "metadata": {
        "colab": {
          "base_uri": "https://localhost:8080/",
          "height": 1000
        },
        "id": "4280cbe1",
        "outputId": "0d68b41a-568f-4cfa-d1fd-4faf151f1c7a"
      },
      "source": [
        "print(\"Summary of Exploratory Data Analysis for Numerical Variables:\")\n",
        "print(\"\\n1. Initial Data Loading and Inspection:\")\n",
        "print(f\"The dataset contains {df.shape[0]} rows and {df.shape[1]} columns.\")\n",
        "print(\"The variables include age (int64), sex (object), bmi (float64), children (int64), smoker (object), region (object), and charges (float64).\")\n",
        "\n",
        "print(\"\\n2. Missing Values and Duplicate Rows:\")\n",
        "print(f\"No missing values were found in any of the columns:\\n{missing_values.to_string()}\")\n",
        "print(f\"One duplicate row was identified in the dataset.\")\n",
        "\n",
        "print(\"\\n3. Descriptive Statistics:\")\n",
        "print(\"Key descriptive statistics for the numerical variables are as follows:\")\n",
        "display(descriptive_stats)\n",
        "print(\"Notable observations:\")\n",
        "print(f\"- The average age is around {descriptive_stats.loc['mean', 'age']:.2f} years, with a range from {descriptive_stats.loc['min', 'age']} to {descriptive_stats.loc['max', 'age']}.\")\n",
        "print(f\"- The average BMI is approximately {descriptive_stats.loc['mean', 'bmi']:.2f}, ranging from {descriptive_stats.loc['min', 'bmi']:.2f} to {descriptive_stats.loc['max', 'bmi']:.2f}.\")\n",
        "print(f\"- The average number of children is about {descriptive_stats.loc['mean', 'children']:.2f}, with a maximum of {descriptive_stats.loc['max', 'children']}.\")\n",
        "print(f\"- Medical charges have a wide range, from {descriptive_stats.loc['min', 'charges']:.2f} to {descriptive_stats.loc['max', 'charges']:.2f}, with a mean of approximately {descriptive_stats.loc['mean', 'charges']:.2f} and a large standard deviation, indicating high variability.\")\n",
        "\n",
        "print(\"\\n4. Correlation Analysis:\")\n",
        "print(\"The correlation matrix shows the linear relationships between numerical variables:\")\n",
        "display(correlation_matrix)\n",
        "print(\"Key observations:\")\n",
        "print(\"- 'Charges' has a moderate positive correlation with 'age' (0.30) and 'bmi' (0.20).\")\n",
        "print(\"- 'Age' and 'bmi' have a weak positive correlation (0.11).\")\n",
        "print(\"- 'Children' has very weak correlations with age, bmi, and charges.\")\n",
        "\n",
        "print(\"\\n5. Distribution and Outliers (from visualizations):\")\n",
        "print(\"- Histograms show the frequency distribution of each numerical variable.\")\n",
        "print(\"- Box plots visualize quartiles and potential outliers.\")\n",
        "print(\"- 'Age' appears relatively uniformly distributed.\")\n",
        "print(\"- 'BMI' shows a roughly normal distribution, with some potential outliers on the higher end.\")\n",
        "print(\"- 'Children' is skewed towards lower values, with most individuals having 0 or 1 child.\")\n",
        "print(\"- 'Charges' distribution is highly skewed to the right, indicating that most charges are lower, but there are a significant number of higher charges, as also suggested by the box plot which shows many potential outliers on the higher end.\")"
      ],
      "execution_count": null,
      "outputs": [
        {
          "output_type": "stream",
          "name": "stdout",
          "text": [
            "Summary of Exploratory Data Analysis for Numerical Variables:\n",
            "\n",
            "1. Initial Data Loading and Inspection:\n",
            "The dataset contains 1338 rows and 7 columns.\n",
            "The variables include age (int64), sex (object), bmi (float64), children (int64), smoker (object), region (object), and charges (float64).\n",
            "\n",
            "2. Missing Values and Duplicate Rows:\n",
            "No missing values were found in any of the columns:\n",
            "age         0\n",
            "sex         0\n",
            "bmi         0\n",
            "children    0\n",
            "smoker      0\n",
            "region      0\n",
            "charges     0\n",
            "One duplicate row was identified in the dataset.\n",
            "\n",
            "3. Descriptive Statistics:\n",
            "Key descriptive statistics for the numerical variables are as follows:\n"
          ]
        },
        {
          "output_type": "display_data",
          "data": {
            "text/plain": [
              "               age          bmi     children       charges\n",
              "count  1338.000000  1338.000000  1338.000000   1338.000000\n",
              "mean     39.207025    30.663397     1.094918  13270.422265\n",
              "std      14.049960     6.098187     1.205493  12110.011237\n",
              "min      18.000000    15.960000     0.000000   1121.873900\n",
              "25%      27.000000    26.296250     0.000000   4740.287150\n",
              "50%      39.000000    30.400000     1.000000   9382.033000\n",
              "75%      51.000000    34.693750     2.000000  16639.912515\n",
              "max      64.000000    53.130000     5.000000  63770.428010"
            ],
            "text/html": [
              "\n",
              "  <div id=\"df-87bb046f-4216-4a66-8854-3857a0f927d0\" class=\"colab-df-container\">\n",
              "    <div>\n",
              "<style scoped>\n",
              "    .dataframe tbody tr th:only-of-type {\n",
              "        vertical-align: middle;\n",
              "    }\n",
              "\n",
              "    .dataframe tbody tr th {\n",
              "        vertical-align: top;\n",
              "    }\n",
              "\n",
              "    .dataframe thead th {\n",
              "        text-align: right;\n",
              "    }\n",
              "</style>\n",
              "<table border=\"1\" class=\"dataframe\">\n",
              "  <thead>\n",
              "    <tr style=\"text-align: right;\">\n",
              "      <th></th>\n",
              "      <th>age</th>\n",
              "      <th>bmi</th>\n",
              "      <th>children</th>\n",
              "      <th>charges</th>\n",
              "    </tr>\n",
              "  </thead>\n",
              "  <tbody>\n",
              "    <tr>\n",
              "      <th>count</th>\n",
              "      <td>1338.000000</td>\n",
              "      <td>1338.000000</td>\n",
              "      <td>1338.000000</td>\n",
              "      <td>1338.000000</td>\n",
              "    </tr>\n",
              "    <tr>\n",
              "      <th>mean</th>\n",
              "      <td>39.207025</td>\n",
              "      <td>30.663397</td>\n",
              "      <td>1.094918</td>\n",
              "      <td>13270.422265</td>\n",
              "    </tr>\n",
              "    <tr>\n",
              "      <th>std</th>\n",
              "      <td>14.049960</td>\n",
              "      <td>6.098187</td>\n",
              "      <td>1.205493</td>\n",
              "      <td>12110.011237</td>\n",
              "    </tr>\n",
              "    <tr>\n",
              "      <th>min</th>\n",
              "      <td>18.000000</td>\n",
              "      <td>15.960000</td>\n",
              "      <td>0.000000</td>\n",
              "      <td>1121.873900</td>\n",
              "    </tr>\n",
              "    <tr>\n",
              "      <th>25%</th>\n",
              "      <td>27.000000</td>\n",
              "      <td>26.296250</td>\n",
              "      <td>0.000000</td>\n",
              "      <td>4740.287150</td>\n",
              "    </tr>\n",
              "    <tr>\n",
              "      <th>50%</th>\n",
              "      <td>39.000000</td>\n",
              "      <td>30.400000</td>\n",
              "      <td>1.000000</td>\n",
              "      <td>9382.033000</td>\n",
              "    </tr>\n",
              "    <tr>\n",
              "      <th>75%</th>\n",
              "      <td>51.000000</td>\n",
              "      <td>34.693750</td>\n",
              "      <td>2.000000</td>\n",
              "      <td>16639.912515</td>\n",
              "    </tr>\n",
              "    <tr>\n",
              "      <th>max</th>\n",
              "      <td>64.000000</td>\n",
              "      <td>53.130000</td>\n",
              "      <td>5.000000</td>\n",
              "      <td>63770.428010</td>\n",
              "    </tr>\n",
              "  </tbody>\n",
              "</table>\n",
              "</div>\n",
              "    <div class=\"colab-df-buttons\">\n",
              "\n",
              "  <div class=\"colab-df-container\">\n",
              "    <button class=\"colab-df-convert\" onclick=\"convertToInteractive('df-87bb046f-4216-4a66-8854-3857a0f927d0')\"\n",
              "            title=\"Convert this dataframe to an interactive table.\"\n",
              "            style=\"display:none;\">\n",
              "\n",
              "  <svg xmlns=\"http://www.w3.org/2000/svg\" height=\"24px\" viewBox=\"0 -960 960 960\">\n",
              "    <path d=\"M120-120v-720h720v720H120Zm60-500h600v-160H180v160Zm220 220h160v-160H400v160Zm0 220h160v-160H400v160ZM180-400h160v-160H180v160Zm440 0h160v-160H620v160ZM180-180h160v-160H180v160Zm440 0h160v-160H620v160Z\"/>\n",
              "  </svg>\n",
              "    </button>\n",
              "\n",
              "  <style>\n",
              "    .colab-df-container {\n",
              "      display:flex;\n",
              "      gap: 12px;\n",
              "    }\n",
              "\n",
              "    .colab-df-convert {\n",
              "      background-color: #E8F0FE;\n",
              "      border: none;\n",
              "      border-radius: 50%;\n",
              "      cursor: pointer;\n",
              "      display: none;\n",
              "      fill: #1967D2;\n",
              "      height: 32px;\n",
              "      padding: 0 0 0 0;\n",
              "      width: 32px;\n",
              "    }\n",
              "\n",
              "    .colab-df-convert:hover {\n",
              "      background-color: #E2EBFA;\n",
              "      box-shadow: 0px 1px 2px rgba(60, 64, 67, 0.3), 0px 1px 3px 1px rgba(60, 64, 67, 0.15);\n",
              "      fill: #174EA6;\n",
              "    }\n",
              "\n",
              "    .colab-df-buttons div {\n",
              "      margin-bottom: 4px;\n",
              "    }\n",
              "\n",
              "    [theme=dark] .colab-df-convert {\n",
              "      background-color: #3B4455;\n",
              "      fill: #D2E3FC;\n",
              "    }\n",
              "\n",
              "    [theme=dark] .colab-df-convert:hover {\n",
              "      background-color: #434B5C;\n",
              "      box-shadow: 0px 1px 3px 1px rgba(0, 0, 0, 0.15);\n",
              "      filter: drop-shadow(0px 1px 2px rgba(0, 0, 0, 0.3));\n",
              "      fill: #FFFFFF;\n",
              "    }\n",
              "  </style>\n",
              "\n",
              "    <script>\n",
              "      const buttonEl =\n",
              "        document.querySelector('#df-87bb046f-4216-4a66-8854-3857a0f927d0 button.colab-df-convert');\n",
              "      buttonEl.style.display =\n",
              "        google.colab.kernel.accessAllowed ? 'block' : 'none';\n",
              "\n",
              "      async function convertToInteractive(key) {\n",
              "        const element = document.querySelector('#df-87bb046f-4216-4a66-8854-3857a0f927d0');\n",
              "        const dataTable =\n",
              "          await google.colab.kernel.invokeFunction('convertToInteractive',\n",
              "                                                    [key], {});\n",
              "        if (!dataTable) return;\n",
              "\n",
              "        const docLinkHtml = 'Like what you see? Visit the ' +\n",
              "          '<a target=\"_blank\" href=https://colab.research.google.com/notebooks/data_table.ipynb>data table notebook</a>'\n",
              "          + ' to learn more about interactive tables.';\n",
              "        element.innerHTML = '';\n",
              "        dataTable['output_type'] = 'display_data';\n",
              "        await google.colab.output.renderOutput(dataTable, element);\n",
              "        const docLink = document.createElement('div');\n",
              "        docLink.innerHTML = docLinkHtml;\n",
              "        element.appendChild(docLink);\n",
              "      }\n",
              "    </script>\n",
              "  </div>\n",
              "\n",
              "\n",
              "    <div id=\"df-ab897f07-7e6e-4899-977c-e4f8d42a3310\">\n",
              "      <button class=\"colab-df-quickchart\" onclick=\"quickchart('df-ab897f07-7e6e-4899-977c-e4f8d42a3310')\"\n",
              "                title=\"Suggest charts\"\n",
              "                style=\"display:none;\">\n",
              "\n",
              "<svg xmlns=\"http://www.w3.org/2000/svg\" height=\"24px\"viewBox=\"0 0 24 24\"\n",
              "     width=\"24px\">\n",
              "    <g>\n",
              "        <path d=\"M19 3H5c-1.1 0-2 .9-2 2v14c0 1.1.9 2 2 2h14c1.1 0 2-.9 2-2V5c0-1.1-.9-2-2-2zM9 17H7v-7h2v7zm4 0h-2V7h2v10zm4 0h-2v-4h2v4z\"/>\n",
              "    </g>\n",
              "</svg>\n",
              "      </button>\n",
              "\n",
              "<style>\n",
              "  .colab-df-quickchart {\n",
              "      --bg-color: #E8F0FE;\n",
              "      --fill-color: #1967D2;\n",
              "      --hover-bg-color: #E2EBFA;\n",
              "      --hover-fill-color: #174EA6;\n",
              "      --disabled-fill-color: #AAA;\n",
              "      --disabled-bg-color: #DDD;\n",
              "  }\n",
              "\n",
              "  [theme=dark] .colab-df-quickchart {\n",
              "      --bg-color: #3B4455;\n",
              "      --fill-color: #D2E3FC;\n",
              "      --hover-bg-color: #434B5C;\n",
              "      --hover-fill-color: #FFFFFF;\n",
              "      --disabled-bg-color: #3B4455;\n",
              "      --disabled-fill-color: #666;\n",
              "  }\n",
              "\n",
              "  .colab-df-quickchart {\n",
              "    background-color: var(--bg-color);\n",
              "    border: none;\n",
              "    border-radius: 50%;\n",
              "    cursor: pointer;\n",
              "    display: none;\n",
              "    fill: var(--fill-color);\n",
              "    height: 32px;\n",
              "    padding: 0;\n",
              "    width: 32px;\n",
              "  }\n",
              "\n",
              "  .colab-df-quickchart:hover {\n",
              "    background-color: var(--hover-bg-color);\n",
              "    box-shadow: 0 1px 2px rgba(60, 64, 67, 0.3), 0 1px 3px 1px rgba(60, 64, 67, 0.15);\n",
              "    fill: var(--button-hover-fill-color);\n",
              "  }\n",
              "\n",
              "  .colab-df-quickchart-complete:disabled,\n",
              "  .colab-df-quickchart-complete:disabled:hover {\n",
              "    background-color: var(--disabled-bg-color);\n",
              "    fill: var(--disabled-fill-color);\n",
              "    box-shadow: none;\n",
              "  }\n",
              "\n",
              "  .colab-df-spinner {\n",
              "    border: 2px solid var(--fill-color);\n",
              "    border-color: transparent;\n",
              "    border-bottom-color: var(--fill-color);\n",
              "    animation:\n",
              "      spin 1s steps(1) infinite;\n",
              "  }\n",
              "\n",
              "  @keyframes spin {\n",
              "    0% {\n",
              "      border-color: transparent;\n",
              "      border-bottom-color: var(--fill-color);\n",
              "      border-left-color: var(--fill-color);\n",
              "    }\n",
              "    20% {\n",
              "      border-color: transparent;\n",
              "      border-left-color: var(--fill-color);\n",
              "      border-top-color: var(--fill-color);\n",
              "    }\n",
              "    30% {\n",
              "      border-color: transparent;\n",
              "      border-left-color: var(--fill-color);\n",
              "      border-top-color: var(--fill-color);\n",
              "      border-right-color: var(--fill-color);\n",
              "    }\n",
              "    40% {\n",
              "      border-color: transparent;\n",
              "      border-right-color: var(--fill-color);\n",
              "      border-top-color: var(--fill-color);\n",
              "    }\n",
              "    60% {\n",
              "      border-color: transparent;\n",
              "      border-right-color: var(--fill-color);\n",
              "    }\n",
              "    80% {\n",
              "      border-color: transparent;\n",
              "      border-right-color: var(--fill-color);\n",
              "      border-bottom-color: var(--fill-color);\n",
              "    }\n",
              "    90% {\n",
              "      border-color: transparent;\n",
              "      border-bottom-color: var(--fill-color);\n",
              "    }\n",
              "  }\n",
              "</style>\n",
              "\n",
              "      <script>\n",
              "        async function quickchart(key) {\n",
              "          const quickchartButtonEl =\n",
              "            document.querySelector('#' + key + ' button');\n",
              "          quickchartButtonEl.disabled = true;  // To prevent multiple clicks.\n",
              "          quickchartButtonEl.classList.add('colab-df-spinner');\n",
              "          try {\n",
              "            const charts = await google.colab.kernel.invokeFunction(\n",
              "                'suggestCharts', [key], {});\n",
              "          } catch (error) {\n",
              "            console.error('Error during call to suggestCharts:', error);\n",
              "          }\n",
              "          quickchartButtonEl.classList.remove('colab-df-spinner');\n",
              "          quickchartButtonEl.classList.add('colab-df-quickchart-complete');\n",
              "        }\n",
              "        (() => {\n",
              "          let quickchartButtonEl =\n",
              "            document.querySelector('#df-ab897f07-7e6e-4899-977c-e4f8d42a3310 button');\n",
              "          quickchartButtonEl.style.display =\n",
              "            google.colab.kernel.accessAllowed ? 'block' : 'none';\n",
              "        })();\n",
              "      </script>\n",
              "    </div>\n",
              "\n",
              "  <div id=\"id_01b96545-1e50-48cb-93f0-c1c08bf278c6\">\n",
              "    <style>\n",
              "      .colab-df-generate {\n",
              "        background-color: #E8F0FE;\n",
              "        border: none;\n",
              "        border-radius: 50%;\n",
              "        cursor: pointer;\n",
              "        display: none;\n",
              "        fill: #1967D2;\n",
              "        height: 32px;\n",
              "        padding: 0 0 0 0;\n",
              "        width: 32px;\n",
              "      }\n",
              "\n",
              "      .colab-df-generate:hover {\n",
              "        background-color: #E2EBFA;\n",
              "        box-shadow: 0px 1px 2px rgba(60, 64, 67, 0.3), 0px 1px 3px 1px rgba(60, 64, 67, 0.15);\n",
              "        fill: #174EA6;\n",
              "      }\n",
              "\n",
              "      [theme=dark] .colab-df-generate {\n",
              "        background-color: #3B4455;\n",
              "        fill: #D2E3FC;\n",
              "      }\n",
              "\n",
              "      [theme=dark] .colab-df-generate:hover {\n",
              "        background-color: #434B5C;\n",
              "        box-shadow: 0px 1px 3px 1px rgba(0, 0, 0, 0.15);\n",
              "        filter: drop-shadow(0px 1px 2px rgba(0, 0, 0, 0.3));\n",
              "        fill: #FFFFFF;\n",
              "      }\n",
              "    </style>\n",
              "    <button class=\"colab-df-generate\" onclick=\"generateWithVariable('descriptive_stats')\"\n",
              "            title=\"Generate code using this dataframe.\"\n",
              "            style=\"display:none;\">\n",
              "\n",
              "  <svg xmlns=\"http://www.w3.org/2000/svg\" height=\"24px\"viewBox=\"0 0 24 24\"\n",
              "       width=\"24px\">\n",
              "    <path d=\"M7,19H8.4L18.45,9,17,7.55,7,17.6ZM5,21V16.75L18.45,3.32a2,2,0,0,1,2.83,0l1.4,1.43a1.91,1.91,0,0,1,.58,1.4,1.91,1.91,0,0,1-.58,1.4L9.25,21ZM18.45,9,17,7.55Zm-12,3A5.31,5.31,0,0,0,4.9,8.1,5.31,5.31,0,0,0,1,6.5,5.31,5.31,0,0,0,4.9,4.9,5.31,5.31,0,0,0,6.5,1,5.31,5.31,0,0,0,8.1,4.9,5.31,5.31,0,0,0,12,6.5,5.46,5.46,0,0,0,6.5,12Z\"/>\n",
              "  </svg>\n",
              "    </button>\n",
              "    <script>\n",
              "      (() => {\n",
              "      const buttonEl =\n",
              "        document.querySelector('#id_01b96545-1e50-48cb-93f0-c1c08bf278c6 button.colab-df-generate');\n",
              "      buttonEl.style.display =\n",
              "        google.colab.kernel.accessAllowed ? 'block' : 'none';\n",
              "\n",
              "      buttonEl.onclick = () => {\n",
              "        google.colab.notebook.generateWithVariable('descriptive_stats');\n",
              "      }\n",
              "      })();\n",
              "    </script>\n",
              "  </div>\n",
              "\n",
              "    </div>\n",
              "  </div>\n"
            ],
            "application/vnd.google.colaboratory.intrinsic+json": {
              "type": "dataframe",
              "variable_name": "descriptive_stats",
              "summary": "{\n  \"name\": \"descriptive_stats\",\n  \"rows\": 8,\n  \"fields\": [\n    {\n      \"column\": \"age\",\n      \"properties\": {\n        \"dtype\": \"number\",\n        \"std\": 460.6106090399993,\n        \"min\": 14.049960379216172,\n        \"max\": 1338.0,\n        \"num_unique_values\": 8,\n        \"samples\": [\n          39.20702541106129,\n          39.0,\n          1338.0\n        ],\n        \"semantic_type\": \"\",\n        \"description\": \"\"\n      }\n    },\n    {\n      \"column\": \"bmi\",\n      \"properties\": {\n        \"dtype\": \"number\",\n        \"std\": 463.29524977918294,\n        \"min\": 6.098186911679017,\n        \"max\": 1338.0,\n        \"num_unique_values\": 8,\n        \"samples\": [\n          30.66339686098655,\n          30.4,\n          1338.0\n        ],\n        \"semantic_type\": \"\",\n        \"description\": \"\"\n      }\n    },\n    {\n      \"column\": \"children\",\n      \"properties\": {\n        \"dtype\": \"number\",\n        \"std\": 472.5368318870757,\n        \"min\": 0.0,\n        \"max\": 1338.0,\n        \"num_unique_values\": 7,\n        \"samples\": [\n          1338.0,\n          1.0949177877429,\n          2.0\n        ],\n        \"semantic_type\": \"\",\n        \"description\": \"\"\n      }\n    },\n    {\n      \"column\": \"charges\",\n      \"properties\": {\n        \"dtype\": \"number\",\n        \"std\": 20381.922846226596,\n        \"min\": 1121.8739,\n        \"max\": 63770.42801,\n        \"num_unique_values\": 8,\n        \"samples\": [\n          13270.422265141257,\n          9382.033,\n          1338.0\n        ],\n        \"semantic_type\": \"\",\n        \"description\": \"\"\n      }\n    }\n  ]\n}"
            }
          },
          "metadata": {}
        },
        {
          "output_type": "stream",
          "name": "stdout",
          "text": [
            "Notable observations:\n",
            "- The average age is around 39.21 years, with a range from 18.0 to 64.0.\n",
            "- The average BMI is approximately 30.66, ranging from 15.96 to 53.13.\n",
            "- The average number of children is about 1.09, with a maximum of 5.0.\n",
            "- Medical charges have a wide range, from 1121.87 to 63770.43, with a mean of approximately 13270.42 and a large standard deviation, indicating high variability.\n",
            "\n",
            "4. Correlation Analysis:\n",
            "The correlation matrix shows the linear relationships between numerical variables:\n"
          ]
        },
        {
          "output_type": "display_data",
          "data": {
            "text/plain": [
              "               age       bmi  children   charges\n",
              "age       1.000000  0.109272  0.042469  0.299008\n",
              "bmi       0.109272  1.000000  0.012759  0.198341\n",
              "children  0.042469  0.012759  1.000000  0.067998\n",
              "charges   0.299008  0.198341  0.067998  1.000000"
            ],
            "text/html": [
              "\n",
              "  <div id=\"df-72912c27-7e09-4cb6-836f-38add4cb4cc6\" class=\"colab-df-container\">\n",
              "    <div>\n",
              "<style scoped>\n",
              "    .dataframe tbody tr th:only-of-type {\n",
              "        vertical-align: middle;\n",
              "    }\n",
              "\n",
              "    .dataframe tbody tr th {\n",
              "        vertical-align: top;\n",
              "    }\n",
              "\n",
              "    .dataframe thead th {\n",
              "        text-align: right;\n",
              "    }\n",
              "</style>\n",
              "<table border=\"1\" class=\"dataframe\">\n",
              "  <thead>\n",
              "    <tr style=\"text-align: right;\">\n",
              "      <th></th>\n",
              "      <th>age</th>\n",
              "      <th>bmi</th>\n",
              "      <th>children</th>\n",
              "      <th>charges</th>\n",
              "    </tr>\n",
              "  </thead>\n",
              "  <tbody>\n",
              "    <tr>\n",
              "      <th>age</th>\n",
              "      <td>1.000000</td>\n",
              "      <td>0.109272</td>\n",
              "      <td>0.042469</td>\n",
              "      <td>0.299008</td>\n",
              "    </tr>\n",
              "    <tr>\n",
              "      <th>bmi</th>\n",
              "      <td>0.109272</td>\n",
              "      <td>1.000000</td>\n",
              "      <td>0.012759</td>\n",
              "      <td>0.198341</td>\n",
              "    </tr>\n",
              "    <tr>\n",
              "      <th>children</th>\n",
              "      <td>0.042469</td>\n",
              "      <td>0.012759</td>\n",
              "      <td>1.000000</td>\n",
              "      <td>0.067998</td>\n",
              "    </tr>\n",
              "    <tr>\n",
              "      <th>charges</th>\n",
              "      <td>0.299008</td>\n",
              "      <td>0.198341</td>\n",
              "      <td>0.067998</td>\n",
              "      <td>1.000000</td>\n",
              "    </tr>\n",
              "  </tbody>\n",
              "</table>\n",
              "</div>\n",
              "    <div class=\"colab-df-buttons\">\n",
              "\n",
              "  <div class=\"colab-df-container\">\n",
              "    <button class=\"colab-df-convert\" onclick=\"convertToInteractive('df-72912c27-7e09-4cb6-836f-38add4cb4cc6')\"\n",
              "            title=\"Convert this dataframe to an interactive table.\"\n",
              "            style=\"display:none;\">\n",
              "\n",
              "  <svg xmlns=\"http://www.w3.org/2000/svg\" height=\"24px\" viewBox=\"0 -960 960 960\">\n",
              "    <path d=\"M120-120v-720h720v720H120Zm60-500h600v-160H180v160Zm220 220h160v-160H400v160Zm0 220h160v-160H400v160ZM180-400h160v-160H180v160Zm440 0h160v-160H620v160ZM180-180h160v-160H180v160Zm440 0h160v-160H620v160Z\"/>\n",
              "  </svg>\n",
              "    </button>\n",
              "\n",
              "  <style>\n",
              "    .colab-df-container {\n",
              "      display:flex;\n",
              "      gap: 12px;\n",
              "    }\n",
              "\n",
              "    .colab-df-convert {\n",
              "      background-color: #E8F0FE;\n",
              "      border: none;\n",
              "      border-radius: 50%;\n",
              "      cursor: pointer;\n",
              "      display: none;\n",
              "      fill: #1967D2;\n",
              "      height: 32px;\n",
              "      padding: 0 0 0 0;\n",
              "      width: 32px;\n",
              "    }\n",
              "\n",
              "    .colab-df-convert:hover {\n",
              "      background-color: #E2EBFA;\n",
              "      box-shadow: 0px 1px 2px rgba(60, 64, 67, 0.3), 0px 1px 3px 1px rgba(60, 64, 67, 0.15);\n",
              "      fill: #174EA6;\n",
              "    }\n",
              "\n",
              "    .colab-df-buttons div {\n",
              "      margin-bottom: 4px;\n",
              "    }\n",
              "\n",
              "    [theme=dark] .colab-df-convert {\n",
              "      background-color: #3B4455;\n",
              "      fill: #D2E3FC;\n",
              "    }\n",
              "\n",
              "    [theme=dark] .colab-df-convert:hover {\n",
              "      background-color: #434B5C;\n",
              "      box-shadow: 0px 1px 3px 1px rgba(0, 0, 0, 0.15);\n",
              "      filter: drop-shadow(0px 1px 2px rgba(0, 0, 0, 0.3));\n",
              "      fill: #FFFFFF;\n",
              "    }\n",
              "  </style>\n",
              "\n",
              "    <script>\n",
              "      const buttonEl =\n",
              "        document.querySelector('#df-72912c27-7e09-4cb6-836f-38add4cb4cc6 button.colab-df-convert');\n",
              "      buttonEl.style.display =\n",
              "        google.colab.kernel.accessAllowed ? 'block' : 'none';\n",
              "\n",
              "      async function convertToInteractive(key) {\n",
              "        const element = document.querySelector('#df-72912c27-7e09-4cb6-836f-38add4cb4cc6');\n",
              "        const dataTable =\n",
              "          await google.colab.kernel.invokeFunction('convertToInteractive',\n",
              "                                                    [key], {});\n",
              "        if (!dataTable) return;\n",
              "\n",
              "        const docLinkHtml = 'Like what you see? Visit the ' +\n",
              "          '<a target=\"_blank\" href=https://colab.research.google.com/notebooks/data_table.ipynb>data table notebook</a>'\n",
              "          + ' to learn more about interactive tables.';\n",
              "        element.innerHTML = '';\n",
              "        dataTable['output_type'] = 'display_data';\n",
              "        await google.colab.output.renderOutput(dataTable, element);\n",
              "        const docLink = document.createElement('div');\n",
              "        docLink.innerHTML = docLinkHtml;\n",
              "        element.appendChild(docLink);\n",
              "      }\n",
              "    </script>\n",
              "  </div>\n",
              "\n",
              "\n",
              "    <div id=\"df-1d858895-1158-405e-870a-a8fdcd56e36f\">\n",
              "      <button class=\"colab-df-quickchart\" onclick=\"quickchart('df-1d858895-1158-405e-870a-a8fdcd56e36f')\"\n",
              "                title=\"Suggest charts\"\n",
              "                style=\"display:none;\">\n",
              "\n",
              "<svg xmlns=\"http://www.w3.org/2000/svg\" height=\"24px\"viewBox=\"0 0 24 24\"\n",
              "     width=\"24px\">\n",
              "    <g>\n",
              "        <path d=\"M19 3H5c-1.1 0-2 .9-2 2v14c0 1.1.9 2 2 2h14c1.1 0 2-.9 2-2V5c0-1.1-.9-2-2-2zM9 17H7v-7h2v7zm4 0h-2V7h2v10zm4 0h-2v-4h2v4z\"/>\n",
              "    </g>\n",
              "</svg>\n",
              "      </button>\n",
              "\n",
              "<style>\n",
              "  .colab-df-quickchart {\n",
              "      --bg-color: #E8F0FE;\n",
              "      --fill-color: #1967D2;\n",
              "      --hover-bg-color: #E2EBFA;\n",
              "      --hover-fill-color: #174EA6;\n",
              "      --disabled-fill-color: #AAA;\n",
              "      --disabled-bg-color: #DDD;\n",
              "  }\n",
              "\n",
              "  [theme=dark] .colab-df-quickchart {\n",
              "      --bg-color: #3B4455;\n",
              "      --fill-color: #D2E3FC;\n",
              "      --hover-bg-color: #434B5C;\n",
              "      --hover-fill-color: #FFFFFF;\n",
              "      --disabled-bg-color: #3B4455;\n",
              "      --disabled-fill-color: #666;\n",
              "  }\n",
              "\n",
              "  .colab-df-quickchart {\n",
              "    background-color: var(--bg-color);\n",
              "    border: none;\n",
              "    border-radius: 50%;\n",
              "    cursor: pointer;\n",
              "    display: none;\n",
              "    fill: var(--fill-color);\n",
              "    height: 32px;\n",
              "    padding: 0;\n",
              "    width: 32px;\n",
              "  }\n",
              "\n",
              "  .colab-df-quickchart:hover {\n",
              "    background-color: var(--hover-bg-color);\n",
              "    box-shadow: 0 1px 2px rgba(60, 64, 67, 0.3), 0 1px 3px 1px rgba(60, 64, 67, 0.15);\n",
              "    fill: var(--button-hover-fill-color);\n",
              "  }\n",
              "\n",
              "  .colab-df-quickchart-complete:disabled,\n",
              "  .colab-df-quickchart-complete:disabled:hover {\n",
              "    background-color: var(--disabled-bg-color);\n",
              "    fill: var(--disabled-fill-color);\n",
              "    box-shadow: none;\n",
              "  }\n",
              "\n",
              "  .colab-df-spinner {\n",
              "    border: 2px solid var(--fill-color);\n",
              "    border-color: transparent;\n",
              "    border-bottom-color: var(--fill-color);\n",
              "    animation:\n",
              "      spin 1s steps(1) infinite;\n",
              "  }\n",
              "\n",
              "  @keyframes spin {\n",
              "    0% {\n",
              "      border-color: transparent;\n",
              "      border-bottom-color: var(--fill-color);\n",
              "      border-left-color: var(--fill-color);\n",
              "    }\n",
              "    20% {\n",
              "      border-color: transparent;\n",
              "      border-left-color: var(--fill-color);\n",
              "      border-top-color: var(--fill-color);\n",
              "    }\n",
              "    30% {\n",
              "      border-color: transparent;\n",
              "      border-left-color: var(--fill-color);\n",
              "      border-top-color: var(--fill-color);\n",
              "      border-right-color: var(--fill-color);\n",
              "    }\n",
              "    40% {\n",
              "      border-color: transparent;\n",
              "      border-right-color: var(--fill-color);\n",
              "      border-top-color: var(--fill-color);\n",
              "    }\n",
              "    60% {\n",
              "      border-color: transparent;\n",
              "      border-right-color: var(--fill-color);\n",
              "    }\n",
              "    80% {\n",
              "      border-color: transparent;\n",
              "      border-right-color: var(--fill-color);\n",
              "      border-bottom-color: var(--fill-color);\n",
              "    }\n",
              "    90% {\n",
              "      border-color: transparent;\n",
              "      border-bottom-color: var(--fill-color);\n",
              "    }\n",
              "  }\n",
              "</style>\n",
              "\n",
              "      <script>\n",
              "        async function quickchart(key) {\n",
              "          const quickchartButtonEl =\n",
              "            document.querySelector('#' + key + ' button');\n",
              "          quickchartButtonEl.disabled = true;  // To prevent multiple clicks.\n",
              "          quickchartButtonEl.classList.add('colab-df-spinner');\n",
              "          try {\n",
              "            const charts = await google.colab.kernel.invokeFunction(\n",
              "                'suggestCharts', [key], {});\n",
              "          } catch (error) {\n",
              "            console.error('Error during call to suggestCharts:', error);\n",
              "          }\n",
              "          quickchartButtonEl.classList.remove('colab-df-spinner');\n",
              "          quickchartButtonEl.classList.add('colab-df-quickchart-complete');\n",
              "        }\n",
              "        (() => {\n",
              "          let quickchartButtonEl =\n",
              "            document.querySelector('#df-1d858895-1158-405e-870a-a8fdcd56e36f button');\n",
              "          quickchartButtonEl.style.display =\n",
              "            google.colab.kernel.accessAllowed ? 'block' : 'none';\n",
              "        })();\n",
              "      </script>\n",
              "    </div>\n",
              "\n",
              "  <div id=\"id_1f58b971-0766-487b-ba83-1c66617dac50\">\n",
              "    <style>\n",
              "      .colab-df-generate {\n",
              "        background-color: #E8F0FE;\n",
              "        border: none;\n",
              "        border-radius: 50%;\n",
              "        cursor: pointer;\n",
              "        display: none;\n",
              "        fill: #1967D2;\n",
              "        height: 32px;\n",
              "        padding: 0 0 0 0;\n",
              "        width: 32px;\n",
              "      }\n",
              "\n",
              "      .colab-df-generate:hover {\n",
              "        background-color: #E2EBFA;\n",
              "        box-shadow: 0px 1px 2px rgba(60, 64, 67, 0.3), 0px 1px 3px 1px rgba(60, 64, 67, 0.15);\n",
              "        fill: #174EA6;\n",
              "      }\n",
              "\n",
              "      [theme=dark] .colab-df-generate {\n",
              "        background-color: #3B4455;\n",
              "        fill: #D2E3FC;\n",
              "      }\n",
              "\n",
              "      [theme=dark] .colab-df-generate:hover {\n",
              "        background-color: #434B5C;\n",
              "        box-shadow: 0px 1px 3px 1px rgba(0, 0, 0, 0.15);\n",
              "        filter: drop-shadow(0px 1px 2px rgba(0, 0, 0, 0.3));\n",
              "        fill: #FFFFFF;\n",
              "      }\n",
              "    </style>\n",
              "    <button class=\"colab-df-generate\" onclick=\"generateWithVariable('correlation_matrix')\"\n",
              "            title=\"Generate code using this dataframe.\"\n",
              "            style=\"display:none;\">\n",
              "\n",
              "  <svg xmlns=\"http://www.w3.org/2000/svg\" height=\"24px\"viewBox=\"0 0 24 24\"\n",
              "       width=\"24px\">\n",
              "    <path d=\"M7,19H8.4L18.45,9,17,7.55,7,17.6ZM5,21V16.75L18.45,3.32a2,2,0,0,1,2.83,0l1.4,1.43a1.91,1.91,0,0,1,.58,1.4,1.91,1.91,0,0,1-.58,1.4L9.25,21ZM18.45,9,17,7.55Zm-12,3A5.31,5.31,0,0,0,4.9,8.1,5.31,5.31,0,0,0,1,6.5,5.31,5.31,0,0,0,4.9,4.9,5.31,5.31,0,0,0,6.5,1,5.31,5.31,0,0,0,8.1,4.9,5.31,5.31,0,0,0,12,6.5,5.46,5.46,0,0,0,6.5,12Z\"/>\n",
              "  </svg>\n",
              "    </button>\n",
              "    <script>\n",
              "      (() => {\n",
              "      const buttonEl =\n",
              "        document.querySelector('#id_1f58b971-0766-487b-ba83-1c66617dac50 button.colab-df-generate');\n",
              "      buttonEl.style.display =\n",
              "        google.colab.kernel.accessAllowed ? 'block' : 'none';\n",
              "\n",
              "      buttonEl.onclick = () => {\n",
              "        google.colab.notebook.generateWithVariable('correlation_matrix');\n",
              "      }\n",
              "      })();\n",
              "    </script>\n",
              "  </div>\n",
              "\n",
              "    </div>\n",
              "  </div>\n"
            ],
            "application/vnd.google.colaboratory.intrinsic+json": {
              "type": "dataframe",
              "variable_name": "correlation_matrix",
              "summary": "{\n  \"name\": \"correlation_matrix\",\n  \"rows\": 4,\n  \"fields\": [\n    {\n      \"column\": \"age\",\n      \"properties\": {\n        \"dtype\": \"number\",\n        \"std\": 0.43855126689828755,\n        \"min\": 0.04246899855884958,\n        \"max\": 1.0,\n        \"num_unique_values\": 4,\n        \"samples\": [\n          0.1092718815485351,\n          0.299008193330648,\n          1.0\n        ],\n        \"semantic_type\": \"\",\n        \"description\": \"\"\n      }\n    },\n    {\n      \"column\": \"bmi\",\n      \"properties\": {\n        \"dtype\": \"number\",\n        \"std\": 0.45298891937204494,\n        \"min\": 0.012758900820673994,\n        \"max\": 1.0,\n        \"num_unique_values\": 4,\n        \"samples\": [\n          1.0,\n          0.19834096883362912,\n          0.1092718815485351\n        ],\n        \"semantic_type\": \"\",\n        \"description\": \"\"\n      }\n    },\n    {\n      \"column\": \"children\",\n      \"properties\": {\n        \"dtype\": \"number\",\n        \"std\": 0.4799933789762917,\n        \"min\": 0.012758900820673994,\n        \"max\": 1.0,\n        \"num_unique_values\": 4,\n        \"samples\": [\n          0.012758900820673994,\n          0.06799822684790495,\n          0.04246899855884958\n        ],\n        \"semantic_type\": \"\",\n        \"description\": \"\"\n      }\n    },\n    {\n      \"column\": \"charges\",\n      \"properties\": {\n        \"dtype\": \"number\",\n        \"std\": 0.416649607535863,\n        \"min\": 0.06799822684790495,\n        \"max\": 1.0,\n        \"num_unique_values\": 4,\n        \"samples\": [\n          0.19834096883362912,\n          1.0,\n          0.299008193330648\n        ],\n        \"semantic_type\": \"\",\n        \"description\": \"\"\n      }\n    }\n  ]\n}"
            }
          },
          "metadata": {}
        },
        {
          "output_type": "stream",
          "name": "stdout",
          "text": [
            "Key observations:\n",
            "- 'Charges' has a moderate positive correlation with 'age' (0.30) and 'bmi' (0.20).\n",
            "- 'Age' and 'bmi' have a weak positive correlation (0.11).\n",
            "- 'Children' has very weak correlations with age, bmi, and charges.\n",
            "\n",
            "5. Distribution and Outliers (from visualizations):\n",
            "- Histograms show the frequency distribution of each numerical variable.\n",
            "- Box plots visualize quartiles and potential outliers.\n",
            "- 'Age' appears relatively uniformly distributed.\n",
            "- 'BMI' shows a roughly normal distribution, with some potential outliers on the higher end.\n",
            "- 'Children' is skewed towards lower values, with most individuals having 0 or 1 child.\n",
            "- 'Charges' distribution is highly skewed to the right, indicating that most charges are lower, but there are a significant number of higher charges, as also suggested by the box plot which shows many potential outliers on the higher end.\n"
          ]
        }
      ]
    },
    {
      "cell_type": "markdown",
      "metadata": {
        "id": "a666cf87"
      },
      "source": [
        "## Summary:\n",
        "\n",
        "### Data Analysis Key Findings\n",
        "\n",
        "*   The dataset contains 1338 rows and 7 columns, with numerical variables being 'age', 'bmi', 'children', and 'charges'.\n",
        "*   There are no missing values in any of the columns.\n",
        "*   One duplicate row was identified in the dataset.\n",
        "*   Key descriptive statistics for numerical variables:\n",
        "    *   The average age is approximately 39.21 years, ranging from 18 to 64.\n",
        "    *   The average BMI is around 30.66, ranging from 15.96 to 53.13.\n",
        "    *   The average number of children is about 1.09, with a maximum of 5.\n",
        "    *   Medical charges have a wide range, from \\$1121.87 to \\$63770.43, with a mean of approximately \\$13270.42 and a large standard deviation (\\$12110.01), indicating high variability and a right-skewed distribution.\n",
        "*   Correlation analysis revealed:\n",
        "    *   'Charges' has a moderate positive correlation with 'age' (0.30) and 'bmi' (0.20).\n",
        "    *   'Age' and 'bmi' have a weak positive correlation (0.11).\n",
        "    *   'Children' has very weak correlations with age, bmi, and charges.\n",
        "*   Visualizations (histograms and box plots) indicate:\n",
        "    *   'Age' is relatively uniformly distributed.\n",
        "    *   'BMI' shows a roughly normal distribution with some higher-end outliers.\n",
        "    *   'Children' is skewed towards lower values (most individuals have 0 or 1 child).\n",
        "    *   'Charges' is highly skewed to the right, with many potential outliers on the higher end.\n",
        "\n",
        "### Insights or Next Steps\n",
        "\n",
        "*   Consider addressing the single duplicate row identified, likely by removing it, to ensure data integrity for further analysis or modeling.\n",
        "*   Investigate the variables 'smoker' and 'region' to understand their influence on 'charges', as the correlations with numerical variables alone do not fully explain the high variability in charges.\n"
      ]
    },
    {
      "cell_type": "markdown",
      "metadata": {
        "id": "fc3281b4"
      },
      "source": [
        "# Task\n",
        "Perform a linear regression analysis on the \"insurance.csv\" dataset (\"https://github.com/stedy/Machine-Learning-with-R-datasets/blob/master/insurance.csv\"). This involves: loading the data, performing exploratory data analysis on numerical variables (checking types, missing values, duplicates, correlations), selecting relevant variables with justification, handling duplicate rows, splitting the data into training and testing sets, scaling the data, training a simple or multiple linear regression model, and evaluating the model's performance."
      ]
    },
    {
      "cell_type": "markdown",
      "metadata": {
        "id": "cbbbac98"
      },
      "source": [
        "## Select variables\n",
        "\n",
        "### Subtask:\n",
        "Based on the exploratory data analysis, select the numerical variables to be used as features and the target variable for the regression model. Justify the selection.\n"
      ]
    },
    {
      "cell_type": "markdown",
      "metadata": {
        "id": "c5e91e80"
      },
      "source": [
        "**Reasoning**:\n",
        "Based on the correlation analysis and the goal of the regression, select 'age', 'bmi', and 'children' as features and 'charges' as the target variable for the linear regression model and justify the selection based on the correlation matrix.\n",
        "\n"
      ]
    },
    {
      "cell_type": "code",
      "metadata": {
        "colab": {
          "base_uri": "https://localhost:8080/"
        },
        "id": "3a8e6157",
        "outputId": "e23c0a7a-ab3c-4585-8166-84e4570b103d"
      },
      "source": [
        "# Select features and target variable\n",
        "features = ['age', 'bmi', 'children']\n",
        "target = 'charges'\n",
        "\n",
        "print(f\"Selected Features for Regression: {features}\")\n",
        "print(f\"Selected Target Variable for Regression: {target}\")\n",
        "\n",
        "print(\"\\nJustification for Feature Selection:\")\n",
        "print(\"Based on the correlation matrix, 'age' and 'bmi' show moderate positive correlations with the target variable 'charges' (0.30 and 0.20 respectively). This suggests that as age or BMI increases, medical charges tend to increase, making them potentially good predictors.\")\n",
        "print(\"While 'children' has a very weak correlation with 'charges' (0.07), it is a numerical variable and might still contribute to the model's predictive power, especially in combination with other features. We will include it in the initial model and evaluate its impact.\")\n",
        "print(\"'Charges' is the logical target variable as the task is to predict medical costs.\")"
      ],
      "execution_count": null,
      "outputs": [
        {
          "output_type": "stream",
          "name": "stdout",
          "text": [
            "Selected Features for Regression: ['age', 'bmi', 'children']\n",
            "Selected Target Variable for Regression: charges\n",
            "\n",
            "Justification for Feature Selection:\n",
            "Based on the correlation matrix, 'age' and 'bmi' show moderate positive correlations with the target variable 'charges' (0.30 and 0.20 respectively). This suggests that as age or BMI increases, medical charges tend to increase, making them potentially good predictors.\n",
            "While 'children' has a very weak correlation with 'charges' (0.07), it is a numerical variable and might still contribute to the model's predictive power, especially in combination with other features. We will include it in the initial model and evaluate its impact.\n",
            "'Charges' is the logical target variable as the task is to predict medical costs.\n"
          ]
        }
      ]
    },
    {
      "cell_type": "markdown",
      "metadata": {
        "id": "38e4743f"
      },
      "source": [
        "## Handle duplicate rows\n",
        "\n",
        "### Subtask:\n",
        "Remove the duplicate row identified in the previous analysis to ensure data integrity.\n"
      ]
    },
    {
      "cell_type": "markdown",
      "metadata": {
        "id": "360e6d0a"
      },
      "source": [
        "**Reasoning**:\n",
        "Remove the duplicate row from the DataFrame and then verify the removal by checking for duplicate rows again.\n",
        "\n"
      ]
    },
    {
      "cell_type": "code",
      "metadata": {
        "colab": {
          "base_uri": "https://localhost:8080/"
        },
        "id": "7c2aab92",
        "outputId": "ff3d2384-fede-4adf-9784-91520fd74493"
      },
      "source": [
        "df.drop_duplicates(inplace=True)\n",
        "duplicate_rows_count_after_drop = df.duplicated().sum()\n",
        "print(\"Total count of duplicate rows after dropping:\", duplicate_rows_count_after_drop)"
      ],
      "execution_count": null,
      "outputs": [
        {
          "output_type": "stream",
          "name": "stdout",
          "text": [
            "Total count of duplicate rows after dropping: 0\n"
          ]
        }
      ]
    },
    {
      "cell_type": "markdown",
      "metadata": {
        "id": "0f4dedb3"
      },
      "source": [
        "## Split data\n",
        "\n",
        "### Subtask:\n",
        "Split the dataset into training and testing sets.\n"
      ]
    },
    {
      "cell_type": "markdown",
      "metadata": {
        "id": "c827f652"
      },
      "source": [
        "**Reasoning**:\n",
        "Split the data into training and testing sets using the selected features and target variable, and print the shapes of the resulting sets.\n",
        "\n"
      ]
    },
    {
      "cell_type": "code",
      "metadata": {
        "colab": {
          "base_uri": "https://localhost:8080/"
        },
        "id": "e841dee8",
        "outputId": "ee1e7c07-d31a-4dfc-e05c-0609270e283c"
      },
      "source": [
        "from sklearn.model_selection import train_test_split\n",
        "\n",
        "X = df[features]\n",
        "y = df[target]\n",
        "\n",
        "X_train, X_test, y_train, y_test = train_test_split(X, y, test_size=0.25, random_state=42)\n",
        "\n",
        "print(\"Shape of X_train:\", X_train.shape)\n",
        "print(\"Shape of X_test:\", X_test.shape)\n",
        "print(\"Shape of y_train:\", y_train.shape)\n",
        "print(\"Shape of y_test:\", y_test.shape)"
      ],
      "execution_count": null,
      "outputs": [
        {
          "output_type": "stream",
          "name": "stdout",
          "text": [
            "Shape of X_train: (1002, 3)\n",
            "Shape of X_test: (335, 3)\n",
            "Shape of y_train: (1002,)\n",
            "Shape of y_test: (335,)\n"
          ]
        }
      ]
    },
    {
      "cell_type": "markdown",
      "metadata": {
        "id": "e2c392a9"
      },
      "source": [
        "## Scale data\n",
        "\n",
        "### Subtask:\n",
        "Scale the numerical features to ensure they have similar ranges, which can improve the performance of the regression model.\n"
      ]
    },
    {
      "cell_type": "markdown",
      "metadata": {
        "id": "6945d5cf"
      },
      "source": [
        "**Reasoning**:\n",
        "Import StandardScaler, instantiate it, fit it to the training data, and transform both training and testing data.\n",
        "\n"
      ]
    },
    {
      "cell_type": "code",
      "metadata": {
        "colab": {
          "base_uri": "https://localhost:8080/"
        },
        "id": "df9d99d4",
        "outputId": "dbfbcbfc-d81c-41b6-f7f9-bad699627996"
      },
      "source": [
        "from sklearn.preprocessing import StandardScaler\n",
        "\n",
        "scaler = StandardScaler()\n",
        "X_train_scaled = scaler.fit_transform(X_train)\n",
        "X_test_scaled = scaler.transform(X_test)\n",
        "\n",
        "print(\"Shape of scaled X_train:\", X_train_scaled.shape)\n",
        "print(\"Shape of scaled X_test:\", X_test_scaled.shape)"
      ],
      "execution_count": null,
      "outputs": [
        {
          "output_type": "stream",
          "name": "stdout",
          "text": [
            "Shape of scaled X_train: (1002, 3)\n",
            "Shape of scaled X_test: (335, 3)\n"
          ]
        }
      ]
    },
    {
      "cell_type": "markdown",
      "metadata": {
        "id": "8c3b529c"
      },
      "source": [
        "## Train the model\n",
        "\n",
        "### Subtask:\n",
        "Train a simple linear regression or multiple linear regression model using the training data.\n"
      ]
    },
    {
      "cell_type": "markdown",
      "metadata": {
        "id": "47ed1359"
      },
      "source": [
        "**Reasoning**:\n",
        "Import the LinearRegression model, instantiate it, fit it to the scaled training data, and print the intercept and coefficients.\n",
        "\n"
      ]
    },
    {
      "cell_type": "code",
      "metadata": {
        "colab": {
          "base_uri": "https://localhost:8080/"
        },
        "id": "114bcf97",
        "outputId": "34edceb6-aa59-4265-bf9e-294cc7167770"
      },
      "source": [
        "from sklearn.linear_model import LinearRegression\n",
        "\n",
        "model = LinearRegression()\n",
        "model.fit(X_train_scaled, y_train)\n",
        "\n",
        "print(\"Intercept:\", model.intercept_)\n",
        "print(\"Coefficients:\", model.coef_)"
      ],
      "execution_count": null,
      "outputs": [
        {
          "output_type": "stream",
          "name": "stdout",
          "text": [
            "Intercept: 13082.300336067865\n",
            "Coefficients: [3038.6379423  1587.45892592  881.27198441]\n"
          ]
        }
      ]
    },
    {
      "cell_type": "markdown",
      "metadata": {
        "id": "258c10c5"
      },
      "source": [
        "## Evaluate the model\n",
        "\n",
        "### Subtask:\n",
        "Evaluate the performance of the trained model using appropriate metrics on the testing data.\n"
      ]
    },
    {
      "cell_type": "markdown",
      "metadata": {
        "id": "f583153c"
      },
      "source": [
        "**Reasoning**:\n",
        "Calculate and print the MAE, MSE, and R-squared to evaluate the model's performance on the testing data.\n",
        "\n"
      ]
    },
    {
      "cell_type": "code",
      "metadata": {
        "colab": {
          "base_uri": "https://localhost:8080/"
        },
        "id": "3161494c",
        "outputId": "c2340176-8c4e-43ac-d7ff-ba2f9a0d4d60"
      },
      "source": [
        "from sklearn.metrics import mean_absolute_error, mean_squared_error, r2_score\n",
        "\n",
        "y_pred = model.predict(X_test_scaled)\n",
        "\n",
        "mae = mean_absolute_error(y_test, y_pred)\n",
        "mse = mean_squared_error(y_test, y_pred)\n",
        "r2 = r2_score(y_test, y_pred)\n",
        "\n",
        "print(f\"Mean Absolute Error (MAE): {mae:.2f}\")\n",
        "print(f\"Mean Squared Error (MSE): {mse:.2f}\")\n",
        "print(f\"R-squared (R2): {r2:.2f}\")"
      ],
      "execution_count": null,
      "outputs": [
        {
          "output_type": "stream",
          "name": "stdout",
          "text": [
            "Mean Absolute Error (MAE): 9261.94\n",
            "Mean Squared Error (MSE): 146589702.80\n",
            "R-squared (R2): 0.15\n"
          ]
        }
      ]
    },
    {
      "cell_type": "markdown",
      "metadata": {
        "id": "beb4b02e"
      },
      "source": [
        "## Summarize findings\n",
        "\n",
        "### Subtask:\n",
        "Present a summary of the model's performance and insights.\n"
      ]
    },
    {
      "cell_type": "markdown",
      "metadata": {
        "id": "e842c43f"
      },
      "source": [
        "**Reasoning**:\n",
        "Present a summary of the model's performance and insights based on the calculated evaluation metrics and the previous analysis steps.\n",
        "\n"
      ]
    },
    {
      "cell_type": "code",
      "metadata": {
        "colab": {
          "base_uri": "https://localhost:8080/"
        },
        "id": "faf251f2",
        "outputId": "f0691ad0-faf5-4a53-a369-9d7c04f24dad"
      },
      "source": [
        "print(\"Model Performance Summary:\")\n",
        "print(f\"Mean Absolute Error (MAE): {mae:.2f}\")\n",
        "print(f\"Mean Squared Error (MSE): {mse:.2f}\")\n",
        "print(f\"R-squared (R2): {r2:.2f}\")\n",
        "\n",
        "print(\"\\nInterpretation of Metrics:\")\n",
        "print(f\"- MAE of {mae:.2f} means that, on average, the model's predictions for medical charges are off by approximately ${mae:.2f}.\")\n",
        "print(f\"- MSE of {mse:.2f} gives a larger weight to larger errors. A high MSE suggests that there are some predictions that are significantly far from the actual values.\")\n",
        "print(f\"- The R-squared value of {r2:.2f} indicates that approximately {r2*100:.2f}% of the variance in medical charges can be explained by the features used in the model (age, bmi, and children).\")\n",
        "\n",
        "print(\"\\nInsights and Limitations:\")\n",
        "print(\"The R-squared value of 0.15 is relatively low, suggesting that the selected numerical features (age, bmi, children) only explain a small portion of the variability in medical charges.\")\n",
        "print(\"This aligns with the initial correlation analysis, which showed only weak to moderate correlations between these numerical features and 'charges'.\")\n",
        "print(\"Other factors, likely including the categorical variables 'smoker' and 'region', are significant drivers of medical costs and are not included in this simple linear regression model using only numerical features.\")\n",
        "print(\"Therefore, the current model has limited predictive power for medical charges based on the selected numerical variables alone.\")"
      ],
      "execution_count": null,
      "outputs": [
        {
          "output_type": "stream",
          "name": "stdout",
          "text": [
            "Model Performance Summary:\n",
            "Mean Absolute Error (MAE): 9261.94\n",
            "Mean Squared Error (MSE): 146589702.80\n",
            "R-squared (R2): 0.15\n",
            "\n",
            "Interpretation of Metrics:\n",
            "- MAE of 9261.94 means that, on average, the model's predictions for medical charges are off by approximately $9261.94.\n",
            "- MSE of 146589702.80 gives a larger weight to larger errors. A high MSE suggests that there are some predictions that are significantly far from the actual values.\n",
            "- The R-squared value of 0.15 indicates that approximately 15.22% of the variance in medical charges can be explained by the features used in the model (age, bmi, and children).\n",
            "\n",
            "Insights and Limitations:\n",
            "The R-squared value of 0.15 is relatively low, suggesting that the selected numerical features (age, bmi, children) only explain a small portion of the variability in medical charges.\n",
            "This aligns with the initial correlation analysis, which showed only weak to moderate correlations between these numerical features and 'charges'.\n",
            "Other factors, likely including the categorical variables 'smoker' and 'region', are significant drivers of medical costs and are not included in this simple linear regression model using only numerical features.\n",
            "Therefore, the current model has limited predictive power for medical charges based on the selected numerical variables alone.\n"
          ]
        }
      ]
    },
    {
      "cell_type": "markdown",
      "metadata": {
        "id": "a67fcd67"
      },
      "source": [
        "## Summary:\n",
        "\n",
        "### Data Analysis Key Findings\n",
        "\n",
        "*   The numerical features 'age', 'bmi', and 'children' were selected for the regression model, and 'charges' was selected as the target variable.\n",
        "*   'age' (0.30) and 'bmi' (0.20) showed moderate positive correlations with 'charges', while 'children' showed a weak correlation (0.07).\n",
        "*   One duplicate row was identified and successfully removed from the dataset.\n",
        "*   The dataset was split into training (75%) and testing (25%) sets.\n",
        "*   The numerical features in both the training and testing sets were successfully scaled using `StandardScaler`.\n",
        "*   A linear regression model was trained, resulting in an intercept of approximately 13082.30 and coefficients of approximately 3038.64, 1587.46, and 881.27 for the scaled features.\n",
        "*   The model's performance on the testing data was evaluated with the following metrics:\n",
        "    *   Mean Absolute Error (MAE): 9261.94, indicating that predictions are off by approximately \\$9261.94 on average.\n",
        "    *   Mean Squared Error (MSE): 146589702.80, suggesting some predictions are significantly far from actual values.\n",
        "    *   R-squared (R2): 0.15, meaning only about 15% of the variance in medical charges is explained by the selected numerical features.\n",
        "\n",
        "### Insights or Next Steps\n",
        "\n",
        "*   The low R-squared value suggests that the selected numerical features alone are not strong predictors of medical charges.\n",
        "*   Including categorical variables like 'smoker' and 'region' in the model is likely necessary to significantly improve predictive power, as these are expected to be strong drivers of medical costs.\n"
      ]
    },
    {
      "cell_type": "markdown",
      "metadata": {
        "id": "4b2eb8e2"
      },
      "source": [
        "# Task\n",
        "Realizar un análisis exploratorio de datos, seleccionar variables, y entrenar y evaluar modelos de regresión lineal (simple o multivariante) y SVR o Árbol de Decisión en el dataset \"https://github.com/stedy/Machine-Learning-with-R-datasets/blob/master/insurance.csv\" en un notebook de Google Colab llamado \"tp2_<nombreyapellido>_2022.ipynb\", justificando las selecciones y presentando los resultados en español."
      ]
    },
    {
      "cell_type": "markdown",
      "metadata": {
        "id": "9feb193f"
      },
      "source": [
        "## Train the svr or decision tree model\n",
        "\n",
        "### Subtask:\n",
        "Train either an SVR or a Decision Tree regression model using the scaled training data.\n"
      ]
    },
    {
      "cell_type": "markdown",
      "metadata": {
        "id": "63a2f077"
      },
      "source": [
        "**Reasoning**:\n",
        "Import the DecisionTreeRegressor model, instantiate it, and fit it to the scaled training data.\n",
        "\n"
      ]
    },
    {
      "cell_type": "code",
      "metadata": {
        "colab": {
          "base_uri": "https://localhost:8080/"
        },
        "id": "4b5c8357",
        "outputId": "b6df00b3-9bbc-44a4-a3d6-2926d43c39f2"
      },
      "source": [
        "from sklearn.tree import DecisionTreeRegressor\n",
        "\n",
        "dt_model = DecisionTreeRegressor(random_state=42)\n",
        "dt_model.fit(X_train_scaled, y_train)\n",
        "\n",
        "print(\"Decision Tree Regression model trained successfully.\")"
      ],
      "execution_count": null,
      "outputs": [
        {
          "output_type": "stream",
          "name": "stdout",
          "text": [
            "Decision Tree Regression model trained successfully.\n"
          ]
        }
      ]
    },
    {
      "cell_type": "markdown",
      "metadata": {
        "id": "12797166"
      },
      "source": [
        "## Evaluate the model\n",
        "\n",
        "### Subtask:\n",
        "Evaluate the performance of the trained SVR or Decision Tree model using appropriate metrics on the scaled testing data.\n"
      ]
    },
    {
      "cell_type": "markdown",
      "metadata": {
        "id": "ece743d9"
      },
      "source": [
        "**Reasoning**:\n",
        "Calculate and print the MAE, MSE, and R-squared to evaluate the Decision Tree model's performance on the testing data.\n",
        "\n"
      ]
    },
    {
      "cell_type": "code",
      "metadata": {
        "colab": {
          "base_uri": "https://localhost:8080/"
        },
        "id": "8c8e2d6a",
        "outputId": "a13c70d7-9257-44f1-90ae-a352817cf337"
      },
      "source": [
        "from sklearn.metrics import mean_absolute_error, mean_squared_error, r2_score\n",
        "\n",
        "dt_y_pred = dt_model.predict(X_test_scaled)\n",
        "\n",
        "dt_mae = mean_absolute_error(y_test, dt_y_pred)\n",
        "dt_mse = mean_squared_error(y_test, dt_y_pred)\n",
        "dt_r2 = r2_score(y_test, dt_y_pred)\n",
        "\n",
        "print(f\"Decision Tree Model Performance:\")\n",
        "print(f\"Mean Absolute Error (MAE): {dt_mae:.2f}\")\n",
        "print(f\"Mean Squared Error (MSE): {dt_mse:.2f}\")\n",
        "print(f\"R-squared (R2): {dt_r2:.2f}\")"
      ],
      "execution_count": null,
      "outputs": [
        {
          "output_type": "stream",
          "name": "stdout",
          "text": [
            "Decision Tree Model Performance:\n",
            "Mean Absolute Error (MAE): 11010.76\n",
            "Mean Squared Error (MSE): 298252510.63\n",
            "R-squared (R2): -0.72\n"
          ]
        }
      ]
    },
    {
      "cell_type": "markdown",
      "metadata": {
        "id": "47219716"
      },
      "source": [
        "## Compare model performance\n",
        "\n",
        "### Subtask:\n",
        "Compare the performance of the SVR or Decision Tree model with the Linear Regression model.\n"
      ]
    },
    {
      "cell_type": "markdown",
      "metadata": {
        "id": "f5424c25"
      },
      "source": [
        "**Reasoning**:\n",
        "Print the evaluation metrics for both models and compare their performance.\n",
        "\n"
      ]
    },
    {
      "cell_type": "code",
      "metadata": {
        "colab": {
          "base_uri": "https://localhost:8080/"
        },
        "id": "94b59547",
        "outputId": "7c435242-929c-495b-8fd6-073d5015f57c"
      },
      "source": [
        "print(\"Linear Regression Model Performance:\")\n",
        "print(f\"Mean Absolute Error (MAE): {mae:.2f}\")\n",
        "print(f\"Mean Squared Error (MSE): {mse:.2f}\")\n",
        "print(f\"R-squared (R2): {r2:.2f}\")\n",
        "\n",
        "print(\"\\nDecision Tree Model Performance:\")\n",
        "print(f\"Mean Absolute Error (MAE): {dt_mae:.2f}\")\n",
        "print(f\"Mean Squared Error (MSE): {dt_mse:.2f}\")\n",
        "print(f\"R-squared (R2): {dt_r2:.2f}\")\n",
        "\n",
        "print(\"\\nComparison of Model Performance:\")\n",
        "print(f\"Linear Regression MAE: {mae:.2f} vs Decision Tree MAE: {dt_mae:.2f}\")\n",
        "print(f\"Linear Regression MSE: {mse:.2f} vs Decision Tree MSE: {dt_mse:.2f}\")\n",
        "print(f\"Linear Regression R2: {r2:.2f} vs Decision Tree R2: {dt_r2:.2f}\")\n",
        "\n",
        "print(\"\\nBased on the evaluation metrics:\")\n",
        "if mae < dt_mae:\n",
        "    print(\"- The Linear Regression model has a lower MAE, indicating smaller average prediction errors.\")\n",
        "elif mae > dt_mae:\n",
        "    print(\"- The Decision Tree model has a lower MAE, indicating smaller average prediction errors.\")\n",
        "else:\n",
        "    print(\"- Both models have similar MAE values.\")\n",
        "\n",
        "if mse < dt_mse:\n",
        "    print(\"- The Linear Regression model has a lower MSE, suggesting fewer and smaller large errors.\")\n",
        "elif mse > dt_mse:\n",
        "    print(\"- The Decision Tree model has a lower MSE, suggesting fewer and smaller large errors.\")\n",
        "else:\n",
        "    print(\"- Both models have similar MSE values.\")\n",
        "\n",
        "if r2 > dt_r2:\n",
        "    print(\"- The Linear Regression model has a higher R-squared value, indicating that it explains more of the variance in the target variable.\")\n",
        "elif r2 < dt_r2:\n",
        "    print(\"- The Decision Tree model has a higher R-squared value, indicating that it explains more of the variance in the target variable.\")\n",
        "else:\n",
        "    print(\"- Both models have similar R-squared values.\")\n",
        "\n",
        "print(\"\\nOverall:\")\n",
        "if mae < dt_mae and mse < dt_mse and r2 > dt_r2:\n",
        "    print(\"Based on MAE, MSE, and R2, the Linear Regression model appears to perform better than the Decision Tree model on this dataset with the selected features.\")\n",
        "elif mae > dt_mae and mse > dt_mse and r2 < dt_r2:\n",
        "     print(\"Based on MAE, MSE, and R2, the Decision Tree model appears to perform better than the Linear Regression model on this dataset with the selected features.\")\n",
        "else:\n",
        "    print(\"Comparing the models based on these metrics shows mixed results, or the performance difference is not consistently in favor of one model across all metrics.\")"
      ],
      "execution_count": null,
      "outputs": [
        {
          "output_type": "stream",
          "name": "stdout",
          "text": [
            "Linear Regression Model Performance:\n",
            "Mean Absolute Error (MAE): 9261.94\n",
            "Mean Squared Error (MSE): 146589702.80\n",
            "R-squared (R2): 0.15\n",
            "\n",
            "Decision Tree Model Performance:\n",
            "Mean Absolute Error (MAE): 11010.76\n",
            "Mean Squared Error (MSE): 298252510.63\n",
            "R-squared (R2): -0.72\n",
            "\n",
            "Comparison of Model Performance:\n",
            "Linear Regression MAE: 9261.94 vs Decision Tree MAE: 11010.76\n",
            "Linear Regression MSE: 146589702.80 vs Decision Tree MSE: 298252510.63\n",
            "Linear Regression R2: 0.15 vs Decision Tree R2: -0.72\n",
            "\n",
            "Based on the evaluation metrics:\n",
            "- The Linear Regression model has a lower MAE, indicating smaller average prediction errors.\n",
            "- The Linear Regression model has a lower MSE, suggesting fewer and smaller large errors.\n",
            "- The Linear Regression model has a higher R-squared value, indicating that it explains more of the variance in the target variable.\n",
            "\n",
            "Overall:\n",
            "Based on MAE, MSE, and R2, the Linear Regression model appears to perform better than the Decision Tree model on this dataset with the selected features.\n"
          ]
        }
      ]
    },
    {
      "cell_type": "markdown",
      "metadata": {
        "id": "62103bf5"
      },
      "source": [
        "## Summarize findings\n",
        "\n",
        "### Subtask:\n",
        "Present a summary of the SVR or Decision Tree model's performance and insights, and the comparison with the linear regression model.\n"
      ]
    },
    {
      "cell_type": "markdown",
      "metadata": {
        "id": "ea2af14a"
      },
      "source": [
        "**Reasoning**:\n",
        "Summarize the findings from the model evaluation and comparison, including interpreting the metrics, identifying the better performing model, and discussing insights and limitations.\n",
        "\n"
      ]
    },
    {
      "cell_type": "code",
      "metadata": {
        "colab": {
          "base_uri": "https://localhost:8080/",
          "height": 269
        },
        "id": "8fc16e0f",
        "outputId": "13075e99-43b5-4f41-9c19-a97e91a4627e"
      },
      "source": [
        "print(\"Resumen del Rendimiento y Comparación de Modelos:\")\n",
        "\n",
        "print(\"\\n1. Rendimiento del Modelo de Regresión Lineal:\")\n",
        "print(f\"  - Error Absoluto Medio (MAE): {mae:.2f}\")\n",
        "print(f\"  - Error Cuadrático Medio (MSE): {mse:.2f}\")\n",
        "print(f\"  - R-cuadrado (R2): {r2:.2f}\")\n",
        "print(f\"Interpretación: Un MAE de {mae:.2f} significa que, en promedio, las predicciones del modelo de Regresión Lineal se desvían en aproximadamente ${mae:.2f} de los valores reales. Un R2 de {r2:.2f} indica que el modelo explica aproximadamente el {r2*100:.2f}% de la varianza en los cargos médicos.\")\n",
        "\n",
        "print(\"\\n2. Rendimiento del Modelo de Árbol de Decisión:\")\n",
        "print(f\"  - Error Absoluto Medio (MAE): {dt_mae:.2f}\")\n",
        "print(f\"  - Error Cuadrático Medio (MSE): {dt_mse:.2f}\")\n",
        "print(f\"  - R-cuadrado (R2): {dt_r2:.2f}\")\n",
        "print(f\"Interpretación: Un MAE de {dt_mae:.2f} significa que, en promedio, las predicciones del modelo de Árbol de Decisión se desvían en aproximadamente ${dt_mae:.2f} de los valores reales. Un R2 de {dt_r2:.2f} (negativo) indica que el modelo se ajusta peor a los datos que un modelo horizontal simple que predice la media, lo que sugiere un rendimiento muy deficiente.\")\n",
        "\n",
        "print(\"\\n3. Comparación y Conclusiones:\")\n",
        "print(\"Comparando las métricas, el modelo de Regresión Lineal demostró un rendimiento superior al modelo de Árbol de Decisión con las características numéricas seleccionadas:\")\n",
        "print(f\"- El MAE de Regresión Lineal ({mae:.2f}) es menor que el del Árbol de Decisión ({dt_mae:.2f}), lo que indica errores de predicción promedio más pequeños para la Regresión Lineal.\")\n",
        "print(f\"- El MSE de Regresión Lineal ({mse:.2f}) es significativamente menor que el del Árbol de Decisión ({dt_mse:.2f}), lo que sugiere que la Regresión Lineal tiene menos errores grandes y, en general, sus predicciones están más cerca de los valores reales.\")\n",
        "print(f\"- El R2 de Regresión Lineal ({r2:.2f}) es positivo y considerablemente mayor que el R2 negativo del Árbol de Decisión ({dt_r2:.2f}). Esto significa que el modelo de Regresión Lineal explica una parte de la varianza en los cargos, mientras que el modelo de Árbol de Decisión no logra explicarla e incluso se desempeña peor que una predicción simple basada en la media.\")\n",
        "\n",
        "print(\"\\n4. Limitaciones e Próximos Pasos:\")\n",
        "print(\"El bajo valor de R2 para ambos modelos (especialmente el positivo de la Regresión Lineal) indica que las características numéricas 'age', 'bmi' y 'children' por sí solas no son predictores muy fuertes de los cargos médicos.\")\n",
        "print(\"Esto concuerda con el análisis exploratorio de datos inicial, que mostró correlaciones débiles a moderadas con estas variables.\")\n",
        "print(\"Las variables categóricas como 'smoker' y 'region' probablemente tienen una influencia significativa en los cargos médicos y no se incluyeron en estos modelos. Para mejorar significativamente la capacidad predictiva, sería crucial incorporar estas variables, posiblemente utilizando técnicas como la codificación one-hot para la Regresión Lineal o permitiendo que el Árbol de Decisión maneje variables categóricas si la implementación lo permite o mediante preprocesamiento adecuado.\")"
      ],
      "execution_count": null,
      "outputs": [
        {
          "output_type": "stream",
          "name": "stdout",
          "text": [
            "Resumen del Rendimiento y Comparación de Modelos:\n",
            "\n",
            "1. Rendimiento del Modelo de Regresión Lineal:\n"
          ]
        },
        {
          "output_type": "error",
          "ename": "NameError",
          "evalue": "name 'mae' is not defined",
          "traceback": [
            "\u001b[0;31m---------------------------------------------------------------------------\u001b[0m",
            "\u001b[0;31mNameError\u001b[0m                                 Traceback (most recent call last)",
            "\u001b[0;32m/tmp/ipython-input-392161134.py\u001b[0m in \u001b[0;36m<cell line: 0>\u001b[0;34m()\u001b[0m\n\u001b[1;32m      2\u001b[0m \u001b[0;34m\u001b[0m\u001b[0m\n\u001b[1;32m      3\u001b[0m \u001b[0mprint\u001b[0m\u001b[0;34m(\u001b[0m\u001b[0;34m\"\\n1. Rendimiento del Modelo de Regresión Lineal:\"\u001b[0m\u001b[0;34m)\u001b[0m\u001b[0;34m\u001b[0m\u001b[0;34m\u001b[0m\u001b[0m\n\u001b[0;32m----> 4\u001b[0;31m \u001b[0mprint\u001b[0m\u001b[0;34m(\u001b[0m\u001b[0;34mf\"  - Error Absoluto Medio (MAE): {mae:.2f}\"\u001b[0m\u001b[0;34m)\u001b[0m\u001b[0;34m\u001b[0m\u001b[0;34m\u001b[0m\u001b[0m\n\u001b[0m\u001b[1;32m      5\u001b[0m \u001b[0mprint\u001b[0m\u001b[0;34m(\u001b[0m\u001b[0;34mf\"  - Error Cuadrático Medio (MSE): {mse:.2f}\"\u001b[0m\u001b[0;34m)\u001b[0m\u001b[0;34m\u001b[0m\u001b[0;34m\u001b[0m\u001b[0m\n\u001b[1;32m      6\u001b[0m \u001b[0mprint\u001b[0m\u001b[0;34m(\u001b[0m\u001b[0;34mf\"  - R-cuadrado (R2): {r2:.2f}\"\u001b[0m\u001b[0;34m)\u001b[0m\u001b[0;34m\u001b[0m\u001b[0;34m\u001b[0m\u001b[0m\n",
            "\u001b[0;31mNameError\u001b[0m: name 'mae' is not defined"
          ]
        }
      ]
    },
    {
      "cell_type": "markdown",
      "metadata": {
        "id": "1a1a32e6"
      },
      "source": [
        "## Summary:\n",
        "\n",
        "## Q&A\n",
        "\n",
        "There were no explicit questions asked in the problem description.\n",
        "\n",
        "## Data Analysis Key Findings\n",
        "\n",
        "*   A Decision Tree Regression model was successfully trained using the scaled numerical features 'age', 'bmi', and 'children'.\n",
        "*   The Decision Tree model's performance on the test set was evaluated, yielding a Mean Absolute Error (MAE) of 11010.76, a Mean Squared Error (MSE) of 298252510.63, and an R-squared (\\R^2$) of -0.72.\n",
        "*   Comparing the Decision Tree model to a previously trained Linear Regression model, the Linear Regression model showed superior performance with an MAE of 9261.94, an MSE of 146589702.80, and an \\R^2$ of 0.15.\n",
        "*   The Linear Regression model had lower MAE and MSE, indicating smaller average prediction errors and fewer large errors compared to the Decision Tree model.\n",
        "*   The positive \\R^2$ of the Linear Regression model (0.15) suggests it explains some of the variance in the target variable, while the negative \\R^2$ of the Decision Tree model (-0.72) indicates it performs worse than a simple mean-based prediction.\n",
        "*   The relatively low positive \\R^2$ for the Linear Regression model indicates that the selected numerical features alone are not strong predictors of medical charges.\n",
        "\n",
        "## Insights or Next Steps\n",
        "\n",
        "*   The exclusion of categorical variables such as 'smoker' and 'region' likely significantly limited the predictive power of both models, as these variables were suggested to be important predictors in the initial exploratory analysis.\n",
        "*   Future steps should involve incorporating categorical features into the models, potentially using one-hot encoding for Linear Regression or exploring Decision Tree implementations that handle categorical variables or applying appropriate preprocessing techniques.\n"
      ]
    },
    {
      "cell_type": "markdown",
      "metadata": {
        "id": "e725794b"
      },
      "source": [
        "# Tarea\n",
        "Analizar las variables numéricas en el conjunto de datos \"insurance.csv\", incluyendo la verificación de tipos de datos, valores faltantes, duplicados y correlaciones."
      ]
    },
    {
      "cell_type": "markdown",
      "metadata": {
        "id": "5bde3733"
      },
      "source": [
        "## Cargar el conjunto de datos\n",
        "\n",
        "### Subtarea:\n",
        "Cargar el archivo `insurance.csv` en un DataFrame de pandas."
      ]
    },
    {
      "cell_type": "markdown",
      "metadata": {
        "id": "61898bbb"
      },
      "source": [
        "**Razonamiento**:\n",
        "Importar la librería pandas y cargar los datos en un DataFrame de pandas. Luego mostrar las primeras filas y la información del DataFrame."
      ]
    },
    {
      "cell_type": "markdown",
      "metadata": {
        "id": "685c4b3c"
      },
      "source": [
        "## Identificar variables numéricas\n",
        "\n",
        "### Subtarea:\n",
        "Determinar qué columnas en el DataFrame contienen datos numéricos."
      ]
    },
    {
      "cell_type": "markdown",
      "metadata": {
        "id": "c0dc6acf"
      },
      "source": [
        "**Razonamiento**:\n",
        "Mostrar los tipos de datos de cada columna usando `.info()` e identificar las columnas numéricas."
      ]
    },
    {
      "cell_type": "markdown",
      "metadata": {
        "id": "402c0f90"
      },
      "source": [
        "## Verificar valores faltantes\n",
        "\n",
        "### Subtarea:\n",
        "Identificar si hay valores faltantes en las columnas numéricas y decidir cómo manejarlos si es necesario."
      ]
    },
    {
      "cell_type": "markdown",
      "metadata": {
        "id": "846254ee"
      },
      "source": [
        "**Razonamiento**:\n",
        "Calcular y mostrar el número de valores faltantes para cada columna en el DataFrame para identificar si hay valores faltantes en las columnas numéricas."
      ]
    },
    {
      "cell_type": "markdown",
      "metadata": {
        "id": "8c65d25b"
      },
      "source": [
        "## Verificar filas duplicadas\n",
        "\n",
        "### Subtarea:\n",
        "Identificar si hay filas duplicadas en el conjunto de datos."
      ]
    },
    {
      "cell_type": "markdown",
      "metadata": {
        "id": "5f016ad7"
      },
      "source": [
        "**Razonamiento**:\n",
        "Verificar filas duplicadas en el DataFrame e imprimir el recuento."
      ]
    },
    {
      "cell_type": "markdown",
      "metadata": {
        "id": "675b10c9"
      },
      "source": [
        "## Calcular estadísticas descriptivas\n",
        "\n",
        "### Subtarea:\n",
        "Calcular estadísticas descriptivas (como media, mediana, desviación estándar, etc.) para las variables numéricas."
      ]
    },
    {
      "cell_type": "markdown",
      "metadata": {
        "id": "3f20b818"
      },
      "source": [
        "**Razonamiento**:\n",
        "Calcular y mostrar estadísticas descriptivas para las columnas numéricas."
      ]
    },
    {
      "cell_type": "markdown",
      "metadata": {
        "id": "3ab71148"
      },
      "source": [
        "## Analizar correlaciones\n",
        "\n",
        "### Subtarea:\n",
        "Calcular y visualizar la matriz de correlación para las variables numéricas para comprender las relaciones entre ellas."
      ]
    },
    {
      "cell_type": "markdown",
      "metadata": {
        "id": "066bd990"
      },
      "source": [
        "**Razonamiento**:\n",
        "Calcular la matriz de correlación y visualizarla usando un mapa de calor para comprender las relaciones entre las variables numéricas."
      ]
    },
    {
      "cell_type": "markdown",
      "metadata": {
        "id": "e7c844a9"
      },
      "source": [
        "## Visualizar variables numéricas\n",
        "\n",
        "### Subtarea:\n",
        "Crear visualizaciones (como histogramas, diagramas de caja, etc.) para comprender la distribución de las variables numéricas."
      ]
    },
    {
      "cell_type": "markdown",
      "metadata": {
        "id": "2a5fae68"
      },
      "source": [
        "**Razonamiento**:\n",
        "Iterar a través de las columnas numéricas y crear histogramas y diagramas de caja para cada una para visualizar sus distribuciones e identificar valores atípicos."
      ]
    },
    {
      "cell_type": "markdown",
      "metadata": {
        "id": "ac37feb3"
      },
      "source": [
        "## Resumir hallazgos\n",
        "\n",
        "### Subtarea:\n",
        "Presentar un resumen de los hallazgos clave del análisis exploratorio."
      ]
    },
    {
      "cell_type": "markdown",
      "metadata": {
        "id": "a9d9d7c1"
      },
      "source": [
        "**Razonamiento**:\n",
        "Resumir los hallazgos clave del análisis exploratorio como se solicita en las instrucciones de la subtarea."
      ]
    },
    {
      "cell_type": "markdown",
      "metadata": {
        "id": "347c35ed"
      },
      "source": [
        "# Tarea\n",
        "Realizar un análisis exploratorio de datos, seleccionar variables, y entrenar y evaluar modelos de regresión lineal (simple o multivariante) y SVR o Árbol de Decisión en el dataset \"https://github.com/stedy/Machine-Learning-with-R-datasets/blob/master/insurance.csv\" en un notebook de Google Colab llamado \"tp2__2022.ipynb\", justificando las selecciones y presentando los resultados en español."
      ]
    },
    {
      "cell_type": "markdown",
      "metadata": {
        "id": "95721c9c"
      },
      "source": [
        "## Seleccionar variables\n",
        "\n",
        "### Subtarea:\n",
        "Basado en el análisis exploratorio de datos, seleccionar las variables numéricas a utilizar como características y la variable objetivo para el modelo de regresión. Justificar la selección."
      ]
    },
    {
      "cell_type": "markdown",
      "metadata": {
        "id": "b8409a59"
      },
      "source": [
        "**Razonamiento**:\n",
        "Basado en el análisis de correlación y el objetivo de la regresión, seleccionar 'age', 'bmi' y 'children' como características y 'charges' como la variable objetivo para el modelo de regresión lineal y justificar la selección basándose en la matriz de correlación."
      ]
    },
    {
      "cell_type": "markdown",
      "metadata": {
        "id": "826ecac0"
      },
      "source": [
        "## Manejar filas duplicadas\n",
        "\n",
        "### Subtarea:\n",
        "Eliminar la fila duplicada identificada en el análisis previo para asegurar la integridad de los datos."
      ]
    },
    {
      "cell_type": "markdown",
      "metadata": {
        "id": "798e3c50"
      },
      "source": [
        "**Razonamiento**:\n",
        "Eliminar la fila duplicada del DataFrame y luego verificar la eliminación verificando nuevamente las filas duplicadas."
      ]
    },
    {
      "cell_type": "markdown",
      "metadata": {
        "id": "cab3687d"
      },
      "source": [
        "## Dividir datos\n",
        "\n",
        "### Subtarea:\n",
        "Dividir el conjunto de datos en conjuntos de entrenamiento y prueba."
      ]
    },
    {
      "cell_type": "markdown",
      "metadata": {
        "id": "e0eee270"
      },
      "source": [
        "**Razonamiento**:\n",
        "Dividir los datos en conjuntos de entrenamiento y prueba utilizando las características seleccionadas y la variable objetivo, e imprimir las formas de los conjuntos resultantes."
      ]
    },
    {
      "cell_type": "markdown",
      "metadata": {
        "id": "6ce60815"
      },
      "source": [
        "## Escalar datos\n",
        "\n",
        "### Subtarea:\n",
        "Escalar las características numéricas para asegurar que tengan rangos similares, lo que puede mejorar el rendimiento del modelo de regresión."
      ]
    },
    {
      "cell_type": "markdown",
      "metadata": {
        "id": "9bbfe735"
      },
      "source": [
        "**Razonamiento**:\n",
        "Importar StandardScaler, instanciarlo, ajustarlo a los datos de entrenamiento y transformar tanto los datos de entrenamiento como los de prueba."
      ]
    },
    {
      "cell_type": "markdown",
      "metadata": {
        "id": "8a00cff1"
      },
      "source": [
        "## Entrenar el modelo\n",
        "\n",
        "### Subtarea:\n",
        "Entrenar un modelo de regresión lineal simple o múltiple utilizando los datos de entrenamiento."
      ]
    },
    {
      "cell_type": "markdown",
      "metadata": {
        "id": "7155c17a"
      },
      "source": [
        "**Razonamiento**:\n",
        "Importar el modelo LinearRegression, instanciarlo, ajustarlo a los datos de entrenamiento escalados e imprimir la intersección y los coeficientes."
      ]
    },
    {
      "cell_type": "markdown",
      "metadata": {
        "id": "89c5f0da"
      },
      "source": [
        "## Evaluar el modelo\n",
        "\n",
        "### Subtarea:\n",
        "Evaluar el rendimiento del modelo entrenado utilizando métricas apropiadas en los datos de prueba."
      ]
    },
    {
      "cell_type": "markdown",
      "metadata": {
        "id": "362308f9"
      },
      "source": [
        "**Razonamiento**:\n",
        "Calcular e imprimir el MAE, MSE y R-cuadrado para evaluar el rendimiento del modelo en los datos de prueba."
      ]
    },
    {
      "cell_type": "markdown",
      "metadata": {
        "id": "b8f7d00c"
      },
      "source": [
        "## Resumir hallazgos\n",
        "\n",
        "### Subtarea:\n",
        "Presentar un resumen del rendimiento y las conclusiones del modelo."
      ]
    },
    {
      "cell_type": "markdown",
      "metadata": {
        "id": "7f034063"
      },
      "source": [
        "**Razonamiento**:\n",
        "Presentar un resumen del rendimiento y las conclusiones del modelo basándose en las métricas de evaluación calculadas y los pasos de análisis previos."
      ]
    },
    {
      "cell_type": "markdown",
      "metadata": {
        "id": "8b1a0436"
      },
      "source": [
        "## Entrenar el modelo SVR o árbol de decisión\n",
        "\n",
        "### Subtarea:\n",
        "Entrenar un modelo de regresión SVR o de Árbol de Decisión utilizando los datos de entrenamiento escalados."
      ]
    },
    {
      "cell_type": "markdown",
      "metadata": {
        "id": "9b994d54"
      },
      "source": [
        "**Razonamiento**:\n",
        "Importar el modelo DecisionTreeRegressor, instanciarlo y ajustarlo a los datos de entrenamiento escalados."
      ]
    },
    {
      "cell_type": "markdown",
      "metadata": {
        "id": "4c3ee112"
      },
      "source": [
        "## Evaluar el modelo\n",
        "\n",
        "### Subtarea:\n",
        "Evaluar el rendimiento del modelo SVR o de Árbol de Decisión entrenado utilizando métricas apropiadas en los datos de prueba escalados."
      ]
    },
    {
      "cell_type": "markdown",
      "metadata": {
        "id": "c1f44191"
      },
      "source": [
        "**Razonamiento**:\n",
        "Calcular e imprimir el MAE, MSE y R-cuadrado para evaluar el rendimiento del modelo de Árbol de Decisión en los datos de prueba."
      ]
    },
    {
      "cell_type": "markdown",
      "metadata": {
        "id": "2cb034f5"
      },
      "source": [
        "## Comparar el rendimiento del modelo\n",
        "\n",
        "### Subtarea:\n",
        "Comparar el rendimiento del modelo SVR o de Árbol de Decisión con el modelo de Regresión Lineal."
      ]
    },
    {
      "cell_type": "markdown",
      "metadata": {
        "id": "5782dd90"
      },
      "source": [
        "**Razonamiento**:\n",
        "Imprimir las métricas de evaluación para ambos modelos y comparar su rendimiento."
      ]
    },
    {
      "cell_type": "markdown",
      "metadata": {
        "id": "b8e1711a"
      },
      "source": [
        "## Resumir hallazgos\n",
        "\n",
        "### Subtarea:\n",
        "Presentar un resumen del rendimiento y las conclusiones del modelo SVR o de Árbol de Decisión, y la comparación con el modelo de regresión lineal."
      ]
    },
    {
      "cell_type": "markdown",
      "metadata": {
        "id": "5b04ab3d"
      },
      "source": [
        "**Razonamiento**:\n",
        "Resumir los hallazgos de la evaluación y comparación de modelos, incluyendo la interpretación de las métricas, la identificación del modelo con mejor rendimiento y la discusión de las conclusiones y limitaciones."
      ]
    },
    {
      "cell_type": "markdown",
      "metadata": {
        "id": "38aea750"
      },
      "source": [
        "## Resumen:\n",
        "\n",
        "## Preguntas y Respuestas\n",
        "\n",
        "No se hicieron preguntas explícitas en la descripción del problema.\n",
        "\n",
        "## Hallazgos Clave del Análisis de Datos\n",
        "\n",
        "* Se entrenó con éxito un modelo de Regresión de Árbol de Decisión utilizando las características numéricas escaladas 'age', 'bmi' y 'children'.\n",
        "* El rendimiento del modelo de Árbol de Decisión en el conjunto de prueba fue evaluado, obteniendo un Error Absoluto Medio (MAE) de 11010.76, un Error Cuadrático Medio (MSE) de 298252510.63 y un R-cuadrado (\\R^2$) de -0.72.\n",
        "* Comparando el modelo de Árbol de Decisión con un modelo de Regresión Lineal previamente entrenado, el modelo de Regresión Lineal mostró un rendimiento superior con un MAE de 9261.94, un MSE de 146589702.80 y un \\R^2$ de 0.15.\n",
        "* El modelo de Regresión Lineal tuvo MAE y MSE más bajos, lo que indica errores de predicción promedio más pequeños y menos errores grandes en comparación con el modelo de Árbol de Decisión.\n",
        "* El \\R^2$ positivo del modelo de Regresión Lineal (0.15) sugiere que explica parte de la varianza en la variable objetivo, mientras que el \\R^2$ negativo del modelo de Árbol de Decisión (-0.72) indica que se desempeña peor que una predicción simple basada en la media.\n",
        "* El \\R^2$ positivo relativamente bajo para el modelo de Regresión Lineal indica que las características numéricas seleccionadas por sí solas no son predictores muy fuertes de los cargos médicos.\n",
        "\n",
        "## Conclusiones o Próximos Pasos\n",
        "\n",
        "* La exclusión de variables categóricas como 'smoker' y 'region' probablemente limitó significativamente el poder predictivo de ambos modelos, ya que se sugirió que estas variables eran predictores importantes en el análisis exploratorio inicial.\n",
        "* Los próximos pasos deberían incluir la incorporación de características categóricas en los modelos, posiblemente utilizando codificación one-hot para la Regresión Lineal o explorando implementaciones de Árboles de Decisión que manejen variables categóricas o aplicando técnicas de preprocesamiento adecuadas."
      ]
    },
    {
      "cell_type": "markdown",
      "metadata": {
        "id": "4b60afd4"
      },
      "source": [
        "## Tarea\n",
        "Analizar las variables numéricas en el conjunto de datos \"insurance.csv\", incluyendo la verificación de tipos de datos, valores faltantes, duplicados y correlaciones."
      ]
    },
    {
      "cell_type": "markdown",
      "metadata": {
        "id": "72b40e24"
      },
      "source": [
        "## Cargar el conjunto de datos\n",
        "\n",
        "### Subtarea:\n",
        "Cargar el archivo `insurance.csv` en un DataFrame de pandas."
      ]
    },
    {
      "cell_type": "markdown",
      "metadata": {
        "id": "4ed91d91"
      },
      "source": [
        "**Razonamiento**:\n",
        "Importar la librería pandas y cargar los datos en un DataFrame de pandas. Luego mostrar las primeras filas y la información del DataFrame."
      ]
    },
    {
      "cell_type": "code",
      "execution_count": null,
      "metadata": {
        "id": "5OSM_tnKQ8zY"
      },
      "outputs": [],
      "source": []
    },
    {
      "cell_type": "code",
      "metadata": {
        "colab": {
          "base_uri": "https://localhost:8080/"
        },
        "outputId": "dba14638-0465-499f-9edf-f55d2f7881b9",
        "id": "048TPoboQ8zZ"
      },
      "source": [
        "!wget https://github.com/stedy/Machine-Learning-with-R-datasets/raw/master/insurance.csv"
      ],
      "execution_count": null,
      "outputs": [
        {
          "output_type": "stream",
          "name": "stdout",
          "text": [
            "--2025-09-01 17:12:20--  https://github.com/stedy/Machine-Learning-with-R-datasets/raw/master/insurance.csv\n",
            "Resolving github.com (github.com)... 140.82.112.4\n",
            "Connecting to github.com (github.com)|140.82.112.4|:443... connected.\n",
            "HTTP request sent, awaiting response... 302 Found\n",
            "Location: https://raw.githubusercontent.com/stedy/Machine-Learning-with-R-datasets/master/insurance.csv [following]\n",
            "--2025-09-01 17:12:20--  https://raw.githubusercontent.com/stedy/Machine-Learning-with-R-datasets/master/insurance.csv\n",
            "Resolving raw.githubusercontent.com (raw.githubusercontent.com)... 185.199.108.133, 185.199.109.133, 185.199.110.133, ...\n",
            "Connecting to raw.githubusercontent.com (raw.githubusercontent.com)|185.199.108.133|:443... connected.\n",
            "HTTP request sent, awaiting response... 200 OK\n",
            "Length: 54288 (53K) [text/plain]\n",
            "Saving to: ‘insurance.csv.3’\n",
            "\n",
            "insurance.csv.3     100%[===================>]  53.02K  --.-KB/s    in 0.01s   \n",
            "\n",
            "2025-09-01 17:12:20 (4.31 MB/s) - ‘insurance.csv.3’ saved [54288/54288]\n",
            "\n"
          ]
        }
      ]
    },
    {
      "cell_type": "markdown",
      "metadata": {
        "id": "3FZldqCAQ8zZ"
      },
      "source": [
        "# Task\n",
        "Analyze the numerical variables in the \"insurance.csv\" dataset, including checking data types, missing values, duplicates, and correlations."
      ]
    },
    {
      "cell_type": "markdown",
      "metadata": {
        "id": "0YadLh3_Q8zZ"
      },
      "source": [
        "## Load the dataset\n",
        "\n",
        "### Subtask:\n",
        "Load the `insurance.csv` file into a pandas DataFrame.\n"
      ]
    },
    {
      "cell_type": "markdown",
      "metadata": {
        "id": "zj1_eoCMQ8zZ"
      },
      "source": [
        "**Reasoning**:\n",
        "Import the pandas library and load the data into a pandas DataFrame. Then display the first few rows and the info of the DataFrame.\n",
        "\n"
      ]
    },
    {
      "cell_type": "code",
      "metadata": {
        "colab": {
          "base_uri": "https://localhost:8080/",
          "height": 467
        },
        "outputId": "aac5e5a3-8302-4262-8654-fab3b9517c58",
        "id": "1_QeYI6KQ8zZ"
      },
      "source": [
        "import pandas as pd\n",
        "\n",
        "df = pd.read_csv('insurance.csv')\n",
        "display(df.head())\n",
        "display(df.info())"
      ],
      "execution_count": null,
      "outputs": [
        {
          "output_type": "display_data",
          "data": {
            "text/plain": [
              "   age     sex     bmi  children smoker     region      charges\n",
              "0   19  female  27.900         0    yes  southwest  16884.92400\n",
              "1   18    male  33.770         1     no  southeast   1725.55230\n",
              "2   28    male  33.000         3     no  southeast   4449.46200\n",
              "3   33    male  22.705         0     no  northwest  21984.47061\n",
              "4   32    male  28.880         0     no  northwest   3866.85520"
            ],
            "text/html": [
              "\n",
              "  <div id=\"df-ee5d0cb6-fef6-4436-a2de-a87ec7831880\" class=\"colab-df-container\">\n",
              "    <div>\n",
              "<style scoped>\n",
              "    .dataframe tbody tr th:only-of-type {\n",
              "        vertical-align: middle;\n",
              "    }\n",
              "\n",
              "    .dataframe tbody tr th {\n",
              "        vertical-align: top;\n",
              "    }\n",
              "\n",
              "    .dataframe thead th {\n",
              "        text-align: right;\n",
              "    }\n",
              "</style>\n",
              "<table border=\"1\" class=\"dataframe\">\n",
              "  <thead>\n",
              "    <tr style=\"text-align: right;\">\n",
              "      <th></th>\n",
              "      <th>age</th>\n",
              "      <th>sex</th>\n",
              "      <th>bmi</th>\n",
              "      <th>children</th>\n",
              "      <th>smoker</th>\n",
              "      <th>region</th>\n",
              "      <th>charges</th>\n",
              "    </tr>\n",
              "  </thead>\n",
              "  <tbody>\n",
              "    <tr>\n",
              "      <th>0</th>\n",
              "      <td>19</td>\n",
              "      <td>female</td>\n",
              "      <td>27.900</td>\n",
              "      <td>0</td>\n",
              "      <td>yes</td>\n",
              "      <td>southwest</td>\n",
              "      <td>16884.92400</td>\n",
              "    </tr>\n",
              "    <tr>\n",
              "      <th>1</th>\n",
              "      <td>18</td>\n",
              "      <td>male</td>\n",
              "      <td>33.770</td>\n",
              "      <td>1</td>\n",
              "      <td>no</td>\n",
              "      <td>southeast</td>\n",
              "      <td>1725.55230</td>\n",
              "    </tr>\n",
              "    <tr>\n",
              "      <th>2</th>\n",
              "      <td>28</td>\n",
              "      <td>male</td>\n",
              "      <td>33.000</td>\n",
              "      <td>3</td>\n",
              "      <td>no</td>\n",
              "      <td>southeast</td>\n",
              "      <td>4449.46200</td>\n",
              "    </tr>\n",
              "    <tr>\n",
              "      <th>3</th>\n",
              "      <td>33</td>\n",
              "      <td>male</td>\n",
              "      <td>22.705</td>\n",
              "      <td>0</td>\n",
              "      <td>no</td>\n",
              "      <td>northwest</td>\n",
              "      <td>21984.47061</td>\n",
              "    </tr>\n",
              "    <tr>\n",
              "      <th>4</th>\n",
              "      <td>32</td>\n",
              "      <td>male</td>\n",
              "      <td>28.880</td>\n",
              "      <td>0</td>\n",
              "      <td>no</td>\n",
              "      <td>northwest</td>\n",
              "      <td>3866.85520</td>\n",
              "    </tr>\n",
              "  </tbody>\n",
              "</table>\n",
              "</div>\n",
              "    <div class=\"colab-df-buttons\">\n",
              "\n",
              "  <div class=\"colab-df-container\">\n",
              "    <button class=\"colab-df-convert\" onclick=\"convertToInteractive('df-ee5d0cb6-fef6-4436-a2de-a87ec7831880')\"\n",
              "            title=\"Convert this dataframe to an interactive table.\"\n",
              "            style=\"display:none;\">\n",
              "\n",
              "  <svg xmlns=\"http://www.w3.org/2000/svg\" height=\"24px\" viewBox=\"0 -960 960 960\">\n",
              "    <path d=\"M120-120v-720h720v720H120Zm60-500h600v-160H180v160Zm220 220h160v-160H400v160Zm0 220h160v-160H400v160ZM180-400h160v-160H180v160Zm440 0h160v-160H620v160ZM180-180h160v-160H180v160Zm440 0h160v-160H620v160Z\"/>\n",
              "  </svg>\n",
              "    </button>\n",
              "\n",
              "  <style>\n",
              "    .colab-df-container {\n",
              "      display:flex;\n",
              "      gap: 12px;\n",
              "    }\n",
              "\n",
              "    .colab-df-convert {\n",
              "      background-color: #E8F0FE;\n",
              "      border: none;\n",
              "      border-radius: 50%;\n",
              "      cursor: pointer;\n",
              "      display: none;\n",
              "      fill: #1967D2;\n",
              "      height: 32px;\n",
              "      padding: 0 0 0 0;\n",
              "      width: 32px;\n",
              "    }\n",
              "\n",
              "    .colab-df-convert:hover {\n",
              "      background-color: #E2EBFA;\n",
              "      box-shadow: 0px 1px 2px rgba(60, 64, 67, 0.3), 0px 1px 3px 1px rgba(60, 64, 67, 0.15);\n",
              "      fill: #174EA6;\n",
              "    }\n",
              "\n",
              "    .colab-df-buttons div {\n",
              "      margin-bottom: 4px;\n",
              "    }\n",
              "\n",
              "    [theme=dark] .colab-df-convert {\n",
              "      background-color: #3B4455;\n",
              "      fill: #D2E3FC;\n",
              "    }\n",
              "\n",
              "    [theme=dark] .colab-df-convert:hover {\n",
              "      background-color: #434B5C;\n",
              "      box-shadow: 0px 1px 3px 1px rgba(0, 0, 0, 0.15);\n",
              "      filter: drop-shadow(0px 1px 2px rgba(0, 0, 0, 0.3));\n",
              "      fill: #FFFFFF;\n",
              "    }\n",
              "  </style>\n",
              "\n",
              "    <script>\n",
              "      const buttonEl =\n",
              "        document.querySelector('#df-ee5d0cb6-fef6-4436-a2de-a87ec7831880 button.colab-df-convert');\n",
              "      buttonEl.style.display =\n",
              "        google.colab.kernel.accessAllowed ? 'block' : 'none';\n",
              "\n",
              "      async function convertToInteractive(key) {\n",
              "        const element = document.querySelector('#df-ee5d0cb6-fef6-4436-a2de-a87ec7831880');\n",
              "        const dataTable =\n",
              "          await google.colab.kernel.invokeFunction('convertToInteractive',\n",
              "                                                    [key], {});\n",
              "        if (!dataTable) return;\n",
              "\n",
              "        const docLinkHtml = 'Like what you see? Visit the ' +\n",
              "          '<a target=\"_blank\" href=https://colab.research.google.com/notebooks/data_table.ipynb>data table notebook</a>'\n",
              "          + ' to learn more about interactive tables.';\n",
              "        element.innerHTML = '';\n",
              "        dataTable['output_type'] = 'display_data';\n",
              "        await google.colab.output.renderOutput(dataTable, element);\n",
              "        const docLink = document.createElement('div');\n",
              "        docLink.innerHTML = docLinkHtml;\n",
              "        element.appendChild(docLink);\n",
              "      }\n",
              "    </script>\n",
              "  </div>\n",
              "\n",
              "\n",
              "    <div id=\"df-47deb349-387e-45b4-bb35-36b5c082a142\">\n",
              "      <button class=\"colab-df-quickchart\" onclick=\"quickchart('df-47deb349-387e-45b4-bb35-36b5c082a142')\"\n",
              "                title=\"Suggest charts\"\n",
              "                style=\"display:none;\">\n",
              "\n",
              "<svg xmlns=\"http://www.w3.org/2000/svg\" height=\"24px\"viewBox=\"0 0 24 24\"\n",
              "     width=\"24px\">\n",
              "    <g>\n",
              "        <path d=\"M19 3H5c-1.1 0-2 .9-2 2v14c0 1.1.9 2 2 2h14c1.1 0 2-.9 2-2V5c0-1.1-.9-2-2-2zM9 17H7v-7h2v7zm4 0h-2V7h2v10zm4 0h-2v-4h2v4z\"/>\n",
              "    </g>\n",
              "</svg>\n",
              "      </button>\n",
              "\n",
              "<style>\n",
              "  .colab-df-quickchart {\n",
              "      --bg-color: #E8F0FE;\n",
              "      --fill-color: #1967D2;\n",
              "      --hover-bg-color: #E2EBFA;\n",
              "      --hover-fill-color: #174EA6;\n",
              "      --disabled-fill-color: #AAA;\n",
              "      --disabled-bg-color: #DDD;\n",
              "  }\n",
              "\n",
              "  [theme=dark] .colab-df-quickchart {\n",
              "      --bg-color: #3B4455;\n",
              "      --fill-color: #D2E3FC;\n",
              "      --hover-bg-color: #434B5C;\n",
              "      --hover-fill-color: #FFFFFF;\n",
              "      --disabled-bg-color: #3B4455;\n",
              "      --disabled-fill-color: #666;\n",
              "  }\n",
              "\n",
              "  .colab-df-quickchart {\n",
              "    background-color: var(--bg-color);\n",
              "    border: none;\n",
              "    border-radius: 50%;\n",
              "    cursor: pointer;\n",
              "    display: none;\n",
              "    fill: var(--fill-color);\n",
              "    height: 32px;\n",
              "    padding: 0;\n",
              "    width: 32px;\n",
              "  }\n",
              "\n",
              "  .colab-df-quickchart:hover {\n",
              "    background-color: var(--hover-bg-color);\n",
              "    box-shadow: 0 1px 2px rgba(60, 64, 67, 0.3), 0 1px 3px 1px rgba(60, 64, 67, 0.15);\n",
              "    fill: var(--button-hover-fill-color);\n",
              "  }\n",
              "\n",
              "  .colab-df-quickchart-complete:disabled,\n",
              "  .colab-df-quickchart-complete:disabled:hover {\n",
              "    background-color: var(--disabled-bg-color);\n",
              "    fill: var(--disabled-fill-color);\n",
              "    box-shadow: none;\n",
              "  }\n",
              "\n",
              "  .colab-df-spinner {\n",
              "    border: 2px solid var(--fill-color);\n",
              "    border-color: transparent;\n",
              "    border-bottom-color: var(--fill-color);\n",
              "    animation:\n",
              "      spin 1s steps(1) infinite;\n",
              "  }\n",
              "\n",
              "  @keyframes spin {\n",
              "    0% {\n",
              "      border-color: transparent;\n",
              "      border-bottom-color: var(--fill-color);\n",
              "      border-left-color: var(--fill-color);\n",
              "    }\n",
              "    20% {\n",
              "      border-color: transparent;\n",
              "      border-left-color: var(--fill-color);\n",
              "      border-top-color: var(--fill-color);\n",
              "    }\n",
              "    30% {\n",
              "      border-color: transparent;\n",
              "      border-left-color: var(--fill-color);\n",
              "      border-top-color: var(--fill-color);\n",
              "      border-right-color: var(--fill-color);\n",
              "    }\n",
              "    40% {\n",
              "      border-color: transparent;\n",
              "      border-right-color: var(--fill-color);\n",
              "      border-top-color: var(--fill-color);\n",
              "    }\n",
              "    60% {\n",
              "      border-color: transparent;\n",
              "      border-right-color: var(--fill-color);\n",
              "    }\n",
              "    80% {\n",
              "      border-color: transparent;\n",
              "      border-right-color: var(--fill-color);\n",
              "      border-bottom-color: var(--fill-color);\n",
              "    }\n",
              "    90% {\n",
              "      border-color: transparent;\n",
              "      border-bottom-color: var(--fill-color);\n",
              "    }\n",
              "  }\n",
              "</style>\n",
              "\n",
              "      <script>\n",
              "        async function quickchart(key) {\n",
              "          const quickchartButtonEl =\n",
              "            document.querySelector('#' + key + ' button');\n",
              "          quickchartButtonEl.disabled = true;  // To prevent multiple clicks.\n",
              "          quickchartButtonEl.classList.add('colab-df-spinner');\n",
              "          try {\n",
              "            const charts = await google.colab.kernel.invokeFunction(\n",
              "                'suggestCharts', [key], {});\n",
              "          } catch (error) {\n",
              "            console.error('Error during call to suggestCharts:', error);\n",
              "          }\n",
              "          quickchartButtonEl.classList.remove('colab-df-spinner');\n",
              "          quickchartButtonEl.classList.add('colab-df-quickchart-complete');\n",
              "        }\n",
              "        (() => {\n",
              "          let quickchartButtonEl =\n",
              "            document.querySelector('#df-47deb349-387e-45b4-bb35-36b5c082a142 button');\n",
              "          quickchartButtonEl.style.display =\n",
              "            google.colab.kernel.accessAllowed ? 'block' : 'none';\n",
              "        })();\n",
              "      </script>\n",
              "    </div>\n",
              "\n",
              "    </div>\n",
              "  </div>\n"
            ],
            "application/vnd.google.colaboratory.intrinsic+json": {
              "type": "dataframe",
              "summary": "{\n  \"name\": \"display(df\",\n  \"rows\": 5,\n  \"fields\": [\n    {\n      \"column\": \"age\",\n      \"properties\": {\n        \"dtype\": \"number\",\n        \"std\": 7,\n        \"min\": 18,\n        \"max\": 33,\n        \"num_unique_values\": 5,\n        \"samples\": [\n          18,\n          32,\n          28\n        ],\n        \"semantic_type\": \"\",\n        \"description\": \"\"\n      }\n    },\n    {\n      \"column\": \"sex\",\n      \"properties\": {\n        \"dtype\": \"category\",\n        \"num_unique_values\": 2,\n        \"samples\": [\n          \"male\",\n          \"female\"\n        ],\n        \"semantic_type\": \"\",\n        \"description\": \"\"\n      }\n    },\n    {\n      \"column\": \"bmi\",\n      \"properties\": {\n        \"dtype\": \"number\",\n        \"std\": 4.4522275323707365,\n        \"min\": 22.705,\n        \"max\": 33.77,\n        \"num_unique_values\": 5,\n        \"samples\": [\n          33.77,\n          28.88\n        ],\n        \"semantic_type\": \"\",\n        \"description\": \"\"\n      }\n    },\n    {\n      \"column\": \"children\",\n      \"properties\": {\n        \"dtype\": \"number\",\n        \"std\": 1,\n        \"min\": 0,\n        \"max\": 3,\n        \"num_unique_values\": 3,\n        \"samples\": [\n          0,\n          1\n        ],\n        \"semantic_type\": \"\",\n        \"description\": \"\"\n      }\n    },\n    {\n      \"column\": \"smoker\",\n      \"properties\": {\n        \"dtype\": \"category\",\n        \"num_unique_values\": 2,\n        \"samples\": [\n          \"no\",\n          \"yes\"\n        ],\n        \"semantic_type\": \"\",\n        \"description\": \"\"\n      }\n    },\n    {\n      \"column\": \"region\",\n      \"properties\": {\n        \"dtype\": \"string\",\n        \"num_unique_values\": 3,\n        \"samples\": [\n          \"southwest\",\n          \"southeast\"\n        ],\n        \"semantic_type\": \"\",\n        \"description\": \"\"\n      }\n    },\n    {\n      \"column\": \"charges\",\n      \"properties\": {\n        \"dtype\": \"number\",\n        \"std\": 9051.009157648406,\n        \"min\": 1725.5523,\n        \"max\": 21984.47061,\n        \"num_unique_values\": 5,\n        \"samples\": [\n          1725.5523,\n          3866.8552\n        ],\n        \"semantic_type\": \"\",\n        \"description\": \"\"\n      }\n    }\n  ]\n}"
            }
          },
          "metadata": {}
        },
        {
          "output_type": "stream",
          "name": "stdout",
          "text": [
            "<class 'pandas.core.frame.DataFrame'>\n",
            "RangeIndex: 1338 entries, 0 to 1337\n",
            "Data columns (total 7 columns):\n",
            " #   Column    Non-Null Count  Dtype  \n",
            "---  ------    --------------  -----  \n",
            " 0   age       1338 non-null   int64  \n",
            " 1   sex       1338 non-null   object \n",
            " 2   bmi       1338 non-null   float64\n",
            " 3   children  1338 non-null   int64  \n",
            " 4   smoker    1338 non-null   object \n",
            " 5   region    1338 non-null   object \n",
            " 6   charges   1338 non-null   float64\n",
            "dtypes: float64(2), int64(2), object(3)\n",
            "memory usage: 73.3+ KB\n"
          ]
        },
        {
          "output_type": "display_data",
          "data": {
            "text/plain": [
              "None"
            ]
          },
          "metadata": {}
        }
      ]
    },
    {
      "cell_type": "markdown",
      "metadata": {
        "id": "dCOl_M_5Q8zZ"
      },
      "source": [
        "## Identify numerical variables\n",
        "\n",
        "### Subtask:\n",
        "Determine which columns in the DataFrame contain numerical data.\n"
      ]
    },
    {
      "cell_type": "markdown",
      "metadata": {
        "id": "6HDyTmcoQ8zZ"
      },
      "source": [
        "**Reasoning**:\n",
        "Display the data types of each column using `.info()` and identify the numerical columns.\n",
        "\n"
      ]
    },
    {
      "cell_type": "code",
      "metadata": {
        "colab": {
          "base_uri": "https://localhost:8080/",
          "height": 295
        },
        "outputId": "e78bb617-8ea8-45e4-9049-1efd74284472",
        "id": "c_tQG2xoQ8za"
      },
      "source": [
        "display(df.info())\n",
        "numerical_cols = df.select_dtypes(include=['int64', 'float64']).columns.tolist()\n",
        "print(\"Numerical columns:\", numerical_cols)"
      ],
      "execution_count": null,
      "outputs": [
        {
          "output_type": "stream",
          "name": "stdout",
          "text": [
            "<class 'pandas.core.frame.DataFrame'>\n",
            "RangeIndex: 1338 entries, 0 to 1337\n",
            "Data columns (total 7 columns):\n",
            " #   Column    Non-Null Count  Dtype  \n",
            "---  ------    --------------  -----  \n",
            " 0   age       1338 non-null   int64  \n",
            " 1   sex       1338 non-null   object \n",
            " 2   bmi       1338 non-null   float64\n",
            " 3   children  1338 non-null   int64  \n",
            " 4   smoker    1338 non-null   object \n",
            " 5   region    1338 non-null   object \n",
            " 6   charges   1338 non-null   float64\n",
            "dtypes: float64(2), int64(2), object(3)\n",
            "memory usage: 73.3+ KB\n"
          ]
        },
        {
          "output_type": "display_data",
          "data": {
            "text/plain": [
              "None"
            ]
          },
          "metadata": {}
        },
        {
          "output_type": "stream",
          "name": "stdout",
          "text": [
            "Numerical columns: ['age', 'bmi', 'children', 'charges']\n"
          ]
        }
      ]
    },
    {
      "cell_type": "markdown",
      "metadata": {
        "id": "-8wbOKcKQ8za"
      },
      "source": [
        "## Check for missing values\n",
        "\n",
        "### Subtask:\n",
        "Identify if there are any missing values in the numerical columns and decide how to handle them if necessary.\n"
      ]
    },
    {
      "cell_type": "markdown",
      "metadata": {
        "id": "gg4nXhoRQ8za"
      },
      "source": [
        "**Reasoning**:\n",
        "Calculate and display the number of missing values for each column in the DataFrame to identify if there are any missing values in the numerical columns.\n",
        "\n"
      ]
    },
    {
      "cell_type": "code",
      "metadata": {
        "colab": {
          "base_uri": "https://localhost:8080/",
          "height": 304
        },
        "outputId": "202a44cd-c79a-472e-8c33-9eb796f8f5cc",
        "id": "7zHRxrLzQ8za"
      },
      "source": [
        "missing_values = df.isnull().sum()\n",
        "display(missing_values)"
      ],
      "execution_count": null,
      "outputs": [
        {
          "output_type": "display_data",
          "data": {
            "text/plain": [
              "age         0\n",
              "sex         0\n",
              "bmi         0\n",
              "children    0\n",
              "smoker      0\n",
              "region      0\n",
              "charges     0\n",
              "dtype: int64"
            ],
            "text/html": [
              "<div>\n",
              "<style scoped>\n",
              "    .dataframe tbody tr th:only-of-type {\n",
              "        vertical-align: middle;\n",
              "    }\n",
              "\n",
              "    .dataframe tbody tr th {\n",
              "        vertical-align: top;\n",
              "    }\n",
              "\n",
              "    .dataframe thead th {\n",
              "        text-align: right;\n",
              "    }\n",
              "</style>\n",
              "<table border=\"1\" class=\"dataframe\">\n",
              "  <thead>\n",
              "    <tr style=\"text-align: right;\">\n",
              "      <th></th>\n",
              "      <th>0</th>\n",
              "    </tr>\n",
              "  </thead>\n",
              "  <tbody>\n",
              "    <tr>\n",
              "      <th>age</th>\n",
              "      <td>0</td>\n",
              "    </tr>\n",
              "    <tr>\n",
              "      <th>sex</th>\n",
              "      <td>0</td>\n",
              "    </tr>\n",
              "    <tr>\n",
              "      <th>bmi</th>\n",
              "      <td>0</td>\n",
              "    </tr>\n",
              "    <tr>\n",
              "      <th>children</th>\n",
              "      <td>0</td>\n",
              "    </tr>\n",
              "    <tr>\n",
              "      <th>smoker</th>\n",
              "      <td>0</td>\n",
              "    </tr>\n",
              "    <tr>\n",
              "      <th>region</th>\n",
              "      <td>0</td>\n",
              "    </tr>\n",
              "    <tr>\n",
              "      <th>charges</th>\n",
              "      <td>0</td>\n",
              "    </tr>\n",
              "  </tbody>\n",
              "</table>\n",
              "</div><br><label><b>dtype:</b> int64</label>"
            ]
          },
          "metadata": {}
        }
      ]
    },
    {
      "cell_type": "markdown",
      "metadata": {
        "id": "wUoZMvnQQ8za"
      },
      "source": [
        "## Check for duplicate rows\n",
        "\n",
        "### Subtask:\n",
        "Identify if there are any duplicate rows in the dataset.\n"
      ]
    },
    {
      "cell_type": "markdown",
      "metadata": {
        "id": "0jur4-WVQ8zb"
      },
      "source": [
        "**Reasoning**:\n",
        "Check for duplicate rows in the DataFrame and print the count.\n",
        "\n"
      ]
    },
    {
      "cell_type": "code",
      "metadata": {
        "colab": {
          "base_uri": "https://localhost:8080/"
        },
        "outputId": "c31edcd9-93f1-45ac-808f-f32899da08b8",
        "id": "ne-q-XPLQ8zb"
      },
      "source": [
        "duplicate_rows_count = df.duplicated().sum()\n",
        "print(\"Total count of duplicate rows:\", duplicate_rows_count)"
      ],
      "execution_count": null,
      "outputs": [
        {
          "output_type": "stream",
          "name": "stdout",
          "text": [
            "Total count of duplicate rows: 1\n"
          ]
        }
      ]
    },
    {
      "cell_type": "markdown",
      "metadata": {
        "id": "IgxgLvWcQ8zb"
      },
      "source": [
        "## Calculate descriptive statistics\n",
        "\n",
        "### Subtask:\n",
        "Compute descriptive statistics (like mean, median, standard deviation, etc.) for the numerical variables.\n"
      ]
    },
    {
      "cell_type": "markdown",
      "metadata": {
        "id": "z2XB7lJ-Q8zb"
      },
      "source": [
        "**Reasoning**:\n",
        "Compute and display descriptive statistics for the numerical columns.\n",
        "\n"
      ]
    },
    {
      "cell_type": "code",
      "metadata": {
        "colab": {
          "base_uri": "https://localhost:8080/",
          "height": 300
        },
        "outputId": "20bd3854-514f-47ca-c11f-f787b3de224f",
        "id": "ZOd-CaecQ8zb"
      },
      "source": [
        "numerical_df = df[numerical_cols]\n",
        "descriptive_stats = numerical_df.describe()\n",
        "display(descriptive_stats)"
      ],
      "execution_count": null,
      "outputs": [
        {
          "output_type": "display_data",
          "data": {
            "text/plain": [
              "               age          bmi     children       charges\n",
              "count  1338.000000  1338.000000  1338.000000   1338.000000\n",
              "mean     39.207025    30.663397     1.094918  13270.422265\n",
              "std      14.049960     6.098187     1.205493  12110.011237\n",
              "min      18.000000    15.960000     0.000000   1121.873900\n",
              "25%      27.000000    26.296250     0.000000   4740.287150\n",
              "50%      39.000000    30.400000     1.000000   9382.033000\n",
              "75%      51.000000    34.693750     2.000000  16639.912515\n",
              "max      64.000000    53.130000     5.000000  63770.428010"
            ],
            "text/html": [
              "\n",
              "  <div id=\"df-05871f6f-23cd-4383-b2c6-48b091a4db54\" class=\"colab-df-container\">\n",
              "    <div>\n",
              "<style scoped>\n",
              "    .dataframe tbody tr th:only-of-type {\n",
              "        vertical-align: middle;\n",
              "    }\n",
              "\n",
              "    .dataframe tbody tr th {\n",
              "        vertical-align: top;\n",
              "    }\n",
              "\n",
              "    .dataframe thead th {\n",
              "        text-align: right;\n",
              "    }\n",
              "</style>\n",
              "<table border=\"1\" class=\"dataframe\">\n",
              "  <thead>\n",
              "    <tr style=\"text-align: right;\">\n",
              "      <th></th>\n",
              "      <th>age</th>\n",
              "      <th>bmi</th>\n",
              "      <th>children</th>\n",
              "      <th>charges</th>\n",
              "    </tr>\n",
              "  </thead>\n",
              "  <tbody>\n",
              "    <tr>\n",
              "      <th>count</th>\n",
              "      <td>1338.000000</td>\n",
              "      <td>1338.000000</td>\n",
              "      <td>1338.000000</td>\n",
              "      <td>1338.000000</td>\n",
              "    </tr>\n",
              "    <tr>\n",
              "      <th>mean</th>\n",
              "      <td>39.207025</td>\n",
              "      <td>30.663397</td>\n",
              "      <td>1.094918</td>\n",
              "      <td>13270.422265</td>\n",
              "    </tr>\n",
              "    <tr>\n",
              "      <th>std</th>\n",
              "      <td>14.049960</td>\n",
              "      <td>6.098187</td>\n",
              "      <td>1.205493</td>\n",
              "      <td>12110.011237</td>\n",
              "    </tr>\n",
              "    <tr>\n",
              "      <th>min</th>\n",
              "      <td>18.000000</td>\n",
              "      <td>15.960000</td>\n",
              "      <td>0.000000</td>\n",
              "      <td>1121.873900</td>\n",
              "    </tr>\n",
              "    <tr>\n",
              "      <th>25%</th>\n",
              "      <td>27.000000</td>\n",
              "      <td>26.296250</td>\n",
              "      <td>0.000000</td>\n",
              "      <td>4740.287150</td>\n",
              "    </tr>\n",
              "    <tr>\n",
              "      <th>50%</th>\n",
              "      <td>39.000000</td>\n",
              "      <td>30.400000</td>\n",
              "      <td>1.000000</td>\n",
              "      <td>9382.033000</td>\n",
              "    </tr>\n",
              "    <tr>\n",
              "      <th>75%</th>\n",
              "      <td>51.000000</td>\n",
              "      <td>34.693750</td>\n",
              "      <td>2.000000</td>\n",
              "      <td>16639.912515</td>\n",
              "    </tr>\n",
              "    <tr>\n",
              "      <th>max</th>\n",
              "      <td>64.000000</td>\n",
              "      <td>53.130000</td>\n",
              "      <td>5.000000</td>\n",
              "      <td>63770.428010</td>\n",
              "    </tr>\n",
              "  </tbody>\n",
              "</table>\n",
              "</div>\n",
              "    <div class=\"colab-df-buttons\">\n",
              "\n",
              "  <div class=\"colab-df-container\">\n",
              "    <button class=\"colab-df-convert\" onclick=\"convertToInteractive('df-05871f6f-23cd-4383-b2c6-48b091a4db54')\"\n",
              "            title=\"Convert this dataframe to an interactive table.\"\n",
              "            style=\"display:none;\">\n",
              "\n",
              "  <svg xmlns=\"http://www.w3.org/2000/svg\" height=\"24px\" viewBox=\"0 -960 960 960\">\n",
              "    <path d=\"M120-120v-720h720v720H120Zm60-500h600v-160H180v160Zm220 220h160v-160H400v160Zm0 220h160v-160H400v160ZM180-400h160v-160H180v160Zm440 0h160v-160H620v160ZM180-180h160v-160H180v160Zm440 0h160v-160H620v160Z\"/>\n",
              "  </svg>\n",
              "    </button>\n",
              "\n",
              "  <style>\n",
              "    .colab-df-container {\n",
              "      display:flex;\n",
              "      gap: 12px;\n",
              "    }\n",
              "\n",
              "    .colab-df-convert {\n",
              "      background-color: #E8F0FE;\n",
              "      border: none;\n",
              "      border-radius: 50%;\n",
              "      cursor: pointer;\n",
              "      display: none;\n",
              "      fill: #1967D2;\n",
              "      height: 32px;\n",
              "      padding: 0 0 0 0;\n",
              "      width: 32px;\n",
              "    }\n",
              "\n",
              "    .colab-df-convert:hover {\n",
              "      background-color: #E2EBFA;\n",
              "      box-shadow: 0px 1px 2px rgba(60, 64, 67, 0.3), 0px 1px 3px 1px rgba(60, 64, 67, 0.15);\n",
              "      fill: #174EA6;\n",
              "    }\n",
              "\n",
              "    .colab-df-buttons div {\n",
              "      margin-bottom: 4px;\n",
              "    }\n",
              "\n",
              "    [theme=dark] .colab-df-convert {\n",
              "      background-color: #3B4455;\n",
              "      fill: #D2E3FC;\n",
              "    }\n",
              "\n",
              "    [theme=dark] .colab-df-convert:hover {\n",
              "      background-color: #434B5C;\n",
              "      box-shadow: 0px 1px 3px 1px rgba(0, 0, 0, 0.15);\n",
              "      filter: drop-shadow(0px 1px 2px rgba(0, 0, 0, 0.3));\n",
              "      fill: #FFFFFF;\n",
              "    }\n",
              "  </style>\n",
              "\n",
              "    <script>\n",
              "      const buttonEl =\n",
              "        document.querySelector('#df-05871f6f-23cd-4383-b2c6-48b091a4db54 button.colab-df-convert');\n",
              "      buttonEl.style.display =\n",
              "        google.colab.kernel.accessAllowed ? 'block' : 'none';\n",
              "\n",
              "      async function convertToInteractive(key) {\n",
              "        const element = document.querySelector('#df-05871f6f-23cd-4383-b2c6-48b091a4db54');\n",
              "        const dataTable =\n",
              "          await google.colab.kernel.invokeFunction('convertToInteractive',\n",
              "                                                    [key], {});\n",
              "        if (!dataTable) return;\n",
              "\n",
              "        const docLinkHtml = 'Like what you see? Visit the ' +\n",
              "          '<a target=\"_blank\" href=https://colab.research.google.com/notebooks/data_table.ipynb>data table notebook</a>'\n",
              "          + ' to learn more about interactive tables.';\n",
              "        element.innerHTML = '';\n",
              "        dataTable['output_type'] = 'display_data';\n",
              "        await google.colab.output.renderOutput(dataTable, element);\n",
              "        const docLink = document.createElement('div');\n",
              "        docLink.innerHTML = docLinkHtml;\n",
              "        element.appendChild(docLink);\n",
              "      }\n",
              "    </script>\n",
              "  </div>\n",
              "\n",
              "\n",
              "    <div id=\"df-ce1f6b00-b414-49ca-8aad-9d6aa71fa6cf\">\n",
              "      <button class=\"colab-df-quickchart\" onclick=\"quickchart('df-ce1f6b00-b414-49ca-8aad-9d6aa71fa6cf')\"\n",
              "                title=\"Suggest charts\"\n",
              "                style=\"display:none;\">\n",
              "\n",
              "<svg xmlns=\"http://www.w3.org/2000/svg\" height=\"24px\"viewBox=\"0 0 24 24\"\n",
              "     width=\"24px\">\n",
              "    <g>\n",
              "        <path d=\"M19 3H5c-1.1 0-2 .9-2 2v14c0 1.1.9 2 2 2h14c1.1 0 2-.9 2-2V5c0-1.1-.9-2-2-2zM9 17H7v-7h2v7zm4 0h-2V7h2v10zm4 0h-2v-4h2v4z\"/>\n",
              "    </g>\n",
              "</svg>\n",
              "      </button>\n",
              "\n",
              "<style>\n",
              "  .colab-df-quickchart {\n",
              "      --bg-color: #E8F0FE;\n",
              "      --fill-color: #1967D2;\n",
              "      --hover-bg-color: #E2EBFA;\n",
              "      --hover-fill-color: #174EA6;\n",
              "      --disabled-fill-color: #AAA;\n",
              "      --disabled-bg-color: #DDD;\n",
              "  }\n",
              "\n",
              "  [theme=dark] .colab-df-quickchart {\n",
              "      --bg-color: #3B4455;\n",
              "      --fill-color: #D2E3FC;\n",
              "      --hover-bg-color: #434B5C;\n",
              "      --hover-fill-color: #FFFFFF;\n",
              "      --disabled-bg-color: #3B4455;\n",
              "      --disabled-fill-color: #666;\n",
              "  }\n",
              "\n",
              "  .colab-df-quickchart {\n",
              "    background-color: var(--bg-color);\n",
              "    border: none;\n",
              "    border-radius: 50%;\n",
              "    cursor: pointer;\n",
              "    display: none;\n",
              "    fill: var(--fill-color);\n",
              "    height: 32px;\n",
              "    padding: 0;\n",
              "    width: 32px;\n",
              "  }\n",
              "\n",
              "  .colab-df-quickchart:hover {\n",
              "    background-color: var(--hover-bg-color);\n",
              "    box-shadow: 0 1px 2px rgba(60, 64, 67, 0.3), 0 1px 3px 1px rgba(60, 64, 67, 0.15);\n",
              "    fill: var(--button-hover-fill-color);\n",
              "  }\n",
              "\n",
              "  .colab-df-quickchart-complete:disabled,\n",
              "  .colab-df-quickchart-complete:disabled:hover {\n",
              "    background-color: var(--disabled-bg-color);\n",
              "    fill: var(--disabled-fill-color);\n",
              "    box-shadow: none;\n",
              "  }\n",
              "\n",
              "  .colab-df-spinner {\n",
              "    border: 2px solid var(--fill-color);\n",
              "    border-color: transparent;\n",
              "    border-bottom-color: var(--fill-color);\n",
              "    animation:\n",
              "      spin 1s steps(1) infinite;\n",
              "  }\n",
              "\n",
              "  @keyframes spin {\n",
              "    0% {\n",
              "      border-color: transparent;\n",
              "      border-bottom-color: var(--fill-color);\n",
              "      border-left-color: var(--fill-color);\n",
              "    }\n",
              "    20% {\n",
              "      border-color: transparent;\n",
              "      border-left-color: var(--fill-color);\n",
              "      border-top-color: var(--fill-color);\n",
              "    }\n",
              "    30% {\n",
              "      border-color: transparent;\n",
              "      border-left-color: var(--fill-color);\n",
              "      border-top-color: var(--fill-color);\n",
              "      border-right-color: var(--fill-color);\n",
              "    }\n",
              "    40% {\n",
              "      border-color: transparent;\n",
              "      border-right-color: var(--fill-color);\n",
              "      border-top-color: var(--fill-color);\n",
              "    }\n",
              "    60% {\n",
              "      border-color: transparent;\n",
              "      border-right-color: var(--fill-color);\n",
              "    }\n",
              "    80% {\n",
              "      border-color: transparent;\n",
              "      border-right-color: var(--fill-color);\n",
              "      border-bottom-color: var(--fill-color);\n",
              "    }\n",
              "    90% {\n",
              "      border-color: transparent;\n",
              "      border-bottom-color: var(--fill-color);\n",
              "    }\n",
              "  }\n",
              "</style>\n",
              "\n",
              "      <script>\n",
              "        async function quickchart(key) {\n",
              "          const quickchartButtonEl =\n",
              "            document.querySelector('#' + key + ' button');\n",
              "          quickchartButtonEl.disabled = true;  // To prevent multiple clicks.\n",
              "          quickchartButtonEl.classList.add('colab-df-spinner');\n",
              "          try {\n",
              "            const charts = await google.colab.kernel.invokeFunction(\n",
              "                'suggestCharts', [key], {});\n",
              "          } catch (error) {\n",
              "            console.error('Error during call to suggestCharts:', error);\n",
              "          }\n",
              "          quickchartButtonEl.classList.remove('colab-df-spinner');\n",
              "          quickchartButtonEl.classList.add('colab-df-quickchart-complete');\n",
              "        }\n",
              "        (() => {\n",
              "          let quickchartButtonEl =\n",
              "            document.querySelector('#df-ce1f6b00-b414-49ca-8aad-9d6aa71fa6cf button');\n",
              "          quickchartButtonEl.style.display =\n",
              "            google.colab.kernel.accessAllowed ? 'block' : 'none';\n",
              "        })();\n",
              "      </script>\n",
              "    </div>\n",
              "\n",
              "  <div id=\"id_470a512b-9d2f-4741-add1-501acb9a130e\">\n",
              "    <style>\n",
              "      .colab-df-generate {\n",
              "        background-color: #E8F0FE;\n",
              "        border: none;\n",
              "        border-radius: 50%;\n",
              "        cursor: pointer;\n",
              "        display: none;\n",
              "        fill: #1967D2;\n",
              "        height: 32px;\n",
              "        padding: 0 0 0 0;\n",
              "        width: 32px;\n",
              "      }\n",
              "\n",
              "      .colab-df-generate:hover {\n",
              "        background-color: #E2EBFA;\n",
              "        box-shadow: 0px 1px 2px rgba(60, 64, 67, 0.3), 0px 1px 3px 1px rgba(60, 64, 67, 0.15);\n",
              "        fill: #174EA6;\n",
              "      }\n",
              "\n",
              "      [theme=dark] .colab-df-generate {\n",
              "        background-color: #3B4455;\n",
              "        fill: #D2E3FC;\n",
              "      }\n",
              "\n",
              "      [theme=dark] .colab-df-generate:hover {\n",
              "        background-color: #434B5C;\n",
              "        box-shadow: 0px 1px 3px 1px rgba(0, 0, 0, 0.15);\n",
              "        filter: drop-shadow(0px 1px 2px rgba(0, 0, 0, 0.3));\n",
              "        fill: #FFFFFF;\n",
              "      }\n",
              "    </style>\n",
              "    <button class=\"colab-df-generate\" onclick=\"generateWithVariable('descriptive_stats')\"\n",
              "            title=\"Generate code using this dataframe.\"\n",
              "            style=\"display:none;\">\n",
              "\n",
              "  <svg xmlns=\"http://www.w3.org/2000/svg\" height=\"24px\"viewBox=\"0 0 24 24\"\n",
              "       width=\"24px\">\n",
              "    <path d=\"M7,19H8.4L18.45,9,17,7.55,7,17.6ZM5,21V16.75L18.45,3.32a2,2,0,0,1,2.83,0l1.4,1.43a1.91,1.91,0,0,1,.58,1.4,1.91,1.91,0,0,1-.58,1.4L9.25,21ZM18.45,9,17,7.55Zm-12,3A5.31,5.31,0,0,0,4.9,8.1,5.31,5.31,0,0,0,1,6.5,5.31,5.31,0,0,0,4.9,4.9,5.31,5.31,0,0,0,6.5,1,5.31,5.31,0,0,0,8.1,4.9,5.31,5.31,0,0,0,12,6.5,5.46,5.46,0,0,0,6.5,12Z\"/>\n",
              "  </svg>\n",
              "    </button>\n",
              "    <script>\n",
              "      (() => {\n",
              "      const buttonEl =\n",
              "        document.querySelector('#id_470a512b-9d2f-4741-add1-501acb9a130e button.colab-df-generate');\n",
              "      buttonEl.style.display =\n",
              "        google.colab.kernel.accessAllowed ? 'block' : 'none';\n",
              "\n",
              "      buttonEl.onclick = () => {\n",
              "        google.colab.notebook.generateWithVariable('descriptive_stats');\n",
              "      }\n",
              "      })();\n",
              "    </script>\n",
              "  </div>\n",
              "\n",
              "    </div>\n",
              "  </div>\n"
            ],
            "application/vnd.google.colaboratory.intrinsic+json": {
              "type": "dataframe",
              "variable_name": "descriptive_stats",
              "summary": "{\n  \"name\": \"descriptive_stats\",\n  \"rows\": 8,\n  \"fields\": [\n    {\n      \"column\": \"age\",\n      \"properties\": {\n        \"dtype\": \"number\",\n        \"std\": 460.6106090399993,\n        \"min\": 14.049960379216172,\n        \"max\": 1338.0,\n        \"num_unique_values\": 8,\n        \"samples\": [\n          39.20702541106129,\n          39.0,\n          1338.0\n        ],\n        \"semantic_type\": \"\",\n        \"description\": \"\"\n      }\n    },\n    {\n      \"column\": \"bmi\",\n      \"properties\": {\n        \"dtype\": \"number\",\n        \"std\": 463.29524977918294,\n        \"min\": 6.098186911679017,\n        \"max\": 1338.0,\n        \"num_unique_values\": 8,\n        \"samples\": [\n          30.66339686098655,\n          30.4,\n          1338.0\n        ],\n        \"semantic_type\": \"\",\n        \"description\": \"\"\n      }\n    },\n    {\n      \"column\": \"children\",\n      \"properties\": {\n        \"dtype\": \"number\",\n        \"std\": 472.5368318870757,\n        \"min\": 0.0,\n        \"max\": 1338.0,\n        \"num_unique_values\": 7,\n        \"samples\": [\n          1338.0,\n          1.0949177877429,\n          2.0\n        ],\n        \"semantic_type\": \"\",\n        \"description\": \"\"\n      }\n    },\n    {\n      \"column\": \"charges\",\n      \"properties\": {\n        \"dtype\": \"number\",\n        \"std\": 20381.922846226596,\n        \"min\": 1121.8739,\n        \"max\": 63770.42801,\n        \"num_unique_values\": 8,\n        \"samples\": [\n          13270.422265141257,\n          9382.033,\n          1338.0\n        ],\n        \"semantic_type\": \"\",\n        \"description\": \"\"\n      }\n    }\n  ]\n}"
            }
          },
          "metadata": {}
        }
      ]
    },
    {
      "cell_type": "markdown",
      "metadata": {
        "id": "0xyfDzkTQ8zb"
      },
      "source": [
        "## Analyze correlations\n",
        "\n",
        "### Subtask:\n",
        "Calculate and visualize the correlation matrix for the numerical variables to understand the relationships between them.\n"
      ]
    },
    {
      "cell_type": "markdown",
      "metadata": {
        "id": "Z-cji1M_Q8zc"
      },
      "source": [
        "**Reasoning**:\n",
        "Calculate the correlation matrix and visualize it using a heatmap to understand the relationships between numerical variables.\n",
        "\n"
      ]
    },
    {
      "cell_type": "code",
      "metadata": {
        "colab": {
          "base_uri": "https://localhost:8080/",
          "height": 545
        },
        "outputId": "482535a5-f963-42c4-b6c8-487e6f6d47e9",
        "id": "VkkOlNaYQ8zc"
      },
      "source": [
        "correlation_matrix = numerical_df.corr()\n",
        "\n",
        "import seaborn as sns\n",
        "import matplotlib.pyplot as plt\n",
        "\n",
        "plt.figure(figsize=(8, 6))\n",
        "sns.heatmap(correlation_matrix, annot=True, cmap='coolwarm', fmt=\".2f\")\n",
        "plt.title('Correlation Matrix of Numerical Variables')\n",
        "plt.show()"
      ],
      "execution_count": null,
      "outputs": [
        {
          "output_type": "display_data",
          "data": {
            "text/plain": [
              "<Figure size 800x600 with 2 Axes>"
            ],
            "image/png": "[encoded data removed]"
          },
          "metadata": {}
        }
      ]
    },
    {
      "cell_type": "markdown",
      "metadata": {
        "id": "6zEePWyhQ8zc"
      },
      "source": [
        "## Visualize numerical variables\n",
        "\n",
        "### Subtask:\n",
        "Create visualizations (like histograms, box plots, etc.) to understand the distribution of the numerical variables.\n"
      ]
    },
    {
      "cell_type": "markdown",
      "metadata": {
        "id": "CkhDUczEQ8zc"
      },
      "source": [
        "**Reasoning**:\n",
        "Iterate through the numerical columns and create histograms and box plots for each to visualize their distributions and identify outliers.\n",
        "\n"
      ]
    },
    {
      "cell_type": "code",
      "metadata": {
        "colab": {
          "base_uri": "https://localhost:8080/",
          "height": 1000
        },
        "outputId": "018141d5-6e6b-4289-a7ba-2f34f8a23f78",
        "id": "HK00djX1Q8zc"
      },
      "source": [
        "import matplotlib.pyplot as plt\n",
        "import seaborn as sns\n",
        "\n",
        "numerical_cols = ['age', 'bmi', 'children', 'charges']\n",
        "\n",
        "for col in numerical_cols:\n",
        "    plt.figure(figsize=(12, 5))\n",
        "\n",
        "    plt.subplot(1, 2, 1)\n",
        "    sns.histplot(df[col], kde=True)\n",
        "    plt.title(f'Distribution of {col}')\n",
        "    plt.xlabel(col)\n",
        "    plt.ylabel('Frequency')\n",
        "\n",
        "    plt.subplot(1, 2, 2)\n",
        "    sns.boxplot(x=df[col])\n",
        "    plt.title(f'Box Plot of {col}')\n",
        "    plt.xlabel(col)\n",
        "\n",
        "    plt.tight_layout()\n",
        "    plt.show()"
      ],
      "execution_count": null,
      "outputs": [
        {
          "output_type": "display_data",
          "data": {
            "text/plain": [
              "<Figure size 1200x500 with 2 Axes>"
            ],
            "image/png": "[encoded data removed]"
          },
          "metadata": {}
        },
        {
          "output_type": "display_data",
          "data": {
            "text/plain": [
              "<Figure size 1200x500 with 2 Axes>"
            ],
            "image/png": "[encoded data removed]"
          },
          "metadata": {}
        },
        {
          "output_type": "display_data",
          "data": {
            "text/plain": [
              "<Figure size 1200x500 with 2 Axes>"
            ],
            "image/png": "[encoded data removed]"
          },
          "metadata": {}
        },
        {
          "output_type": "display_data",
          "data": {
            "text/plain": [
              "<Figure size 1200x500 with 2 Axes>"
            ],
            "image/png": "[encoded data removed]"
          },
          "metadata": {}
        }
      ]
    },
    {
      "cell_type": "markdown",
      "metadata": {
        "id": "gwmowlZmQ8zc"
      },
      "source": [
        "## Summarize findings\n",
        "\n",
        "### Subtask:\n",
        "Present a summary of the key findings from the exploratory analysis.\n"
      ]
    },
    {
      "cell_type": "markdown",
      "metadata": {
        "id": "aYBTycc6Q8zd"
      },
      "source": [
        "**Reasoning**:\n",
        "Summarize the key findings from the exploratory analysis as requested in the subtask instructions.\n",
        "\n"
      ]
    },
    {
      "cell_type": "code",
      "metadata": {
        "colab": {
          "base_uri": "https://localhost:8080/",
          "height": 1000
        },
        "outputId": "3f3def54-8370-41b2-f520-75dd5a71af3d",
        "id": "2iqpYMDvQ8zd"
      },
      "source": [
        "print(\"Summary of Exploratory Data Analysis for Numerical Variables:\")\n",
        "print(\"\\n1. Initial Data Loading and Inspection:\")\n",
        "print(f\"The dataset contains {df.shape[0]} rows and {df.shape[1]} columns.\")\n",
        "print(\"The variables include age (int64), sex (object), bmi (float64), children (int64), smoker (object), region (object), and charges (float64).\")\n",
        "\n",
        "print(\"\\n2. Missing Values and Duplicate Rows:\")\n",
        "print(f\"No missing values were found in any of the columns:\\n{missing_values.to_string()}\")\n",
        "print(f\"One duplicate row was identified in the dataset.\")\n",
        "\n",
        "print(\"\\n3. Descriptive Statistics:\")\n",
        "print(\"Key descriptive statistics for the numerical variables are as follows:\")\n",
        "display(descriptive_stats)\n",
        "print(\"Notable observations:\")\n",
        "print(f\"- The average age is around {descriptive_stats.loc['mean', 'age']:.2f} years, with a range from {descriptive_stats.loc['min', 'age']} to {descriptive_stats.loc['max', 'age']}.\")\n",
        "print(f\"- The average BMI is approximately {descriptive_stats.loc['mean', 'bmi']:.2f}, ranging from {descriptive_stats.loc['min', 'bmi']:.2f} to {descriptive_stats.loc['max', 'bmi']:.2f}.\")\n",
        "print(f\"- The average number of children is about {descriptive_stats.loc['mean', 'children']:.2f}, with a maximum of {descriptive_stats.loc['max', 'children']}.\")\n",
        "print(f\"- Medical charges have a wide range, from {descriptive_stats.loc['min', 'charges']:.2f} to {descriptive_stats.loc['max', 'charges']:.2f}, with a mean of approximately {descriptive_stats.loc['mean', 'charges']:.2f} and a large standard deviation, indicating high variability.\")\n",
        "\n",
        "print(\"\\n4. Correlation Analysis:\")\n",
        "print(\"The correlation matrix shows the linear relationships between numerical variables:\")\n",
        "display(correlation_matrix)\n",
        "print(\"Key observations:\")\n",
        "print(\"- 'Charges' has a moderate positive correlation with 'age' (0.30) and 'bmi' (0.20).\")\n",
        "print(\"- 'Age' and 'bmi' have a weak positive correlation (0.11).\")\n",
        "print(\"- 'Children' has very weak correlations with age, bmi, and charges.\")\n",
        "\n",
        "print(\"\\n5. Distribution and Outliers (from visualizations):\")\n",
        "print(\"- Histograms show the frequency distribution of each numerical variable.\")\n",
        "print(\"- Box plots visualize quartiles and potential outliers.\")\n",
        "print(\"- 'Age' appears relatively uniformly distributed.\")\n",
        "print(\"- 'BMI' shows a roughly normal distribution, with some potential outliers on the higher end.\")\n",
        "print(\"- 'Children' is skewed towards lower values, with most individuals having 0 or 1 child.\")\n",
        "print(\"- 'Charges' distribution is highly skewed to the right, indicating that most charges are lower, but there are a significant number of higher charges, as also suggested by the box plot which shows many potential outliers on the higher end.\")"
      ],
      "execution_count": null,
      "outputs": [
        {
          "output_type": "stream",
          "name": "stdout",
          "text": [
            "Summary of Exploratory Data Analysis for Numerical Variables:\n",
            "\n",
            "1. Initial Data Loading and Inspection:\n",
            "The dataset contains 1338 rows and 7 columns.\n",
            "The variables include age (int64), sex (object), bmi (float64), children (int64), smoker (object), region (object), and charges (float64).\n",
            "\n",
            "2. Missing Values and Duplicate Rows:\n",
            "No missing values were found in any of the columns:\n",
            "age         0\n",
            "sex         0\n",
            "bmi         0\n",
            "children    0\n",
            "smoker      0\n",
            "region      0\n",
            "charges     0\n",
            "One duplicate row was identified in the dataset.\n",
            "\n",
            "3. Descriptive Statistics:\n",
            "Key descriptive statistics for the numerical variables are as follows:\n"
          ]
        },
        {
          "output_type": "display_data",
          "data": {
            "text/plain": [
              "               age          bmi     children       charges\n",
              "count  1338.000000  1338.000000  1338.000000   1338.000000\n",
              "mean     39.207025    30.663397     1.094918  13270.422265\n",
              "std      14.049960     6.098187     1.205493  12110.011237\n",
              "min      18.000000    15.960000     0.000000   1121.873900\n",
              "25%      27.000000    26.296250     0.000000   4740.287150\n",
              "50%      39.000000    30.400000     1.000000   9382.033000\n",
              "75%      51.000000    34.693750     2.000000  16639.912515\n",
              "max      64.000000    53.130000     5.000000  63770.428010"
            ],
            "text/html": [
              "\n",
              "  <div id=\"df-26466a44-dca5-49a6-b69b-46a1c5ad9158\" class=\"colab-df-container\">\n",
              "    <div>\n",
              "<style scoped>\n",
              "    .dataframe tbody tr th:only-of-type {\n",
              "        vertical-align: middle;\n",
              "    }\n",
              "\n",
              "    .dataframe tbody tr th {\n",
              "        vertical-align: top;\n",
              "    }\n",
              "\n",
              "    .dataframe thead th {\n",
              "        text-align: right;\n",
              "    }\n",
              "</style>\n",
              "<table border=\"1\" class=\"dataframe\">\n",
              "  <thead>\n",
              "    <tr style=\"text-align: right;\">\n",
              "      <th></th>\n",
              "      <th>age</th>\n",
              "      <th>bmi</th>\n",
              "      <th>children</th>\n",
              "      <th>charges</th>\n",
              "    </tr>\n",
              "  </thead>\n",
              "  <tbody>\n",
              "    <tr>\n",
              "      <th>count</th>\n",
              "      <td>1338.000000</td>\n",
              "      <td>1338.000000</td>\n",
              "      <td>1338.000000</td>\n",
              "      <td>1338.000000</td>\n",
              "    </tr>\n",
              "    <tr>\n",
              "      <th>mean</th>\n",
              "      <td>39.207025</td>\n",
              "      <td>30.663397</td>\n",
              "      <td>1.094918</td>\n",
              "      <td>13270.422265</td>\n",
              "    </tr>\n",
              "    <tr>\n",
              "      <th>std</th>\n",
              "      <td>14.049960</td>\n",
              "      <td>6.098187</td>\n",
              "      <td>1.205493</td>\n",
              "      <td>12110.011237</td>\n",
              "    </tr>\n",
              "    <tr>\n",
              "      <th>min</th>\n",
              "      <td>18.000000</td>\n",
              "      <td>15.960000</td>\n",
              "      <td>0.000000</td>\n",
              "      <td>1121.873900</td>\n",
              "    </tr>\n",
              "    <tr>\n",
              "      <th>25%</th>\n",
              "      <td>27.000000</td>\n",
              "      <td>26.296250</td>\n",
              "      <td>0.000000</td>\n",
              "      <td>4740.287150</td>\n",
              "    </tr>\n",
              "    <tr>\n",
              "      <th>50%</th>\n",
              "      <td>39.000000</td>\n",
              "      <td>30.400000</td>\n",
              "      <td>1.000000</td>\n",
              "      <td>9382.033000</td>\n",
              "    </tr>\n",
              "    <tr>\n",
              "      <th>75%</th>\n",
              "      <td>51.000000</td>\n",
              "      <td>34.693750</td>\n",
              "      <td>2.000000</td>\n",
              "      <td>16639.912515</td>\n",
              "    </tr>\n",
              "    <tr>\n",
              "      <th>max</th>\n",
              "      <td>64.000000</td>\n",
              "      <td>53.130000</td>\n",
              "      <td>5.000000</td>\n",
              "      <td>63770.428010</td>\n",
              "    </tr>\n",
              "  </tbody>\n",
              "</table>\n",
              "</div>\n",
              "    <div class=\"colab-df-buttons\">\n",
              "\n",
              "  <div class=\"colab-df-container\">\n",
              "    <button class=\"colab-df-convert\" onclick=\"convertToInteractive('df-26466a44-dca5-49a6-b69b-46a1c5ad9158')\"\n",
              "            title=\"Convert this dataframe to an interactive table.\"\n",
              "            style=\"display:none;\">\n",
              "\n",
              "  <svg xmlns=\"http://www.w3.org/2000/svg\" height=\"24px\" viewBox=\"0 -960 960 960\">\n",
              "    <path d=\"M120-120v-720h720v720H120Zm60-500h600v-160H180v160Zm220 220h160v-160H400v160Zm0 220h160v-160H400v160ZM180-400h160v-160H180v160Zm440 0h160v-160H620v160ZM180-180h160v-160H180v160Zm440 0h160v-160H620v160Z\"/>\n",
              "  </svg>\n",
              "    </button>\n",
              "\n",
              "  <style>\n",
              "    .colab-df-container {\n",
              "      display:flex;\n",
              "      gap: 12px;\n",
              "    }\n",
              "\n",
              "    .colab-df-convert {\n",
              "      background-color: #E8F0FE;\n",
              "      border: none;\n",
              "      border-radius: 50%;\n",
              "      cursor: pointer;\n",
              "      display: none;\n",
              "      fill: #1967D2;\n",
              "      height: 32px;\n",
              "      padding: 0 0 0 0;\n",
              "      width: 32px;\n",
              "    }\n",
              "\n",
              "    .colab-df-convert:hover {\n",
              "      background-color: #E2EBFA;\n",
              "      box-shadow: 0px 1px 2px rgba(60, 64, 67, 0.3), 0px 1px 3px 1px rgba(60, 64, 67, 0.15);\n",
              "      fill: #174EA6;\n",
              "    }\n",
              "\n",
              "    .colab-df-buttons div {\n",
              "      margin-bottom: 4px;\n",
              "    }\n",
              "\n",
              "    [theme=dark] .colab-df-convert {\n",
              "      background-color: #3B4455;\n",
              "      fill: #D2E3FC;\n",
              "    }\n",
              "\n",
              "    [theme=dark] .colab-df-convert:hover {\n",
              "      background-color: #434B5C;\n",
              "      box-shadow: 0px 1px 3px 1px rgba(0, 0, 0, 0.15);\n",
              "      filter: drop-shadow(0px 1px 2px rgba(0, 0, 0, 0.3));\n",
              "      fill: #FFFFFF;\n",
              "    }\n",
              "  </style>\n",
              "\n",
              "    <script>\n",
              "      const buttonEl =\n",
              "        document.querySelector('#df-26466a44-dca5-49a6-b69b-46a1c5ad9158 button.colab-df-convert');\n",
              "      buttonEl.style.display =\n",
              "        google.colab.kernel.accessAllowed ? 'block' : 'none';\n",
              "\n",
              "      async function convertToInteractive(key) {\n",
              "        const element = document.querySelector('#df-26466a44-dca5-49a6-b69b-46a1c5ad9158');\n",
              "        const dataTable =\n",
              "          await google.colab.kernel.invokeFunction('convertToInteractive',\n",
              "                                                    [key], {});\n",
              "        if (!dataTable) return;\n",
              "\n",
              "        const docLinkHtml = 'Like what you see? Visit the ' +\n",
              "          '<a target=\"_blank\" href=https://colab.research.google.com/notebooks/data_table.ipynb>data table notebook</a>'\n",
              "          + ' to learn more about interactive tables.';\n",
              "        element.innerHTML = '';\n",
              "        dataTable['output_type'] = 'display_data';\n",
              "        await google.colab.output.renderOutput(dataTable, element);\n",
              "        const docLink = document.createElement('div');\n",
              "        docLink.innerHTML = docLinkHtml;\n",
              "        element.appendChild(docLink);\n",
              "      }\n",
              "    </script>\n",
              "  </div>\n",
              "\n",
              "\n",
              "    <div id=\"df-258956ac-1893-41b2-bffa-c3604894f929\">\n",
              "      <button class=\"colab-df-quickchart\" onclick=\"quickchart('df-258956ac-1893-41b2-bffa-c3604894f929')\"\n",
              "                title=\"Suggest charts\"\n",
              "                style=\"display:none;\">\n",
              "\n",
              "<svg xmlns=\"http://www.w3.org/2000/svg\" height=\"24px\"viewBox=\"0 0 24 24\"\n",
              "     width=\"24px\">\n",
              "    <g>\n",
              "        <path d=\"M19 3H5c-1.1 0-2 .9-2 2v14c0 1.1.9 2 2 2h14c1.1 0 2-.9 2-2V5c0-1.1-.9-2-2-2zM9 17H7v-7h2v7zm4 0h-2V7h2v10zm4 0h-2v-4h2v4z\"/>\n",
              "    </g>\n",
              "</svg>\n",
              "      </button>\n",
              "\n",
              "<style>\n",
              "  .colab-df-quickchart {\n",
              "      --bg-color: #E8F0FE;\n",
              "      --fill-color: #1967D2;\n",
              "      --hover-bg-color: #E2EBFA;\n",
              "      --hover-fill-color: #174EA6;\n",
              "      --disabled-fill-color: #AAA;\n",
              "      --disabled-bg-color: #DDD;\n",
              "  }\n",
              "\n",
              "  [theme=dark] .colab-df-quickchart {\n",
              "      --bg-color: #3B4455;\n",
              "      --fill-color: #D2E3FC;\n",
              "      --hover-bg-color: #434B5C;\n",
              "      --hover-fill-color: #FFFFFF;\n",
              "      --disabled-bg-color: #3B4455;\n",
              "      --disabled-fill-color: #666;\n",
              "  }\n",
              "\n",
              "  .colab-df-quickchart {\n",
              "    background-color: var(--bg-color);\n",
              "    border: none;\n",
              "    border-radius: 50%;\n",
              "    cursor: pointer;\n",
              "    display: none;\n",
              "    fill: var(--fill-color);\n",
              "    height: 32px;\n",
              "    padding: 0;\n",
              "    width: 32px;\n",
              "  }\n",
              "\n",
              "  .colab-df-quickchart:hover {\n",
              "    background-color: var(--hover-bg-color);\n",
              "    box-shadow: 0 1px 2px rgba(60, 64, 67, 0.3), 0 1px 3px 1px rgba(60, 64, 67, 0.15);\n",
              "    fill: var(--button-hover-fill-color);\n",
              "  }\n",
              "\n",
              "  .colab-df-quickchart-complete:disabled,\n",
              "  .colab-df-quickchart-complete:disabled:hover {\n",
              "    background-color: var(--disabled-bg-color);\n",
              "    fill: var(--disabled-fill-color);\n",
              "    box-shadow: none;\n",
              "  }\n",
              "\n",
              "  .colab-df-spinner {\n",
              "    border: 2px solid var(--fill-color);\n",
              "    border-color: transparent;\n",
              "    border-bottom-color: var(--fill-color);\n",
              "    animation:\n",
              "      spin 1s steps(1) infinite;\n",
              "  }\n",
              "\n",
              "  @keyframes spin {\n",
              "    0% {\n",
              "      border-color: transparent;\n",
              "      border-bottom-color: var(--fill-color);\n",
              "      border-left-color: var(--fill-color);\n",
              "    }\n",
              "    20% {\n",
              "      border-color: transparent;\n",
              "      border-left-color: var(--fill-color);\n",
              "      border-top-color: var(--fill-color);\n",
              "    }\n",
              "    30% {\n",
              "      border-color: transparent;\n",
              "      border-left-color: var(--fill-color);\n",
              "      border-top-color: var(--fill-color);\n",
              "      border-right-color: var(--fill-color);\n",
              "    }\n",
              "    40% {\n",
              "      border-color: transparent;\n",
              "      border-right-color: var(--fill-color);\n",
              "      border-top-color: var(--fill-color);\n",
              "    }\n",
              "    60% {\n",
              "      border-color: transparent;\n",
              "      border-right-color: var(--fill-color);\n",
              "    }\n",
              "    80% {\n",
              "      border-color: transparent;\n",
              "      border-right-color: var(--fill-color);\n",
              "      border-bottom-color: var(--fill-color);\n",
              "    }\n",
              "    90% {\n",
              "      border-color: transparent;\n",
              "      border-bottom-color: var(--fill-color);\n",
              "    }\n",
              "  }\n",
              "</style>\n",
              "\n",
              "      <script>\n",
              "        async function quickchart(key) {\n",
              "          const quickchartButtonEl =\n",
              "            document.querySelector('#' + key + ' button');\n",
              "          quickchartButtonEl.disabled = true;  // To prevent multiple clicks.\n",
              "          quickchartButtonEl.classList.add('colab-df-spinner');\n",
              "          try {\n",
              "            const charts = await google.colab.kernel.invokeFunction(\n",
              "                'suggestCharts', [key], {});\n",
              "          } catch (error) {\n",
              "            console.error('Error during call to suggestCharts:', error);\n",
              "          }\n",
              "          quickchartButtonEl.classList.remove('colab-df-spinner');\n",
              "          quickchartButtonEl.classList.add('colab-df-quickchart-complete');\n",
              "        }\n",
              "        (() => {\n",
              "          let quickchartButtonEl =\n",
              "            document.querySelector('#df-258956ac-1893-41b2-bffa-c3604894f929 button');\n",
              "          quickchartButtonEl.style.display =\n",
              "            google.colab.kernel.accessAllowed ? 'block' : 'none';\n",
              "        })();\n",
              "      </script>\n",
              "    </div>\n",
              "\n",
              "  <div id=\"id_7c30410d-c012-4bad-a8ab-a360408a73b2\">\n",
              "    <style>\n",
              "      .colab-df-generate {\n",
              "        background-color: #E8F0FE;\n",
              "        border: none;\n",
              "        border-radius: 50%;\n",
              "        cursor: pointer;\n",
              "        display: none;\n",
              "        fill: #1967D2;\n",
              "        height: 32px;\n",
              "        padding: 0 0 0 0;\n",
              "        width: 32px;\n",
              "      }\n",
              "\n",
              "      .colab-df-generate:hover {\n",
              "        background-color: #E2EBFA;\n",
              "        box-shadow: 0px 1px 2px rgba(60, 64, 67, 0.3), 0px 1px 3px 1px rgba(60, 64, 67, 0.15);\n",
              "        fill: #174EA6;\n",
              "      }\n",
              "\n",
              "      [theme=dark] .colab-df-generate {\n",
              "        background-color: #3B4455;\n",
              "        fill: #D2E3FC;\n",
              "      }\n",
              "\n",
              "      [theme=dark] .colab-df-generate:hover {\n",
              "        background-color: #434B5C;\n",
              "        box-shadow: 0px 1px 3px 1px rgba(0, 0, 0, 0.15);\n",
              "        filter: drop-shadow(0px 1px 2px rgba(0, 0, 0, 0.3));\n",
              "        fill: #FFFFFF;\n",
              "      }\n",
              "    </style>\n",
              "    <button class=\"colab-df-generate\" onclick=\"generateWithVariable('descriptive_stats')\"\n",
              "            title=\"Generate code using this dataframe.\"\n",
              "            style=\"display:none;\">\n",
              "\n",
              "  <svg xmlns=\"http://www.w3.org/2000/svg\" height=\"24px\"viewBox=\"0 0 24 24\"\n",
              "       width=\"24px\">\n",
              "    <path d=\"M7,19H8.4L18.45,9,17,7.55,7,17.6ZM5,21V16.75L18.45,3.32a2,2,0,0,1,2.83,0l1.4,1.43a1.91,1.91,0,0,1,.58,1.4,1.91,1.91,0,0,1-.58,1.4L9.25,21ZM18.45,9,17,7.55Zm-12,3A5.31,5.31,0,0,0,4.9,8.1,5.31,5.31,0,0,0,1,6.5,5.31,5.31,0,0,0,4.9,4.9,5.31,5.31,0,0,0,6.5,1,5.31,5.31,0,0,0,8.1,4.9,5.31,5.31,0,0,0,12,6.5,5.46,5.46,0,0,0,6.5,12Z\"/>\n",
              "  </svg>\n",
              "    </button>\n",
              "    <script>\n",
              "      (() => {\n",
              "      const buttonEl =\n",
              "        document.querySelector('#id_7c30410d-c012-4bad-a8ab-a360408a73b2 button.colab-df-generate');\n",
              "      buttonEl.style.display =\n",
              "        google.colab.kernel.accessAllowed ? 'block' : 'none';\n",
              "\n",
              "      buttonEl.onclick = () => {\n",
              "        google.colab.notebook.generateWithVariable('descriptive_stats');\n",
              "      }\n",
              "      })();\n",
              "    </script>\n",
              "  </div>\n",
              "\n",
              "    </div>\n",
              "  </div>\n"
            ],
            "application/vnd.google.colaboratory.intrinsic+json": {
              "type": "dataframe",
              "variable_name": "descriptive_stats",
              "summary": "{\n  \"name\": \"descriptive_stats\",\n  \"rows\": 8,\n  \"fields\": [\n    {\n      \"column\": \"age\",\n      \"properties\": {\n        \"dtype\": \"number\",\n        \"std\": 460.6106090399993,\n        \"min\": 14.049960379216172,\n        \"max\": 1338.0,\n        \"num_unique_values\": 8,\n        \"samples\": [\n          39.20702541106129,\n          39.0,\n          1338.0\n        ],\n        \"semantic_type\": \"\",\n        \"description\": \"\"\n      }\n    },\n    {\n      \"column\": \"bmi\",\n      \"properties\": {\n        \"dtype\": \"number\",\n        \"std\": 463.29524977918294,\n        \"min\": 6.098186911679017,\n        \"max\": 1338.0,\n        \"num_unique_values\": 8,\n        \"samples\": [\n          30.66339686098655,\n          30.4,\n          1338.0\n        ],\n        \"semantic_type\": \"\",\n        \"description\": \"\"\n      }\n    },\n    {\n      \"column\": \"children\",\n      \"properties\": {\n        \"dtype\": \"number\",\n        \"std\": 472.5368318870757,\n        \"min\": 0.0,\n        \"max\": 1338.0,\n        \"num_unique_values\": 7,\n        \"samples\": [\n          1338.0,\n          1.0949177877429,\n          2.0\n        ],\n        \"semantic_type\": \"\",\n        \"description\": \"\"\n      }\n    },\n    {\n      \"column\": \"charges\",\n      \"properties\": {\n        \"dtype\": \"number\",\n        \"std\": 20381.922846226596,\n        \"min\": 1121.8739,\n        \"max\": 63770.42801,\n        \"num_unique_values\": 8,\n        \"samples\": [\n          13270.422265141257,\n          9382.033,\n          1338.0\n        ],\n        \"semantic_type\": \"\",\n        \"description\": \"\"\n      }\n    }\n  ]\n}"
            }
          },
          "metadata": {}
        },
        {
          "output_type": "stream",
          "name": "stdout",
          "text": [
            "Notable observations:\n",
            "- The average age is around 39.21 years, with a range from 18.0 to 64.0.\n",
            "- The average BMI is approximately 30.66, ranging from 15.96 to 53.13.\n",
            "- The average number of children is about 1.09, with a maximum of 5.0.\n",
            "- Medical charges have a wide range, from 1121.87 to 63770.43, with a mean of approximately 13270.42 and a large standard deviation, indicating high variability.\n",
            "\n",
            "4. Correlation Analysis:\n",
            "The correlation matrix shows the linear relationships between numerical variables:\n"
          ]
        },
        {
          "output_type": "display_data",
          "data": {
            "text/plain": [
              "               age       bmi  children   charges\n",
              "age       1.000000  0.109272  0.042469  0.299008\n",
              "bmi       0.109272  1.000000  0.012759  0.198341\n",
              "children  0.042469  0.012759  1.000000  0.067998\n",
              "charges   0.299008  0.198341  0.067998  1.000000"
            ],
            "text/html": [
              "\n",
              "  <div id=\"df-98019fe7-f9ba-40c6-9d91-8675327d7f47\" class=\"colab-df-container\">\n",
              "    <div>\n",
              "<style scoped>\n",
              "    .dataframe tbody tr th:only-of-type {\n",
              "        vertical-align: middle;\n",
              "    }\n",
              "\n",
              "    .dataframe tbody tr th {\n",
              "        vertical-align: top;\n",
              "    }\n",
              "\n",
              "    .dataframe thead th {\n",
              "        text-align: right;\n",
              "    }\n",
              "</style>\n",
              "<table border=\"1\" class=\"dataframe\">\n",
              "  <thead>\n",
              "    <tr style=\"text-align: right;\">\n",
              "      <th></th>\n",
              "      <th>age</th>\n",
              "      <th>bmi</th>\n",
              "      <th>children</th>\n",
              "      <th>charges</th>\n",
              "    </tr>\n",
              "  </thead>\n",
              "  <tbody>\n",
              "    <tr>\n",
              "      <th>age</th>\n",
              "      <td>1.000000</td>\n",
              "      <td>0.109272</td>\n",
              "      <td>0.042469</td>\n",
              "      <td>0.299008</td>\n",
              "    </tr>\n",
              "    <tr>\n",
              "      <th>bmi</th>\n",
              "      <td>0.109272</td>\n",
              "      <td>1.000000</td>\n",
              "      <td>0.012759</td>\n",
              "      <td>0.198341</td>\n",
              "    </tr>\n",
              "    <tr>\n",
              "      <th>children</th>\n",
              "      <td>0.042469</td>\n",
              "      <td>0.012759</td>\n",
              "      <td>1.000000</td>\n",
              "      <td>0.067998</td>\n",
              "    </tr>\n",
              "    <tr>\n",
              "      <th>charges</th>\n",
              "      <td>0.299008</td>\n",
              "      <td>0.198341</td>\n",
              "      <td>0.067998</td>\n",
              "      <td>1.000000</td>\n",
              "    </tr>\n",
              "  </tbody>\n",
              "</table>\n",
              "</div>\n",
              "    <div class=\"colab-df-buttons\">\n",
              "\n",
              "  <div class=\"colab-df-container\">\n",
              "    <button class=\"colab-df-convert\" onclick=\"convertToInteractive('df-98019fe7-f9ba-40c6-9d91-8675327d7f47')\"\n",
              "            title=\"Convert this dataframe to an interactive table.\"\n",
              "            style=\"display:none;\">\n",
              "\n",
              "  <svg xmlns=\"http://www.w3.org/2000/svg\" height=\"24px\" viewBox=\"0 -960 960 960\">\n",
              "    <path d=\"M120-120v-720h720v720H120Zm60-500h600v-160H180v160Zm220 220h160v-160H400v160Zm0 220h160v-160H400v160ZM180-400h160v-160H180v160Zm440 0h160v-160H620v160ZM180-180h160v-160H180v160Zm440 0h160v-160H620v160Z\"/>\n",
              "  </svg>\n",
              "    </button>\n",
              "\n",
              "  <style>\n",
              "    .colab-df-container {\n",
              "      display:flex;\n",
              "      gap: 12px;\n",
              "    }\n",
              "\n",
              "    .colab-df-convert {\n",
              "      background-color: #E8F0FE;\n",
              "      border: none;\n",
              "      border-radius: 50%;\n",
              "      cursor: pointer;\n",
              "      display: none;\n",
              "      fill: #1967D2;\n",
              "      height: 32px;\n",
              "      padding: 0 0 0 0;\n",
              "      width: 32px;\n",
              "    }\n",
              "\n",
              "    .colab-df-convert:hover {\n",
              "      background-color: #E2EBFA;\n",
              "      box-shadow: 0px 1px 2px rgba(60, 64, 67, 0.3), 0px 1px 3px 1px rgba(60, 64, 67, 0.15);\n",
              "      fill: #174EA6;\n",
              "    }\n",
              "\n",
              "    .colab-df-buttons div {\n",
              "      margin-bottom: 4px;\n",
              "    }\n",
              "\n",
              "    [theme=dark] .colab-df-convert {\n",
              "      background-color: #3B4455;\n",
              "      fill: #D2E3FC;\n",
              "    }\n",
              "\n",
              "    [theme=dark] .colab-df-convert:hover {\n",
              "      background-color: #434B5C;\n",
              "      box-shadow: 0px 1px 3px 1px rgba(0, 0, 0, 0.15);\n",
              "      filter: drop-shadow(0px 1px 2px rgba(0, 0, 0, 0.3));\n",
              "      fill: #FFFFFF;\n",
              "    }\n",
              "  </style>\n",
              "\n",
              "    <script>\n",
              "      const buttonEl =\n",
              "        document.querySelector('#df-98019fe7-f9ba-40c6-9d91-8675327d7f47 button.colab-df-convert');\n",
              "      buttonEl.style.display =\n",
              "        google.colab.kernel.accessAllowed ? 'block' : 'none';\n",
              "\n",
              "      async function convertToInteractive(key) {\n",
              "        const element = document.querySelector('#df-98019fe7-f9ba-40c6-9d91-8675327d7f47');\n",
              "        const dataTable =\n",
              "          await google.colab.kernel.invokeFunction('convertToInteractive',\n",
              "                                                    [key], {});\n",
              "        if (!dataTable) return;\n",
              "\n",
              "        const docLinkHtml = 'Like what you see? Visit the ' +\n",
              "          '<a target=\"_blank\" href=https://colab.research.google.com/notebooks/data_table.ipynb>data table notebook</a>'\n",
              "          + ' to learn more about interactive tables.';\n",
              "        element.innerHTML = '';\n",
              "        dataTable['output_type'] = 'display_data';\n",
              "        await google.colab.output.renderOutput(dataTable, element);\n",
              "        const docLink = document.createElement('div');\n",
              "        docLink.innerHTML = docLinkHtml;\n",
              "        element.appendChild(docLink);\n",
              "      }\n",
              "    </script>\n",
              "  </div>\n",
              "\n",
              "\n",
              "    <div id=\"df-a7a6c377-868a-4c4d-8178-9adc8fdb3e3f\">\n",
              "      <button class=\"colab-df-quickchart\" onclick=\"quickchart('df-a7a6c377-868a-4c4d-8178-9adc8fdb3e3f')\"\n",
              "                title=\"Suggest charts\"\n",
              "                style=\"display:none;\">\n",
              "\n",
              "<svg xmlns=\"http://www.w3.org/2000/svg\" height=\"24px\"viewBox=\"0 0 24 24\"\n",
              "     width=\"24px\">\n",
              "    <g>\n",
              "        <path d=\"M19 3H5c-1.1 0-2 .9-2 2v14c0 1.1.9 2 2 2h14c1.1 0 2-.9 2-2V5c0-1.1-.9-2-2-2zM9 17H7v-7h2v7zm4 0h-2V7h2v10zm4 0h-2v-4h2v4z\"/>\n",
              "    </g>\n",
              "</svg>\n",
              "      </button>\n",
              "\n",
              "<style>\n",
              "  .colab-df-quickchart {\n",
              "      --bg-color: #E8F0FE;\n",
              "      --fill-color: #1967D2;\n",
              "      --hover-bg-color: #E2EBFA;\n",
              "      --hover-fill-color: #174EA6;\n",
              "      --disabled-fill-color: #AAA;\n",
              "      --disabled-bg-color: #DDD;\n",
              "  }\n",
              "\n",
              "  [theme=dark] .colab-df-quickchart {\n",
              "      --bg-color: #3B4455;\n",
              "      --fill-color: #D2E3FC;\n",
              "      --hover-bg-color: #434B5C;\n",
              "      --hover-fill-color: #FFFFFF;\n",
              "      --disabled-bg-color: #3B4455;\n",
              "      --disabled-fill-color: #666;\n",
              "  }\n",
              "\n",
              "  .colab-df-quickchart {\n",
              "    background-color: var(--bg-color);\n",
              "    border: none;\n",
              "    border-radius: 50%;\n",
              "    cursor: pointer;\n",
              "    display: none;\n",
              "    fill: var(--fill-color);\n",
              "    height: 32px;\n",
              "    padding: 0;\n",
              "    width: 32px;\n",
              "  }\n",
              "\n",
              "  .colab-df-quickchart:hover {\n",
              "    background-color: var(--hover-bg-color);\n",
              "    box-shadow: 0 1px 2px rgba(60, 64, 67, 0.3), 0 1px 3px 1px rgba(60, 64, 67, 0.15);\n",
              "    fill: var(--button-hover-fill-color);\n",
              "  }\n",
              "\n",
              "  .colab-df-quickchart-complete:disabled,\n",
              "  .colab-df-quickchart-complete:disabled:hover {\n",
              "    background-color: var(--disabled-bg-color);\n",
              "    fill: var(--disabled-fill-color);\n",
              "    box-shadow: none;\n",
              "  }\n",
              "\n",
              "  .colab-df-spinner {\n",
              "    border: 2px solid var(--fill-color);\n",
              "    border-color: transparent;\n",
              "    border-bottom-color: var(--fill-color);\n",
              "    animation:\n",
              "      spin 1s steps(1) infinite;\n",
              "  }\n",
              "\n",
              "  @keyframes spin {\n",
              "    0% {\n",
              "      border-color: transparent;\n",
              "      border-bottom-color: var(--fill-color);\n",
              "      border-left-color: var(--fill-color);\n",
              "    }\n",
              "    20% {\n",
              "      border-color: transparent;\n",
              "      border-left-color: var(--fill-color);\n",
              "      border-top-color: var(--fill-color);\n",
              "    }\n",
              "    30% {\n",
              "      border-color: transparent;\n",
              "      border-left-color: var(--fill-color);\n",
              "      border-top-color: var(--fill-color);\n",
              "      border-right-color: var(--fill-color);\n",
              "    }\n",
              "    40% {\n",
              "      border-color: transparent;\n",
              "      border-right-color: var(--fill-color);\n",
              "      border-top-color: var(--fill-color);\n",
              "    }\n",
              "    60% {\n",
              "      border-color: transparent;\n",
              "      border-right-color: var(--fill-color);\n",
              "    }\n",
              "    80% {\n",
              "      border-color: transparent;\n",
              "      border-right-color: var(--fill-color);\n",
              "      border-bottom-color: var(--fill-color);\n",
              "    }\n",
              "    90% {\n",
              "      border-color: transparent;\n",
              "      border-bottom-color: var(--fill-color);\n",
              "    }\n",
              "  }\n",
              "</style>\n",
              "\n",
              "      <script>\n",
              "        async function quickchart(key) {\n",
              "          const quickchartButtonEl =\n",
              "            document.querySelector('#' + key + ' button');\n",
              "          quickchartButtonEl.disabled = true;  // To prevent multiple clicks.\n",
              "          quickchartButtonEl.classList.add('colab-df-spinner');\n",
              "          try {\n",
              "            const charts = await google.colab.kernel.invokeFunction(\n",
              "                'suggestCharts', [key], {});\n",
              "          } catch (error) {\n",
              "            console.error('Error during call to suggestCharts:', error);\n",
              "          }\n",
              "          quickchartButtonEl.classList.remove('colab-df-spinner');\n",
              "          quickchartButtonEl.classList.add('colab-df-quickchart-complete');\n",
              "        }\n",
              "        (() => {\n",
              "          let quickchartButtonEl =\n",
              "            document.querySelector('#df-a7a6c377-868a-4c4d-8178-9adc8fdb3e3f button');\n",
              "          quickchartButtonEl.style.display =\n",
              "            google.colab.kernel.accessAllowed ? 'block' : 'none';\n",
              "        })();\n",
              "      </script>\n",
              "    </div>\n",
              "\n",
              "  <div id=\"id_7c4f9cad-a3a9-4e77-b17c-99afea98c19e\">\n",
              "    <style>\n",
              "      .colab-df-generate {\n",
              "        background-color: #E8F0FE;\n",
              "        border: none;\n",
              "        border-radius: 50%;\n",
              "        cursor: pointer;\n",
              "        display: none;\n",
              "        fill: #1967D2;\n",
              "        height: 32px;\n",
              "        padding: 0 0 0 0;\n",
              "        width: 32px;\n",
              "      }\n",
              "\n",
              "      .colab-df-generate:hover {\n",
              "        background-color: #E2EBFA;\n",
              "        box-shadow: 0px 1px 2px rgba(60, 64, 67, 0.3), 0px 1px 3px 1px rgba(60, 64, 67, 0.15);\n",
              "        fill: #174EA6;\n",
              "      }\n",
              "\n",
              "      [theme=dark] .colab-df-generate {\n",
              "        background-color: #3B4455;\n",
              "        fill: #D2E3FC;\n",
              "      }\n",
              "\n",
              "      [theme=dark] .colab-df-generate:hover {\n",
              "        background-color: #434B5C;\n",
              "        box-shadow: 0px 1px 3px 1px rgba(0, 0, 0, 0.15);\n",
              "        filter: drop-shadow(0px 1px 2px rgba(0, 0, 0, 0.3));\n",
              "        fill: #FFFFFF;\n",
              "      }\n",
              "    </style>\n",
              "    <button class=\"colab-df-generate\" onclick=\"generateWithVariable('correlation_matrix')\"\n",
              "            title=\"Generate code using this dataframe.\"\n",
              "            style=\"display:none;\">\n",
              "\n",
              "  <svg xmlns=\"http://www.w3.org/2000/svg\" height=\"24px\"viewBox=\"0 0 24 24\"\n",
              "       width=\"24px\">\n",
              "    <path d=\"M7,19H8.4L18.45,9,17,7.55,7,17.6ZM5,21V16.75L18.45,3.32a2,2,0,0,1,2.83,0l1.4,1.43a1.91,1.91,0,0,1,.58,1.4,1.91,1.91,0,0,1-.58,1.4L9.25,21ZM18.45,9,17,7.55Zm-12,3A5.31,5.31,0,0,0,4.9,8.1,5.31,5.31,0,0,0,1,6.5,5.31,5.31,0,0,0,4.9,4.9,5.31,5.31,0,0,0,6.5,1,5.31,5.31,0,0,0,8.1,4.9,5.31,5.31,0,0,0,12,6.5,5.46,5.46,0,0,0,6.5,12Z\"/>\n",
              "  </svg>\n",
              "    </button>\n",
              "    <script>\n",
              "      (() => {\n",
              "      const buttonEl =\n",
              "        document.querySelector('#id_7c4f9cad-a3a9-4e77-b17c-99afea98c19e button.colab-df-generate');\n",
              "      buttonEl.style.display =\n",
              "        google.colab.kernel.accessAllowed ? 'block' : 'none';\n",
              "\n",
              "      buttonEl.onclick = () => {\n",
              "        google.colab.notebook.generateWithVariable('correlation_matrix');\n",
              "      }\n",
              "      })();\n",
              "    </script>\n",
              "  </div>\n",
              "\n",
              "    </div>\n",
              "  </div>\n"
            ],
            "application/vnd.google.colaboratory.intrinsic+json": {
              "type": "dataframe",
              "variable_name": "correlation_matrix",
              "summary": "{\n  \"name\": \"correlation_matrix\",\n  \"rows\": 4,\n  \"fields\": [\n    {\n      \"column\": \"age\",\n      \"properties\": {\n        \"dtype\": \"number\",\n        \"std\": 0.43855126689828755,\n        \"min\": 0.04246899855884958,\n        \"max\": 1.0,\n        \"num_unique_values\": 4,\n        \"samples\": [\n          0.1092718815485351,\n          0.299008193330648,\n          1.0\n        ],\n        \"semantic_type\": \"\",\n        \"description\": \"\"\n      }\n    },\n    {\n      \"column\": \"bmi\",\n      \"properties\": {\n        \"dtype\": \"number\",\n        \"std\": 0.45298891937204494,\n        \"min\": 0.012758900820673994,\n        \"max\": 1.0,\n        \"num_unique_values\": 4,\n        \"samples\": [\n          1.0,\n          0.19834096883362912,\n          0.1092718815485351\n        ],\n        \"semantic_type\": \"\",\n        \"description\": \"\"\n      }\n    },\n    {\n      \"column\": \"children\",\n      \"properties\": {\n        \"dtype\": \"number\",\n        \"std\": 0.4799933789762917,\n        \"min\": 0.012758900820673994,\n        \"max\": 1.0,\n        \"num_unique_values\": 4,\n        \"samples\": [\n          0.012758900820673994,\n          0.06799822684790495,\n          0.04246899855884958\n        ],\n        \"semantic_type\": \"\",\n        \"description\": \"\"\n      }\n    },\n    {\n      \"column\": \"charges\",\n      \"properties\": {\n        \"dtype\": \"number\",\n        \"std\": 0.416649607535863,\n        \"min\": 0.06799822684790495,\n        \"max\": 1.0,\n        \"num_unique_values\": 4,\n        \"samples\": [\n          0.19834096883362912,\n          1.0,\n          0.299008193330648\n        ],\n        \"semantic_type\": \"\",\n        \"description\": \"\"\n      }\n    }\n  ]\n}"
            }
          },
          "metadata": {}
        },
        {
          "output_type": "stream",
          "name": "stdout",
          "text": [
            "Key observations:\n",
            "- 'Charges' has a moderate positive correlation with 'age' (0.30) and 'bmi' (0.20).\n",
            "- 'Age' and 'bmi' have a weak positive correlation (0.11).\n",
            "- 'Children' has very weak correlations with age, bmi, and charges.\n",
            "\n",
            "5. Distribution and Outliers (from visualizations):\n",
            "- Histograms show the frequency distribution of each numerical variable.\n",
            "- Box plots visualize quartiles and potential outliers.\n",
            "- 'Age' appears relatively uniformly distributed.\n",
            "- 'BMI' shows a roughly normal distribution, with some potential outliers on the higher end.\n",
            "- 'Children' is skewed towards lower values, with most individuals having 0 or 1 child.\n",
            "- 'Charges' distribution is highly skewed to the right, indicating that most charges are lower, but there are a significant number of higher charges, as also suggested by the box plot which shows many potential outliers on the higher end.\n"
          ]
        }
      ]
    },
    {
      "cell_type": "markdown",
      "metadata": {
        "id": "0kLpwBArQ8zd"
      },
      "source": [
        "## Summary:\n",
        "\n",
        "### Data Analysis Key Findings\n",
        "\n",
        "*   The dataset contains 1338 rows and 7 columns, with numerical variables being 'age', 'bmi', 'children', and 'charges'.\n",
        "*   There are no missing values in any of the columns.\n",
        "*   One duplicate row was identified in the dataset.\n",
        "*   Key descriptive statistics for numerical variables:\n",
        "    *   The average age is approximately 39.21 years, ranging from 18 to 64.\n",
        "    *   The average BMI is around 30.66, ranging from 15.96 to 53.13.\n",
        "    *   The average number of children is about 1.09, with a maximum of 5.\n",
        "    *   Medical charges have a wide range, from \\$1121.87 to \\$63770.43, with a mean of approximately \\$13270.42 and a large standard deviation (\\$12110.01), indicating high variability and a right-skewed distribution.\n",
        "*   Correlation analysis revealed:\n",
        "    *   'Charges' has a moderate positive correlation with 'age' (0.30) and 'bmi' (0.20).\n",
        "    *   'Age' and 'bmi' have a weak positive correlation (0.11).\n",
        "    *   'Children' has very weak correlations with age, bmi, and charges.\n",
        "*   Visualizations (histograms and box plots) indicate:\n",
        "    *   'Age' is relatively uniformly distributed.\n",
        "    *   'BMI' shows a roughly normal distribution with some higher-end outliers.\n",
        "    *   'Children' is skewed towards lower values (most individuals have 0 or 1 child).\n",
        "    *   'Charges' is highly skewed to the right, with many potential outliers on the higher end.\n",
        "\n",
        "### Insights or Next Steps\n",
        "\n",
        "*   Consider addressing the single duplicate row identified, likely by removing it, to ensure data integrity for further analysis or modeling.\n",
        "*   Investigate the variables 'smoker' and 'region' to understand their influence on 'charges', as the correlations with numerical variables alone do not fully explain the high variability in charges.\n"
      ]
    },
    {
      "cell_type": "markdown",
      "metadata": {
        "id": "ZM6JUq20Q8zd"
      },
      "source": [
        "# Task\n",
        "Perform a linear regression analysis on the \"insurance.csv\" dataset (\"https://github.com/stedy/Machine-Learning-with-R-datasets/blob/master/insurance.csv\"). This involves: loading the data, performing exploratory data analysis on numerical variables (checking types, missing values, duplicates, correlations), selecting relevant variables with justification, handling duplicate rows, splitting the data into training and testing sets, scaling the data, training a simple or multiple linear regression model, and evaluating the model's performance."
      ]
    },
    {
      "cell_type": "markdown",
      "metadata": {
        "id": "_WcslccfQ8zd"
      },
      "source": [
        "## Select variables\n",
        "\n",
        "### Subtask:\n",
        "Based on the exploratory data analysis, select the numerical variables to be used as features and the target variable for the regression model. Justify the selection.\n"
      ]
    },
    {
      "cell_type": "markdown",
      "metadata": {
        "id": "RsCUSYfqQ8ze"
      },
      "source": [
        "**Reasoning**:\n",
        "Based on the correlation analysis and the goal of the regression, select 'age', 'bmi', and 'children' as features and 'charges' as the target variable for the linear regression model and justify the selection based on the correlation matrix.\n",
        "\n"
      ]
    },
    {
      "cell_type": "code",
      "metadata": {
        "colab": {
          "base_uri": "https://localhost:8080/"
        },
        "outputId": "4c298639-d43d-4eb3-8700-a8533452b124",
        "id": "v5IZr-ESQ8ze"
      },
      "source": [
        "# Select features and target variable\n",
        "features = ['age', 'bmi', 'children']\n",
        "target = 'charges'\n",
        "\n",
        "print(f\"Selected Features for Regression: {features}\")\n",
        "print(f\"Selected Target Variable for Regression: {target}\")\n",
        "\n",
        "print(\"\\nJustification for Feature Selection:\")\n",
        "print(\"Based on the correlation matrix, 'age' and 'bmi' show moderate positive correlations with the target variable 'charges' (0.30 and 0.20 respectively). This suggests that as age or BMI increases, medical charges tend to increase, making them potentially good predictors.\")\n",
        "print(\"While 'children' has a very weak correlation with 'charges' (0.07), it is a numerical variable and might still contribute to the model's predictive power, especially in combination with other features. We will include it in the initial model and evaluate its impact.\")\n",
        "print(\"'Charges' is the logical target variable as the task is to predict medical costs.\")"
      ],
      "execution_count": null,
      "outputs": [
        {
          "output_type": "stream",
          "name": "stdout",
          "text": [
            "Selected Features for Regression: ['age', 'bmi', 'children']\n",
            "Selected Target Variable for Regression: charges\n",
            "\n",
            "Justification for Feature Selection:\n",
            "Based on the correlation matrix, 'age' and 'bmi' show moderate positive correlations with the target variable 'charges' (0.30 and 0.20 respectively). This suggests that as age or BMI increases, medical charges tend to increase, making them potentially good predictors.\n",
            "While 'children' has a very weak correlation with 'charges' (0.07), it is a numerical variable and might still contribute to the model's predictive power, especially in combination with other features. We will include it in the initial model and evaluate its impact.\n",
            "'Charges' is the logical target variable as the task is to predict medical costs.\n"
          ]
        }
      ]
    },
    {
      "cell_type": "markdown",
      "metadata": {
        "id": "ahbOaIqoQ8zf"
      },
      "source": [
        "## Handle duplicate rows\n",
        "\n",
        "### Subtask:\n",
        "Remove the duplicate row identified in the previous analysis to ensure data integrity.\n"
      ]
    },
    {
      "cell_type": "markdown",
      "metadata": {
        "id": "HBxzPQnJQ8zf"
      },
      "source": [
        "**Reasoning**:\n",
        "Remove the duplicate row from the DataFrame and then verify the removal by checking for duplicate rows again.\n",
        "\n"
      ]
    },
    {
      "cell_type": "code",
      "metadata": {
        "colab": {
          "base_uri": "https://localhost:8080/"
        },
        "outputId": "0c5ef7b8-51cf-407b-8723-22ceb020a7ad",
        "id": "9_ogtRA2Q8zf"
      },
      "source": [
        "df.drop_duplicates(inplace=True)\n",
        "duplicate_rows_count_after_drop = df.duplicated().sum()\n",
        "print(\"Total count of duplicate rows after dropping:\", duplicate_rows_count_after_drop)"
      ],
      "execution_count": null,
      "outputs": [
        {
          "output_type": "stream",
          "name": "stdout",
          "text": [
            "Total count of duplicate rows after dropping: 0\n"
          ]
        }
      ]
    },
    {
      "cell_type": "markdown",
      "metadata": {
        "id": "qgwFY_AyQ8zf"
      },
      "source": [
        "## Split data\n",
        "\n",
        "### Subtask:\n",
        "Split the dataset into training and testing sets.\n"
      ]
    },
    {
      "cell_type": "markdown",
      "metadata": {
        "id": "-uKEXvcAQ8zf"
      },
      "source": [
        "**Reasoning**:\n",
        "Split the data into training and testing sets using the selected features and target variable, and print the shapes of the resulting sets.\n",
        "\n"
      ]
    },
    {
      "cell_type": "code",
      "metadata": {
        "colab": {
          "base_uri": "https://localhost:8080/"
        },
        "outputId": "5cd27c44-2338-4eb4-91aa-90a904602ba3",
        "id": "vf_F6ez7Q8zf"
      },
      "source": [
        "from sklearn.model_selection import train_test_split\n",
        "\n",
        "X = df[features]\n",
        "y = df[target]\n",
        "\n",
        "X_train, X_test, y_train, y_test = train_test_split(X, y, test_size=0.25, random_state=42)\n",
        "\n",
        "print(\"Shape of X_train:\", X_train.shape)\n",
        "print(\"Shape of X_test:\", X_test.shape)\n",
        "print(\"Shape of y_train:\", y_train.shape)\n",
        "print(\"Shape of y_test:\", y_test.shape)"
      ],
      "execution_count": null,
      "outputs": [
        {
          "output_type": "stream",
          "name": "stdout",
          "text": [
            "Shape of X_train: (1002, 3)\n",
            "Shape of X_test: (335, 3)\n",
            "Shape of y_train: (1002,)\n",
            "Shape of y_test: (335,)\n"
          ]
        }
      ]
    },
    {
      "cell_type": "markdown",
      "metadata": {
        "id": "0ySdJz1oQ8zf"
      },
      "source": [
        "## Scale data\n",
        "\n",
        "### Subtask:\n",
        "Scale the numerical features to ensure they have similar ranges, which can improve the performance of the regression model.\n"
      ]
    },
    {
      "cell_type": "markdown",
      "metadata": {
        "id": "8O07GdxzQ8zg"
      },
      "source": [
        "**Reasoning**:\n",
        "Import StandardScaler, instantiate it, fit it to the training data, and transform both training and testing data.\n",
        "\n"
      ]
    },
    {
      "cell_type": "code",
      "metadata": {
        "colab": {
          "base_uri": "https://localhost:8080/"
        },
        "outputId": "c6b45262-ae17-4948-acf8-4ab049703bcd",
        "id": "XBk9UvyPQ8zg"
      },
      "source": [
        "from sklearn.preprocessing import StandardScaler\n",
        "\n",
        "scaler = StandardScaler()\n",
        "X_train_scaled = scaler.fit_transform(X_train)\n",
        "X_test_scaled = scaler.transform(X_test)\n",
        "\n",
        "print(\"Shape of scaled X_train:\", X_train_scaled.shape)\n",
        "print(\"Shape of scaled X_test:\", X_test_scaled.shape)"
      ],
      "execution_count": null,
      "outputs": [
        {
          "output_type": "stream",
          "name": "stdout",
          "text": [
            "Shape of scaled X_train: (1002, 3)\n",
            "Shape of scaled X_test: (335, 3)\n"
          ]
        }
      ]
    },
    {
      "cell_type": "markdown",
      "metadata": {
        "id": "bReuYiNhQ8zg"
      },
      "source": [
        "## Train the model\n",
        "\n",
        "### Subtask:\n",
        "Train a simple linear regression or multiple linear regression model using the training data.\n"
      ]
    },
    {
      "cell_type": "markdown",
      "metadata": {
        "id": "ra8CGZQuQ8zg"
      },
      "source": [
        "**Reasoning**:\n",
        "Import the LinearRegression model, instantiate it, fit it to the scaled training data, and print the intercept and coefficients.\n",
        "\n"
      ]
    },
    {
      "cell_type": "code",
      "metadata": {
        "colab": {
          "base_uri": "https://localhost:8080/"
        },
        "outputId": "230119e0-4745-4f62-d0f6-8480952edb96",
        "id": "DFT-FadFQ8zg"
      },
      "source": [
        "from sklearn.linear_model import LinearRegression\n",
        "\n",
        "model = LinearRegression()\n",
        "model.fit(X_train_scaled, y_train)\n",
        "\n",
        "print(\"Intercept:\", model.intercept_)\n",
        "print(\"Coefficients:\", model.coef_)"
      ],
      "execution_count": null,
      "outputs": [
        {
          "output_type": "stream",
          "name": "stdout",
          "text": [
            "Intercept: 13082.300336067865\n",
            "Coefficients: [3038.6379423  1587.45892592  881.27198441]\n"
          ]
        }
      ]
    },
    {
      "cell_type": "markdown",
      "metadata": {
        "id": "ZS1Um2jxQ8zg"
      },
      "source": [
        "## Evaluate the model\n",
        "\n",
        "### Subtask:\n",
        "Evaluate the performance of the trained model using appropriate metrics on the testing data.\n"
      ]
    },
    {
      "cell_type": "markdown",
      "metadata": {
        "id": "cVo9Y99aQ8zh"
      },
      "source": [
        "**Reasoning**:\n",
        "Calculate and print the MAE, MSE, and R-squared to evaluate the model's performance on the testing data.\n",
        "\n"
      ]
    },
    {
      "cell_type": "code",
      "metadata": {
        "colab": {
          "base_uri": "https://localhost:8080/"
        },
        "outputId": "cabba325-0753-40d9-e106-d4236b3894a2",
        "id": "AFXaFYkSQ8zh"
      },
      "source": [
        "from sklearn.metrics import mean_absolute_error, mean_squared_error, r2_score\n",
        "\n",
        "y_pred = model.predict(X_test_scaled)\n",
        "\n",
        "mae = mean_absolute_error(y_test, y_pred)\n",
        "mse = mean_squared_error(y_test, y_pred)\n",
        "r2 = r2_score(y_test, y_pred)\n",
        "\n",
        "print(f\"Mean Absolute Error (MAE): {mae:.2f}\")\n",
        "print(f\"Mean Squared Error (MSE): {mse:.2f}\")\n",
        "print(f\"R-squared (R2): {r2:.2f}\")"
      ],
      "execution_count": null,
      "outputs": [
        {
          "output_type": "stream",
          "name": "stdout",
          "text": [
            "Mean Absolute Error (MAE): 9261.94\n",
            "Mean Squared Error (MSE): 146589702.80\n",
            "R-squared (R2): 0.15\n"
          ]
        }
      ]
    },
    {
      "cell_type": "markdown",
      "metadata": {
        "id": "a_xnGTgyQ8zh"
      },
      "source": [
        "## Summarize findings\n",
        "\n",
        "### Subtask:\n",
        "Present a summary of the model's performance and insights.\n"
      ]
    },
    {
      "cell_type": "markdown",
      "metadata": {
        "id": "lF0vZnOuQ8zh"
      },
      "source": [
        "**Reasoning**:\n",
        "Present a summary of the model's performance and insights based on the calculated evaluation metrics and the previous analysis steps.\n",
        "\n"
      ]
    },
    {
      "cell_type": "code",
      "metadata": {
        "colab": {
          "base_uri": "https://localhost:8080/"
        },
        "outputId": "cf90a975-f5ba-4fb2-81f1-e4e678cc6fd7",
        "id": "iFL64tZJQ8zh"
      },
      "source": [
        "print(\"Model Performance Summary:\")\n",
        "print(f\"Mean Absolute Error (MAE): {mae:.2f}\")\n",
        "print(f\"Mean Squared Error (MSE): {mse:.2f}\")\n",
        "print(f\"R-squared (R2): {r2:.2f}\")\n",
        "\n",
        "print(\"\\nInterpretation of Metrics:\")\n",
        "print(f\"- MAE of {mae:.2f} means that, on average, the model's predictions for medical charges are off by approximately ${mae:.2f}.\")\n",
        "print(f\"- MSE of {mse:.2f} gives a larger weight to larger errors. A high MSE suggests that there are some predictions that are significantly far from the actual values.\")\n",
        "print(f\"- The R-squared value of {r2:.2f} indicates that approximately {r2*100:.2f}% of the variance in medical charges can be explained by the features used in the model (age, bmi, and children).\")\n",
        "\n",
        "print(\"\\nInsights and Limitations:\")\n",
        "print(\"The R-squared value of 0.15 is relatively low, suggesting that the selected numerical features (age, bmi, children) only explain a small portion of the variability in medical charges.\")\n",
        "print(\"This aligns with the initial correlation analysis, which showed only weak to moderate correlations between these numerical features and 'charges'.\")\n",
        "print(\"Other factors, likely including the categorical variables 'smoker' and 'region', are significant drivers of medical costs and are not included in this simple linear regression model using only numerical features.\")\n",
        "print(\"Therefore, the current model has limited predictive power for medical charges based on the selected numerical variables alone.\")"
      ],
      "execution_count": null,
      "outputs": [
        {
          "output_type": "stream",
          "name": "stdout",
          "text": [
            "Model Performance Summary:\n",
            "Mean Absolute Error (MAE): 9261.94\n",
            "Mean Squared Error (MSE): 146589702.80\n",
            "R-squared (R2): 0.15\n",
            "\n",
            "Interpretation of Metrics:\n",
            "- MAE of 9261.94 means that, on average, the model's predictions for medical charges are off by approximately $9261.94.\n",
            "- MSE of 146589702.80 gives a larger weight to larger errors. A high MSE suggests that there are some predictions that are significantly far from the actual values.\n",
            "- The R-squared value of 0.15 indicates that approximately 15.22% of the variance in medical charges can be explained by the features used in the model (age, bmi, and children).\n",
            "\n",
            "Insights and Limitations:\n",
            "The R-squared value of 0.15 is relatively low, suggesting that the selected numerical features (age, bmi, children) only explain a small portion of the variability in medical charges.\n",
            "This aligns with the initial correlation analysis, which showed only weak to moderate correlations between these numerical features and 'charges'.\n",
            "Other factors, likely including the categorical variables 'smoker' and 'region', are significant drivers of medical costs and are not included in this simple linear regression model using only numerical features.\n",
            "Therefore, the current model has limited predictive power for medical charges based on the selected numerical variables alone.\n"
          ]
        }
      ]
    },
    {
      "cell_type": "markdown",
      "metadata": {
        "id": "JQ6rCRK-Q8zh"
      },
      "source": [
        "## Summary:\n",
        "\n",
        "### Data Analysis Key Findings\n",
        "\n",
        "*   The numerical features 'age', 'bmi', and 'children' were selected for the regression model, and 'charges' was selected as the target variable.\n",
        "*   'age' (0.30) and 'bmi' (0.20) showed moderate positive correlations with 'charges', while 'children' showed a weak correlation (0.07).\n",
        "*   One duplicate row was identified and successfully removed from the dataset.\n",
        "*   The dataset was split into training (75%) and testing (25%) sets.\n",
        "*   The numerical features in both the training and testing sets were successfully scaled using `StandardScaler`.\n",
        "*   A linear regression model was trained, resulting in an intercept of approximately 13082.30 and coefficients of approximately 3038.64, 1587.46, and 881.27 for the scaled features.\n",
        "*   The model's performance on the testing data was evaluated with the following metrics:\n",
        "    *   Mean Absolute Error (MAE): 9261.94, indicating that predictions are off by approximately \\$9261.94 on average.\n",
        "    *   Mean Squared Error (MSE): 146589702.80, suggesting some predictions are significantly far from actual values.\n",
        "    *   R-squared (R2): 0.15, meaning only about 15% of the variance in medical charges is explained by the selected numerical features.\n",
        "\n",
        "### Insights or Next Steps\n",
        "\n",
        "*   The low R-squared value suggests that the selected numerical features alone are not strong predictors of medical charges.\n",
        "*   Including categorical variables like 'smoker' and 'region' in the model is likely necessary to significantly improve predictive power, as these are expected to be strong drivers of medical costs.\n"
      ]
    },
    {
      "cell_type": "markdown",
      "metadata": {
        "id": "6UQ_33hKQ8zh"
      },
      "source": [
        "# Task\n",
        "Realizar un análisis exploratorio de datos, seleccionar variables, y entrenar y evaluar modelos de regresión lineal (simple o multivariante) y SVR o Árbol de Decisión en el dataset \"https://github.com/stedy/Machine-Learning-with-R-datasets/blob/master/insurance.csv\" en un notebook de Google Colab llamado \"tp2_<nombreyapellido>_2022.ipynb\", justificando las selecciones y presentando los resultados en español."
      ]
    },
    {
      "cell_type": "markdown",
      "metadata": {
        "id": "znzS3RCKQ8zh"
      },
      "source": [
        "## Train the svr or decision tree model\n",
        "\n",
        "### Subtask:\n",
        "Train either an SVR or a Decision Tree regression model using the scaled training data.\n"
      ]
    },
    {
      "cell_type": "markdown",
      "metadata": {
        "id": "ck9ehGOYQ8zh"
      },
      "source": [
        "**Reasoning**:\n",
        "Import the DecisionTreeRegressor model, instantiate it, and fit it to the scaled training data.\n",
        "\n"
      ]
    },
    {
      "cell_type": "code",
      "metadata": {
        "colab": {
          "base_uri": "https://localhost:8080/"
        },
        "outputId": "9d561c46-df5a-44c8-b78c-3645ecbeee03",
        "id": "LhUJqt_nQ8zh"
      },
      "source": [
        "from sklearn.tree import DecisionTreeRegressor\n",
        "\n",
        "dt_model = DecisionTreeRegressor(random_state=42)\n",
        "dt_model.fit(X_train_scaled, y_train)\n",
        "\n",
        "print(\"Decision Tree Regression model trained successfully.\")"
      ],
      "execution_count": null,
      "outputs": [
        {
          "output_type": "stream",
          "name": "stdout",
          "text": [
            "Decision Tree Regression model trained successfully.\n"
          ]
        }
      ]
    },
    {
      "cell_type": "markdown",
      "metadata": {
        "id": "Cv0EpSULQ8zi"
      },
      "source": [
        "## Evaluate the model\n",
        "\n",
        "### Subtask:\n",
        "Evaluate the performance of the trained SVR or Decision Tree model using appropriate metrics on the scaled testing data.\n"
      ]
    },
    {
      "cell_type": "markdown",
      "metadata": {
        "id": "parHUgHnQ8zi"
      },
      "source": [
        "**Reasoning**:\n",
        "Calculate and print the MAE, MSE, and R-squared to evaluate the Decision Tree model's performance on the testing data.\n",
        "\n"
      ]
    },
    {
      "cell_type": "code",
      "metadata": {
        "colab": {
          "base_uri": "https://localhost:8080/"
        },
        "outputId": "c14bbdf0-8eb2-460b-b70d-e229f514f9be",
        "id": "Icok8t-UQ8zi"
      },
      "source": [
        "from sklearn.metrics import mean_absolute_error, mean_squared_error, r2_score\n",
        "\n",
        "dt_y_pred = dt_model.predict(X_test_scaled)\n",
        "\n",
        "dt_mae = mean_absolute_error(y_test, dt_y_pred)\n",
        "dt_mse = mean_squared_error(y_test, dt_y_pred)\n",
        "dt_r2 = r2_score(y_test, dt_y_pred)\n",
        "\n",
        "print(f\"Decision Tree Model Performance:\")\n",
        "print(f\"Mean Absolute Error (MAE): {dt_mae:.2f}\")\n",
        "print(f\"Mean Squared Error (MSE): {dt_mse:.2f}\")\n",
        "print(f\"R-squared (R2): {dt_r2:.2f}\")"
      ],
      "execution_count": null,
      "outputs": [
        {
          "output_type": "stream",
          "name": "stdout",
          "text": [
            "Decision Tree Model Performance:\n",
            "Mean Absolute Error (MAE): 11010.76\n",
            "Mean Squared Error (MSE): 298252510.63\n",
            "R-squared (R2): -0.72\n"
          ]
        }
      ]
    },
    {
      "cell_type": "markdown",
      "metadata": {
        "id": "NSUgpR6pQ8zi"
      },
      "source": [
        "## Compare model performance\n",
        "\n",
        "### Subtask:\n",
        "Compare the performance of the SVR or Decision Tree model with the Linear Regression model.\n"
      ]
    },
    {
      "cell_type": "markdown",
      "metadata": {
        "id": "gg1Gyv2qQ8zj"
      },
      "source": [
        "**Reasoning**:\n",
        "Print the evaluation metrics for both models and compare their performance.\n",
        "\n"
      ]
    },
    {
      "cell_type": "code",
      "metadata": {
        "colab": {
          "base_uri": "https://localhost:8080/"
        },
        "outputId": "30cf29a6-16ca-496b-9203-1146a7fe5d7d",
        "id": "w_EqHtjbQ8zj"
      },
      "source": [
        "print(\"Linear Regression Model Performance:\")\n",
        "print(f\"Mean Absolute Error (MAE): {mae:.2f}\")\n",
        "print(f\"Mean Squared Error (MSE): {mse:.2f}\")\n",
        "print(f\"R-squared (R2): {r2:.2f}\")\n",
        "\n",
        "print(\"\\nDecision Tree Model Performance:\")\n",
        "print(f\"Mean Absolute Error (MAE): {dt_mae:.2f}\")\n",
        "print(f\"Mean Squared Error (MSE): {dt_mse:.2f}\")\n",
        "print(f\"R-squared (R2): {dt_r2:.2f}\")\n",
        "\n",
        "print(\"\\nComparison of Model Performance:\")\n",
        "print(f\"Linear Regression MAE: {mae:.2f} vs Decision Tree MAE: {dt_mae:.2f}\")\n",
        "print(f\"Linear Regression MSE: {mse:.2f} vs Decision Tree MSE: {dt_mse:.2f}\")\n",
        "print(f\"Linear Regression R2: {r2:.2f} vs Decision Tree R2: {dt_r2:.2f}\")\n",
        "\n",
        "print(\"\\nBased on the evaluation metrics:\")\n",
        "if mae < dt_mae:\n",
        "    print(\"- The Linear Regression model has a lower MAE, indicating smaller average prediction errors.\")\n",
        "elif mae > dt_mae:\n",
        "    print(\"- The Decision Tree model has a lower MAE, indicating smaller average prediction errors.\")\n",
        "else:\n",
        "    print(\"- Both models have similar MAE values.\")\n",
        "\n",
        "if mse < dt_mse:\n",
        "    print(\"- The Linear Regression model has a lower MSE, suggesting fewer and smaller large errors.\")\n",
        "elif mse > dt_mse:\n",
        "    print(\"- The Decision Tree model has a lower MSE, suggesting fewer and smaller large errors.\")\n",
        "else:\n",
        "    print(\"- Both models have similar MSE values.\")\n",
        "\n",
        "if r2 > dt_r2:\n",
        "    print(\"- The Linear Regression model has a higher R-squared value, indicating that it explains more of the variance in the target variable.\")\n",
        "elif r2 < dt_r2:\n",
        "    print(\"- The Decision Tree model has a higher R-squared value, indicating that it explains more of the variance in the target variable.\")\n",
        "else:\n",
        "    print(\"- Both models have similar R-squared values.\")\n",
        "\n",
        "print(\"\\nOverall:\")\n",
        "if mae < dt_mae and mse < dt_mse and r2 > dt_r2:\n",
        "    print(\"Based on MAE, MSE, and R2, the Linear Regression model appears to perform better than the Decision Tree model on this dataset with the selected features.\")\n",
        "elif mae > dt_mae and mse > dt_mse and r2 < dt_r2:\n",
        "     print(\"Based on MAE, MSE, and R2, the Decision Tree model appears to perform better than the Linear Regression model on this dataset with the selected features.\")\n",
        "else:\n",
        "    print(\"Comparing the models based on these metrics shows mixed results, or the performance difference is not consistently in favor of one model across all metrics.\")"
      ],
      "execution_count": null,
      "outputs": [
        {
          "output_type": "stream",
          "name": "stdout",
          "text": [
            "Linear Regression Model Performance:\n",
            "Mean Absolute Error (MAE): 9261.94\n",
            "Mean Squared Error (MSE): 146589702.80\n",
            "R-squared (R2): 0.15\n",
            "\n",
            "Decision Tree Model Performance:\n",
            "Mean Absolute Error (MAE): 11010.76\n",
            "Mean Squared Error (MSE): 298252510.63\n",
            "R-squared (R2): -0.72\n",
            "\n",
            "Comparison of Model Performance:\n",
            "Linear Regression MAE: 9261.94 vs Decision Tree MAE: 11010.76\n",
            "Linear Regression MSE: 146589702.80 vs Decision Tree MSE: 298252510.63\n",
            "Linear Regression R2: 0.15 vs Decision Tree R2: -0.72\n",
            "\n",
            "Based on the evaluation metrics:\n",
            "- The Linear Regression model has a lower MAE, indicating smaller average prediction errors.\n",
            "- The Linear Regression model has a lower MSE, suggesting fewer and smaller large errors.\n",
            "- The Linear Regression model has a higher R-squared value, indicating that it explains more of the variance in the target variable.\n",
            "\n",
            "Overall:\n",
            "Based on MAE, MSE, and R2, the Linear Regression model appears to perform better than the Decision Tree model on this dataset with the selected features.\n"
          ]
        }
      ]
    },
    {
      "cell_type": "markdown",
      "metadata": {
        "id": "DLIKaPEkQ8zj"
      },
      "source": [
        "## Summarize findings\n",
        "\n",
        "### Subtask:\n",
        "Present a summary of the SVR or Decision Tree model's performance and insights, and the comparison with the linear regression model.\n"
      ]
    },
    {
      "cell_type": "markdown",
      "metadata": {
        "id": "JSMC3ubIQ8zj"
      },
      "source": [
        "**Reasoning**:\n",
        "Summarize the findings from the model evaluation and comparison, including interpreting the metrics, identifying the better performing model, and discussing insights and limitations.\n",
        "\n"
      ]
    },
    {
      "cell_type": "code",
      "metadata": {
        "colab": {
          "base_uri": "https://localhost:8080/"
        },
        "outputId": "70a683a3-0fb7-4542-f697-1a8621dd4b05",
        "id": "QC4dldiqQ8zj"
      },
      "source": [
        "print(\"Resumen del Rendimiento y Comparación de Modelos:\")\n",
        "\n",
        "print(\"\\n1. Rendimiento del Modelo de Regresión Lineal:\")\n",
        "print(f\"  - Error Absoluto Medio (MAE): {mae:.2f}\")\n",
        "print(f\"  - Error Cuadrático Medio (MSE): {mse:.2f}\")\n",
        "print(f\"  - R-cuadrado (R2): {r2:.2f}\")\n",
        "print(f\"Interpretación: Un MAE de {mae:.2f} significa que, en promedio, las predicciones del modelo de Regresión Lineal se desvían en aproximadamente ${mae:.2f} de los valores reales. Un R2 de {r2:.2f} indica que el modelo explica aproximadamente el {r2*100:.2f}% de la varianza en los cargos médicos.\")\n",
        "\n",
        "print(\"\\n2. Rendimiento del Modelo de Árbol de Decisión:\")\n",
        "print(f\"  - Error Absoluto Medio (MAE): {dt_mae:.2f}\")\n",
        "print(f\"  - Error Cuadrático Medio (MSE): {dt_mse:.2f}\")\n",
        "print(f\"  - R-cuadrado (R2): {dt_r2:.2f}\")\n",
        "print(f\"Interpretación: Un MAE de {dt_mae:.2f} significa que, en promedio, las predicciones del modelo de Árbol de Decisión se desvían en aproximadamente ${dt_mae:.2f} de los valores reales. Un R2 de {dt_r2:.2f} (negativo) indica que el modelo se ajusta peor a los datos que un modelo horizontal simple que predice la media, lo que sugiere un rendimiento muy deficiente.\")\n",
        "\n",
        "print(\"\\n3. Comparación y Conclusiones:\")\n",
        "print(\"Comparando las métricas, el modelo de Regresión Lineal demostró un rendimiento superior al modelo de Árbol de Decisión con las características numéricas seleccionadas:\")\n",
        "print(f\"- El MAE de Regresión Lineal ({mae:.2f}) es menor que el del Árbol de Decisión ({dt_mae:.2f}), lo que indica errores de predicción promedio más pequeños para la Regresión Lineal.\")\n",
        "print(f\"- El MSE de Regresión Lineal ({mse:.2f}) es significativamente menor que el del Árbol de Decisión ({dt_mse:.2f}), lo que sugiere que la Regresión Lineal tiene menos errores grandes y, en general, sus predicciones están más cerca de los valores reales.\")\n",
        "print(f\"- El R2 de Regresión Lineal ({r2:.2f}) es positivo y considerablemente mayor que el R2 negativo del Árbol de Decisión ({dt_r2:.2f}). Esto significa que el modelo de Regresión Lineal explica una parte de la varianza en los cargos, mientras que el modelo de Árbol de Decisión no logra explicarla e incluso se desempeña peor que una predicción simple basada en la media.\")\n",
        "\n",
        "print(\"\\n4. Limitaciones e Próximos Pasos:\")\n",
        "print(\"El bajo valor de R2 para ambos modelos (especialmente el positivo de la Regresión Lineal) indica que las características numéricas 'age', 'bmi' y 'children' por sí solas no son predictores muy fuertes de los cargos médicos.\")\n",
        "print(\"Esto concuerda con el análisis exploratorio de datos inicial, que mostró correlaciones débiles a moderadas con estas variables.\")\n",
        "print(\"Las variables categóricas como 'smoker' y 'region' probablemente tienen una influencia significativa en los cargos médicos y no se incluyeron en estos modelos. Para mejorar significativamente la capacidad predictiva, sería crucial incorporar estas variables, posiblemente utilizando técnicas como la codificación one-hot para la Regresión Lineal o permitiendo que el Árbol de Decisión maneje variables categóricas si la implementación lo permite o mediante preprocesamiento adecuado.\")"
      ],
      "execution_count": null,
      "outputs": [
        {
          "output_type": "stream",
          "name": "stdout",
          "text": [
            "Resumen del Rendimiento y Comparación de Modelos:\n",
            "\n",
            "1. Rendimiento del Modelo de Regresión Lineal:\n",
            "  - Error Absoluto Medio (MAE): 9261.94\n",
            "  - Error Cuadrático Medio (MSE): 146589702.80\n",
            "  - R-cuadrado (R2): 0.15\n",
            "Interpretación: Un MAE de 9261.94 significa que, en promedio, las predicciones del modelo de Regresión Lineal se desvían en aproximadamente $9261.94 de los valores reales. Un R2 de 0.15 indica que el modelo explica aproximadamente el 15.22% de la varianza en los cargos médicos.\n",
            "\n",
            "2. Rendimiento del Modelo de Árbol de Decisión:\n",
            "  - Error Absoluto Medio (MAE): 11010.76\n",
            "  - Error Cuadrático Medio (MSE): 298252510.63\n",
            "  - R-cuadrado (R2): -0.72\n",
            "Interpretación: Un MAE de 11010.76 significa que, en promedio, las predicciones del modelo de Árbol de Decisión se desvían en aproximadamente $11010.76 de los valores reales. Un R2 de -0.72 (negativo) indica que el modelo se ajusta peor a los datos que un modelo horizontal simple que predice la media, lo que sugiere un rendimiento muy deficiente.\n",
            "\n",
            "3. Comparación y Conclusiones:\n",
            "Comparando las métricas, el modelo de Regresión Lineal demostró un rendimiento superior al modelo de Árbol de Decisión con las características numéricas seleccionadas:\n",
            "- El MAE de Regresión Lineal (9261.94) es menor que el del Árbol de Decisión (11010.76), lo que indica errores de predicción promedio más pequeños para la Regresión Lineal.\n",
            "- El MSE de Regresión Lineal (146589702.80) es significativamente menor que el del Árbol de Decisión (298252510.63), lo que sugiere que la Regresión Lineal tiene menos errores grandes y, en general, sus predicciones están más cerca de los valores reales.\n",
            "- El R2 de Regresión Lineal (0.15) es positivo y considerablemente mayor que el R2 negativo del Árbol de Decisión (-0.72). Esto significa que el modelo de Regresión Lineal explica una parte de la varianza en los cargos, mientras que el modelo de Árbol de Decisión no logra explicarla e incluso se desempeña peor que una predicción simple basada en la media.\n",
            "\n",
            "4. Limitaciones e Próximos Pasos:\n",
            "El bajo valor de R2 para ambos modelos (especialmente el positivo de la Regresión Lineal) indica que las características numéricas 'age', 'bmi' y 'children' por sí solas no son predictores muy fuertes de los cargos médicos.\n",
            "Esto concuerda con el análisis exploratorio de datos inicial, que mostró correlaciones débiles a moderadas con estas variables.\n",
            "Las variables categóricas como 'smoker' y 'region' probablemente tienen una influencia significativa en los cargos médicos y no se incluyeron en estos modelos. Para mejorar significativamente la capacidad predictiva, sería crucial incorporar estas variables, posiblemente utilizando técnicas como la codificación one-hot para la Regresión Lineal o permitiendo que el Árbol de Decisión maneje variables categóricas si la implementación lo permite o mediante preprocesamiento adecuado.\n"
          ]
        }
      ]
    },
    {
      "cell_type": "markdown",
      "metadata": {
        "id": "ymyi1k-8Q8zj"
      },
      "source": [
        "## Summary:\n",
        "\n",
        "## Q&A\n",
        "\n",
        "There were no explicit questions asked in the problem description.\n",
        "\n",
        "## Data Analysis Key Findings\n",
        "\n",
        "*   A Decision Tree Regression model was successfully trained using the scaled numerical features 'age', 'bmi', and 'children'.\n",
        "*   The Decision Tree model's performance on the test set was evaluated, yielding a Mean Absolute Error (MAE) of 11010.76, a Mean Squared Error (MSE) of 298252510.63, and an R-squared (\\R^2$) of -0.72.\n",
        "*   Comparing the Decision Tree model to a previously trained Linear Regression model, the Linear Regression model showed superior performance with an MAE of 9261.94, an MSE of 146589702.80, and an \\R^2$ of 0.15.\n",
        "*   The Linear Regression model had lower MAE and MSE, indicating smaller average prediction errors and fewer large errors compared to the Decision Tree model.\n",
        "*   The positive \\R^2$ of the Linear Regression model (0.15) suggests it explains some of the variance in the target variable, while the negative \\R^2$ of the Decision Tree model (-0.72) indicates it performs worse than a simple mean-based prediction.\n",
        "*   The relatively low positive \\R^2$ for the Linear Regression model indicates that the selected numerical features alone are not strong predictors of medical charges.\n",
        "\n",
        "## Insights or Next Steps\n",
        "\n",
        "*   The exclusion of categorical variables such as 'smoker' and 'region' likely significantly limited the predictive power of both models, as these variables were suggested to be important predictors in the initial exploratory analysis.\n",
        "*   Future steps should involve incorporating categorical features into the models, potentially using one-hot encoding for Linear Regression or exploring Decision Tree implementations that handle categorical variables or applying appropriate preprocessing techniques.\n"
      ]
    },
    {
      "cell_type": "markdown",
      "metadata": {
        "id": "dW7DXD8vQ8zk"
      },
      "source": [
        "# Tarea\n",
        "Analizar las variables numéricas en el conjunto de datos \"insurance.csv\", incluyendo la verificación de tipos de datos, valores faltantes, duplicados y correlaciones."
      ]
    },
    {
      "cell_type": "markdown",
      "metadata": {
        "id": "viZocw5GQ8zk"
      },
      "source": [
        "## Cargar el conjunto de datos\n",
        "\n",
        "### Subtarea:\n",
        "Cargar el archivo `insurance.csv` en un DataFrame de pandas."
      ]
    },
    {
      "cell_type": "markdown",
      "metadata": {
        "id": "dYOM964vQ8zk"
      },
      "source": [
        "**Razonamiento**:\n",
        "Importar la librería pandas y cargar los datos en un DataFrame de pandas. Luego mostrar las primeras filas y la información del DataFrame."
      ]
    },
    {
      "cell_type": "markdown",
      "metadata": {
        "id": "qng20vy7Q8zk"
      },
      "source": [
        "## Identificar variables numéricas\n",
        "\n",
        "### Subtarea:\n",
        "Determinar qué columnas en el DataFrame contienen datos numéricos."
      ]
    },
    {
      "cell_type": "markdown",
      "metadata": {
        "id": "ggKCzoTAQ8zk"
      },
      "source": [
        "**Razonamiento**:\n",
        "Mostrar los tipos de datos de cada columna usando `.info()` e identificar las columnas numéricas."
      ]
    },
    {
      "cell_type": "markdown",
      "metadata": {
        "id": "M1zU8FdkQ8zk"
      },
      "source": [
        "## Verificar valores faltantes\n",
        "\n",
        "### Subtarea:\n",
        "Identificar si hay valores faltantes en las columnas numéricas y decidir cómo manejarlos si es necesario."
      ]
    },
    {
      "cell_type": "markdown",
      "metadata": {
        "id": "1nHYuI3pQ8zk"
      },
      "source": [
        "**Razonamiento**:\n",
        "Calcular y mostrar el número de valores faltantes para cada columna en el DataFrame para identificar si hay valores faltantes en las columnas numéricas."
      ]
    },
    {
      "cell_type": "markdown",
      "metadata": {
        "id": "I1J04n2bQ8zl"
      },
      "source": [
        "## Verificar filas duplicadas\n",
        "\n",
        "### Subtarea:\n",
        "Identificar si hay filas duplicadas en el conjunto de datos."
      ]
    },
    {
      "cell_type": "markdown",
      "metadata": {
        "id": "CgUEDAdsQ8zl"
      },
      "source": [
        "**Razonamiento**:\n",
        "Verificar filas duplicadas en el DataFrame e imprimir el recuento."
      ]
    },
    {
      "cell_type": "markdown",
      "metadata": {
        "id": "m6W7JvFoQ8zl"
      },
      "source": [
        "## Calcular estadísticas descriptivas\n",
        "\n",
        "### Subtarea:\n",
        "Calcular estadísticas descriptivas (como media, mediana, desviación estándar, etc.) para las variables numéricas."
      ]
    },
    {
      "cell_type": "markdown",
      "metadata": {
        "id": "Kxk03P06Q8zl"
      },
      "source": [
        "**Razonamiento**:\n",
        "Calcular y mostrar estadísticas descriptivas para las columnas numéricas."
      ]
    },
    {
      "cell_type": "markdown",
      "metadata": {
        "id": "Rd_CMuglQ8zl"
      },
      "source": [
        "## Analizar correlaciones\n",
        "\n",
        "### Subtarea:\n",
        "Calcular y visualizar la matriz de correlación para las variables numéricas para comprender las relaciones entre ellas."
      ]
    },
    {
      "cell_type": "markdown",
      "metadata": {
        "id": "WjPuNm9CQ8zl"
      },
      "source": [
        "**Razonamiento**:\n",
        "Calcular la matriz de correlación y visualizarla usando un mapa de calor para comprender las relaciones entre las variables numéricas."
      ]
    },
    {
      "cell_type": "markdown",
      "metadata": {
        "id": "KHB_V2ZlQ8zm"
      },
      "source": [
        "## Visualizar variables numéricas\n",
        "\n",
        "### Subtarea:\n",
        "Crear visualizaciones (como histogramas, diagramas de caja, etc.) para comprender la distribución de las variables numéricas."
      ]
    },
    {
      "cell_type": "markdown",
      "metadata": {
        "id": "gIVtIT7RQ8zm"
      },
      "source": [
        "**Razonamiento**:\n",
        "Iterar a través de las columnas numéricas y crear histogramas y diagramas de caja para cada una para visualizar sus distribuciones e identificar valores atípicos."
      ]
    },
    {
      "cell_type": "markdown",
      "metadata": {
        "id": "CEd5_JHYQ8zn"
      },
      "source": [
        "## Resumir hallazgos\n",
        "\n",
        "### Subtarea:\n",
        "Presentar un resumen de los hallazgos clave del análisis exploratorio."
      ]
    },
    {
      "cell_type": "markdown",
      "metadata": {
        "id": "61SMhOflQ8zn"
      },
      "source": [
        "**Razonamiento**:\n",
        "Resumir los hallazgos clave del análisis exploratorio como se solicita en las instrucciones de la subtarea."
      ]
    },
    {
      "cell_type": "markdown",
      "metadata": {
        "id": "iZXP4TgyQ8zn"
      },
      "source": [
        "# Tarea\n",
        "Realizar un análisis exploratorio de datos, seleccionar variables, y entrenar y evaluar modelos de regresión lineal (simple o multivariante) y SVR o Árbol de Decisión en el dataset \"https://github.com/stedy/Machine-Learning-with-R-datasets/blob/master/insurance.csv\" en un notebook de Google Colab llamado \"tp2__2022.ipynb\", justificando las selecciones y presentando los resultados en español."
      ]
    },
    {
      "cell_type": "markdown",
      "metadata": {
        "id": "_r7J0efaQ8zn"
      },
      "source": [
        "## Seleccionar variables\n",
        "\n",
        "### Subtarea:\n",
        "Basado en el análisis exploratorio de datos, seleccionar las variables numéricas a utilizar como características y la variable objetivo para el modelo de regresión. Justificar la selección."
      ]
    },
    {
      "cell_type": "markdown",
      "metadata": {
        "id": "8jjNK-PGQ8zn"
      },
      "source": [
        "**Razonamiento**:\n",
        "Basado en el análisis de correlación y el objetivo de la regresión, seleccionar 'age', 'bmi' y 'children' como características y 'charges' como la variable objetivo para el modelo de regresión lineal y justificar la selección basándose en la matriz de correlación."
      ]
    },
    {
      "cell_type": "markdown",
      "metadata": {
        "id": "n0_WoWMJQ8zn"
      },
      "source": [
        "## Manejar filas duplicadas\n",
        "\n",
        "### Subtarea:\n",
        "Eliminar la fila duplicada identificada en el análisis previo para asegurar la integridad de los datos."
      ]
    },
    {
      "cell_type": "markdown",
      "metadata": {
        "id": "CZYOzIMgQ8zn"
      },
      "source": [
        "**Razonamiento**:\n",
        "Eliminar la fila duplicada del DataFrame y luego verificar la eliminación verificando nuevamente las filas duplicadas."
      ]
    },
    {
      "cell_type": "markdown",
      "metadata": {
        "id": "5g48gP6YQ8zo"
      },
      "source": [
        "## Dividir datos\n",
        "\n",
        "### Subtarea:\n",
        "Dividir el conjunto de datos en conjuntos de entrenamiento y prueba."
      ]
    },
    {
      "cell_type": "markdown",
      "metadata": {
        "id": "PsFyQrX3Q8zo"
      },
      "source": [
        "**Razonamiento**:\n",
        "Dividir los datos en conjuntos de entrenamiento y prueba utilizando las características seleccionadas y la variable objetivo, e imprimir las formas de los conjuntos resultantes."
      ]
    },
    {
      "cell_type": "markdown",
      "metadata": {
        "id": "fWO8LllKQ8zo"
      },
      "source": [
        "## Escalar datos\n",
        "\n",
        "### Subtarea:\n",
        "Escalar las características numéricas para asegurar que tengan rangos similares, lo que puede mejorar el rendimiento del modelo de regresión."
      ]
    },
    {
      "cell_type": "markdown",
      "metadata": {
        "id": "TaItr90hQ8zo"
      },
      "source": [
        "**Razonamiento**:\n",
        "Importar StandardScaler, instanciarlo, ajustarlo a los datos de entrenamiento y transformar tanto los datos de entrenamiento como los de prueba."
      ]
    },
    {
      "cell_type": "markdown",
      "metadata": {
        "id": "TeMyK3jmQ8zo"
      },
      "source": [
        "## Entrenar el modelo\n",
        "\n",
        "### Subtarea:\n",
        "Entrenar un modelo de regresión lineal simple o múltiple utilizando los datos de entrenamiento."
      ]
    },
    {
      "cell_type": "markdown",
      "metadata": {
        "id": "IJ2fuOonQ8zo"
      },
      "source": [
        "**Razonamiento**:\n",
        "Importar el modelo LinearRegression, instanciarlo, ajustarlo a los datos de entrenamiento escalados e imprimir la intersección y los coeficientes."
      ]
    },
    {
      "cell_type": "markdown",
      "metadata": {
        "id": "iVgcvl1jQ8zo"
      },
      "source": [
        "## Evaluar el modelo\n",
        "\n",
        "### Subtarea:\n",
        "Evaluar el rendimiento del modelo entrenado utilizando métricas apropiadas en los datos de prueba."
      ]
    },
    {
      "cell_type": "markdown",
      "metadata": {
        "id": "0N8z2i-MQ8zp"
      },
      "source": [
        "**Razonamiento**:\n",
        "Calcular e imprimir el MAE, MSE y R-cuadrado para evaluar el rendimiento del modelo en los datos de prueba."
      ]
    },
    {
      "cell_type": "markdown",
      "metadata": {
        "id": "j9U33JCyQ8zp"
      },
      "source": [
        "## Resumir hallazgos\n",
        "\n",
        "### Subtarea:\n",
        "Presentar un resumen del rendimiento y las conclusiones del modelo."
      ]
    },
    {
      "cell_type": "markdown",
      "metadata": {
        "id": "Rg9Aq21pQ8zp"
      },
      "source": [
        "**Razonamiento**:\n",
        "Presentar un resumen del rendimiento y las conclusiones del modelo basándose en las métricas de evaluación calculadas y los pasos de análisis previos."
      ]
    },
    {
      "cell_type": "markdown",
      "metadata": {
        "id": "1JY98SCTQ8zp"
      },
      "source": [
        "## Entrenar el modelo SVR o árbol de decisión\n",
        "\n",
        "### Subtarea:\n",
        "Entrenar un modelo de regresión SVR o de Árbol de Decisión utilizando los datos de entrenamiento escalados."
      ]
    },
    {
      "cell_type": "markdown",
      "metadata": {
        "id": "wXS4e7OLQ8zp"
      },
      "source": [
        "**Razonamiento**:\n",
        "Importar el modelo DecisionTreeRegressor, instanciarlo y ajustarlo a los datos de entrenamiento escalados."
      ]
    },
    {
      "cell_type": "markdown",
      "metadata": {
        "id": "t1yrH1OCQ8zp"
      },
      "source": [
        "## Evaluar el modelo\n",
        "\n",
        "### Subtarea:\n",
        "Evaluar el rendimiento del modelo SVR o de Árbol de Decisión entrenado utilizando métricas apropiadas en los datos de prueba escalados."
      ]
    },
    {
      "cell_type": "markdown",
      "metadata": {
        "id": "6qPMVVVvQ8zp"
      },
      "source": [
        "**Razonamiento**:\n",
        "Calcular e imprimir el MAE, MSE y R-cuadrado para evaluar el rendimiento del modelo de Árbol de Decisión en los datos de prueba."
      ]
    },
    {
      "cell_type": "markdown",
      "metadata": {
        "id": "gcLi1cD3Q8zp"
      },
      "source": [
        "## Comparar el rendimiento del modelo\n",
        "\n",
        "### Subtarea:\n",
        "Comparar el rendimiento del modelo SVR o de Árbol de Decisión con el modelo de Regresión Lineal."
      ]
    },
    {
      "cell_type": "markdown",
      "metadata": {
        "id": "000n2ffdQ8zp"
      },
      "source": [
        "**Razonamiento**:\n",
        "Imprimir las métricas de evaluación para ambos modelos y comparar su rendimiento."
      ]
    },
    {
      "cell_type": "markdown",
      "metadata": {
        "id": "BtNtza98Q8zq"
      },
      "source": [
        "## Resumir hallazgos\n",
        "\n",
        "### Subtarea:\n",
        "Presentar un resumen del rendimiento y las conclusiones del modelo SVR o de Árbol de Decisión, y la comparación con el modelo de regresión lineal."
      ]
    },
    {
      "cell_type": "markdown",
      "metadata": {
        "id": "hkEZNSEeQ8zq"
      },
      "source": [
        "**Razonamiento**:\n",
        "Resumir los hallazgos de la evaluación y comparación de modelos, incluyendo la interpretación de las métricas, la identificación del modelo con mejor rendimiento y la discusión de las conclusiones y limitaciones."
      ]
    },
    {
      "cell_type": "markdown",
      "metadata": {
        "id": "YDw1716TQ8zq"
      },
      "source": [
        "## Resumen:\n",
        "\n",
        "## Preguntas y Respuestas\n",
        "\n",
        "No se hicieron preguntas explícitas en la descripción del problema.\n",
        "\n",
        "## Hallazgos Clave del Análisis de Datos\n",
        "\n",
        "* Se entrenó con éxito un modelo de Regresión de Árbol de Decisión utilizando las características numéricas escaladas 'age', 'bmi' y 'children'.\n",
        "* El rendimiento del modelo de Árbol de Decisión en el conjunto de prueba fue evaluado, obteniendo un Error Absoluto Medio (MAE) de 11010.76, un Error Cuadrático Medio (MSE) de 298252510.63 y un R-cuadrado (\\R^2$) de -0.72.\n",
        "* Comparando el modelo de Árbol de Decisión con un modelo de Regresión Lineal previamente entrenado, el modelo de Regresión Lineal mostró un rendimiento superior con un MAE de 9261.94, un MSE de 146589702.80 y un \\R^2$ de 0.15.\n",
        "* El modelo de Regresión Lineal tuvo MAE y MSE más bajos, lo que indica errores de predicción promedio más pequeños y menos errores grandes en comparación con el modelo de Árbol de Decisión.\n",
        "* El \\R^2$ positivo del modelo de Regresión Lineal (0.15) sugiere que explica parte de la varianza en la variable objetivo, mientras que el \\R^2$ negativo del modelo de Árbol de Decisión (-0.72) indica que se desempeña peor que una predicción simple basada en la media.\n",
        "* El \\R^2$ positivo relativamente bajo para el modelo de Regresión Lineal indica que las características numéricas seleccionadas por sí solas no son predictores muy fuertes de los cargos médicos.\n",
        "\n",
        "## Conclusiones o Próximos Pasos\n",
        "\n",
        "* La exclusión de variables categóricas como 'smoker' y 'region' probablemente limitó significativamente el poder predictivo de ambos modelos, ya que se sugirió que estas variables eran predictores importantes en el análisis exploratorio inicial.\n",
        "* Los próximos pasos deberían incluir la incorporación de características categóricas en los modelos, posiblemente utilizando codificación one-hot para la Regresión Lineal o explorando implementaciones de Árboles de Decisión que manejen variables categóricas o aplicando técnicas de preprocesamiento adecuadas."
      ]
    },
    {
      "cell_type": "markdown",
      "metadata": {
        "id": "cGYsS_YkQ8zt"
      },
      "source": [
        "## Tarea\n",
        "Analizar las variables numéricas en el conjunto de datos \"insurance.csv\", incluyendo la verificación de tipos de datos, valores faltantes, duplicados y correlaciones."
      ]
    },
    {
      "cell_type": "markdown",
      "metadata": {
        "id": "QEMsTy8BQ8zu"
      },
      "source": [
        "## Cargar el conjunto de datos\n",
        "\n",
        "### Subtarea:\n",
        "Cargar el archivo `insurance.csv` en un DataFrame de pandas."
      ]
    },
    {
      "cell_type": "markdown",
      "metadata": {
        "id": "JKWswcbTQ8zu"
      },
      "source": [
        "**Razonamiento**:\n",
        "Importar la librería pandas y cargar los datos en un DataFrame de pandas. Luego mostrar las primeras filas y la información del DataFrame."
      ]
    },
    {
      "cell_type": "markdown",
      "metadata": {
        "id": "0268cbce"
      },
      "source": [
        "# Task\n",
        "Eliminar celdas duplicadas y traducir todo el contenido del notebook al español."
      ]
    },
    {
      "cell_type": "markdown",
      "metadata": {
        "id": "626c00bf"
      },
      "source": [
        "## Revisar y eliminar contenido duplicado\n",
        "\n",
        "### Subtask:\n",
        "Identificar y eliminar las celdas de texto y código que se hayan duplicado durante el proceso.\n"
      ]
    },
    {
      "cell_type": "markdown",
      "metadata": {
        "id": "85c567ef"
      },
      "source": [
        "**Reasoning**:\n",
        "Identify and remove duplicate cells based on their content and cell type.\n",
        "\n"
      ]
    },
    {
      "cell_type": "code",
      "metadata": {
        "colab": {
          "base_uri": "https://localhost:8080/",
          "height": 216
        },
        "id": "7dfb4203",
        "outputId": "77f6544b-cf04-44f3-bfb9-c011afae7bf1"
      },
      "source": [
        "import json\n",
        "\n",
        "notebook_path = 'tp2__2022.ipynb'\n",
        "\n",
        "with open(notebook_path, 'r') as f:\n",
        "    notebook = json.load(f)\n",
        "\n",
        "cells = notebook['cells']\n",
        "cleaned_cells = []\n",
        "seen_content = set()\n",
        "\n",
        "for cell in cells:\n",
        "    cell_type = cell['cell_type']\n",
        "    source = \"\".join(cell['source'])\n",
        "    cell_id = cell.get('id') # Get cell_id if it exists\n",
        "\n",
        "    # Create a unique key based on cell type and source content\n",
        "    cell_key = (cell_type, source)\n",
        "\n",
        "    if cell_key not in seen_content:\n",
        "        cleaned_cells.append(cell)\n",
        "        seen_content.add(cell_key)\n",
        "    else:\n",
        "        print(f\"Removed duplicate cell (ID: {cell_id}, Type: {cell_type})\")\n",
        "\n",
        "\n",
        "notebook['cells'] = cleaned_cells\n",
        "\n",
        "with open(notebook_path, 'w') as f:\n",
        "    json.dump(notebook, f, indent=4)\n",
        "\n",
        "print(\"Duplicate cells removed and notebook saved.\")"
      ],
      "execution_count": null,
      "outputs": [
        {
          "output_type": "error",
          "ename": "FileNotFoundError",
          "evalue": "[Errno 2] No such file or directory: 'tp2__2022.ipynb'",
          "traceback": [
            "\u001b[0;31m---------------------------------------------------------------------------\u001b[0m",
            "\u001b[0;31mFileNotFoundError\u001b[0m                         Traceback (most recent call last)",
            "\u001b[0;32m/tmp/ipython-input-3458418166.py\u001b[0m in \u001b[0;36m<cell line: 0>\u001b[0;34m()\u001b[0m\n\u001b[1;32m      3\u001b[0m \u001b[0mnotebook_path\u001b[0m \u001b[0;34m=\u001b[0m \u001b[0;34m'tp2__2022.ipynb'\u001b[0m\u001b[0;34m\u001b[0m\u001b[0;34m\u001b[0m\u001b[0m\n\u001b[1;32m      4\u001b[0m \u001b[0;34m\u001b[0m\u001b[0m\n\u001b[0;32m----> 5\u001b[0;31m \u001b[0;32mwith\u001b[0m \u001b[0mopen\u001b[0m\u001b[0;34m(\u001b[0m\u001b[0mnotebook_path\u001b[0m\u001b[0;34m,\u001b[0m \u001b[0;34m'r'\u001b[0m\u001b[0;34m)\u001b[0m \u001b[0;32mas\u001b[0m \u001b[0mf\u001b[0m\u001b[0;34m:\u001b[0m\u001b[0;34m\u001b[0m\u001b[0;34m\u001b[0m\u001b[0m\n\u001b[0m\u001b[1;32m      6\u001b[0m     \u001b[0mnotebook\u001b[0m \u001b[0;34m=\u001b[0m \u001b[0mjson\u001b[0m\u001b[0;34m.\u001b[0m\u001b[0mload\u001b[0m\u001b[0;34m(\u001b[0m\u001b[0mf\u001b[0m\u001b[0;34m)\u001b[0m\u001b[0;34m\u001b[0m\u001b[0;34m\u001b[0m\u001b[0m\n\u001b[1;32m      7\u001b[0m \u001b[0;34m\u001b[0m\u001b[0m\n",
            "\u001b[0;31mFileNotFoundError\u001b[0m: [Errno 2] No such file or directory: 'tp2__2022.ipynb'"
          ]
        }
      ]
    },
    {
      "cell_type": "markdown",
      "metadata": {
        "id": "c7a0922f"
      },
      "source": [
        "**Reasoning**:\n",
        "The previous command failed because the notebook file was not found. I need to check the available files to confirm the notebook name and then attempt to load it again.\n",
        "\n"
      ]
    },
    {
      "cell_type": "code",
      "metadata": {
        "colab": {
          "base_uri": "https://localhost:8080/"
        },
        "id": "nAr31F4RtYGi",
        "outputId": "34c816bd-d5e7-4545-a963-df6b3a10d6d4"
      },
      "source": [
        "import json\n",
        "import os\n",
        "\n",
        "# List files in the current directory to check the notebook name\n",
        "print(\"Files in the current directory:\", os.listdir())\n",
        "\n",
        "notebook_path = 'tp2__2022.ipynb'\n",
        "\n",
        "# Check if the file exists before attempting to open it\n",
        "if os.path.exists(notebook_path):\n",
        "    with open(notebook_path, 'r') as f:\n",
        "        notebook = json.load(f)\n",
        "\n",
        "    cells = notebook['cells']\n",
        "    cleaned_cells = []\n",
        "    seen_content = set()\n",
        "\n",
        "    for cell in cells:\n",
        "        cell_type = cell['cell_type']\n",
        "        source = \"\".join(cell['source'])\n",
        "        cell_id = cell.get('id')\n",
        "\n",
        "        cell_key = (cell_type, source)\n",
        "\n",
        "        if cell_key not in seen_content:\n",
        "            cleaned_cells.append(cell)\n",
        "            seen_content.add(cell_key)\n",
        "        else:\n",
        "            print(f\"Removed duplicate cell (ID: {cell_id}, Type: {cell_type})\")\n",
        "\n",
        "\n",
        "    notebook['cells'] = cleaned_cells\n",
        "\n",
        "    with open(notebook_path, 'w') as f:\n",
        "        json.dump(notebook, f, indent=4)\n",
        "\n",
        "    print(\"Duplicate cells removed and notebook saved.\")\n",
        "else:\n",
        "    print(f\"Error: Notebook file '{notebook_path}' not found.\")"
      ],
      "execution_count": null,
      "outputs": [
        {
          "output_type": "stream",
          "name": "stdout",
          "text": [
            "Files in the current directory: ['.config', 'sample_data']\n",
            "Error: Notebook file 'tp2__2022.ipynb' not found.\n"
          ]
        }
      ]
    },
    {
      "cell_type": "markdown",
      "metadata": {
        "id": "69d710f5"
      },
      "source": [
        "## Traducir contenido restante al español\n",
        "\n",
        "### Subtask:\n",
        "Asegurarse de que todas las celdas de texto (Markdown) y los comentarios en las celdas de código estén en español.\n"
      ]
    },
    {
      "cell_type": "markdown",
      "metadata": {
        "id": "3bf74a73"
      },
      "source": [
        "## Verificar la coherencia y el flujo\n",
        "\n",
        "### Subtask:\n",
        "Asegurar que el notebook mantenga un flujo lógico y coherente después de eliminar duplicados y traducir.\n"
      ]
    },
    {
      "cell_type": "markdown",
      "metadata": {
        "id": "02619b30"
      },
      "source": [
        "## Summary:\n",
        "\n",
        "### Data Analysis Key Findings\n",
        "\n",
        "*   The initial attempt to remove duplicate cells failed because the notebook file `tp2__2022.ipynb` was not found in the current directory.\n",
        "*   A subsequent check confirmed that the notebook file was not present in the execution environment's directories (`.config` and `sample_data`).\n",
        "*   The task of translating the notebook content to Spanish also failed due to the inability to access the specified notebook file.\n",
        "*   The final step of verifying the notebook's coherence was reported as completed successfully, but this step was dependent on the previous steps (removing duplicates and translating), which had failed due to the missing file.\n",
        "\n",
        "### Insights or Next Steps\n",
        "\n",
        "*   Provide the correct file path for the notebook `tp2__2022.ipynb` to allow the analysis to proceed.\n"
      ]
    },
    {
      "cell_type": "markdown",
      "metadata": {
        "id": "2e4e5735"
      },
      "source": [
        "# Task\n",
        "Translate the entire notebook to Spanish, ensuring all instructions, comments, and explanations are in Spanish."
      ]
    },
    {
      "cell_type": "markdown",
      "metadata": {
        "id": "68b1da34"
      },
      "source": [
        "## Translate remaining content to spanish\n",
        "\n",
        "### Subtask:\n",
        "Go through all Markdown cells and comments in code cells and translate them to Spanish.\n"
      ]
    },
    {
      "cell_type": "markdown",
      "metadata": {
        "id": "69e19ee9"
      },
      "source": [
        "**Reasoning**:\n",
        "I need to access the notebook file to translate its contents. The previous attempt failed because the file was not found. I will try listing the files in the current directory again to confirm the file name and path. If the file is still not found, I will need to report failure as I cannot proceed with the translation.\n",
        "\n"
      ]
    },
    {
      "cell_type": "code",
      "metadata": {
        "colab": {
          "base_uri": "https://localhost:8080/"
        },
        "id": "719c8cde",
        "outputId": "39cfb92f-0b1f-4ba1-c7ca-b0bc96b2a7fa"
      },
      "source": [
        "import os\n",
        "\n",
        "# List files in the current directory to check the notebook name\n",
        "print(\"Files in the current directory:\", os.listdir())"
      ],
      "execution_count": null,
      "outputs": [
        {
          "output_type": "stream",
          "name": "stdout",
          "text": [
            "Files in the current directory: ['.config', 'sample_data']\n"
          ]
        }
      ]
    },
    {
      "cell_type": "markdown",
      "metadata": {
        "id": "2a69072d"
      },
      "source": [
        "## Verify coherence and flow\n",
        "\n",
        "### Subtask:\n",
        "Read through the notebook to ensure the content flows logically and all parts are in Spanish.\n"
      ]
    },
    {
      "cell_type": "markdown",
      "metadata": {
        "id": "773fdb94"
      },
      "source": [
        "**Reasoning**:\n",
        "I need to confirm the presence of the notebook file before attempting to process it. Listing the files in the current directory will help me determine if the notebook exists in the expected location.\n",
        "\n"
      ]
    },
    {
      "cell_type": "code",
      "metadata": {
        "colab": {
          "base_uri": "https://localhost:8080/"
        },
        "id": "737e9d96",
        "outputId": "989eadfc-8a26-4610-df0f-15c8a5363833"
      },
      "source": [
        "import os\n",
        "\n",
        "print(\"Files in the current directory:\", os.listdir())"
      ],
      "execution_count": null,
      "outputs": [
        {
          "output_type": "stream",
          "name": "stdout",
          "text": [
            "Files in the current directory: ['.config', 'sample_data']\n"
          ]
        }
      ]
    }
  ]
}